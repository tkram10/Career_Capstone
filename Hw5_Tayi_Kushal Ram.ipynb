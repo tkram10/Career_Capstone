{
 "cells": [
  {
   "cell_type": "markdown",
   "metadata": {
    "application/vnd.databricks.v1+cell": {
     "cellMetadata": {},
     "inputWidgets": {},
     "nuid": "382f0218-8c36-40c4-8475-deeb2c9de9e9",
     "showTitle": false,
     "title": ""
    }
   },
   "source": [
    "##Task 0"
   ]
  },
  {
   "cell_type": "markdown",
   "metadata": {
    "application/vnd.databricks.v1+cell": {
     "cellMetadata": {},
     "inputWidgets": {},
     "nuid": "0e762028-63f0-4afc-a265-cf360c2be062",
     "showTitle": false,
     "title": ""
    }
   },
   "source": [
    "###Exercise 5 Completed By - Kushal Ram Tayi"
   ]
  },
  {
   "cell_type": "code",
   "execution_count": 0,
   "metadata": {
    "application/vnd.databricks.v1+cell": {
     "cellMetadata": {
      "byteLimit": 2048000,
      "rowLimit": 10000
     },
     "inputWidgets": {},
     "nuid": "cf62b556-a47e-4e74-b618-7b6c6ae3ad6f",
     "showTitle": false,
     "title": ""
    }
   },
   "outputs": [],
   "source": [
    "import pyspark.sql.functions as F\n",
    "from pyspark.sql.types import *"
   ]
  },
  {
   "cell_type": "markdown",
   "metadata": {
    "application/vnd.databricks.v1+cell": {
     "cellMetadata": {},
     "inputWidgets": {},
     "nuid": "43482af7-5958-4902-8c4c-7ad50850d3ab",
     "showTitle": false,
     "title": ""
    }
   },
   "source": [
    "##Task 1"
   ]
  },
  {
   "cell_type": "code",
   "execution_count": 0,
   "metadata": {
    "application/vnd.databricks.v1+cell": {
     "cellMetadata": {
      "byteLimit": 2048000,
      "rowLimit": 10000
     },
     "inputWidgets": {},
     "nuid": "0785d13d-cdf5-49c0-872a-322220637443",
     "showTitle": false,
     "title": ""
    }
   },
   "outputs": [],
   "source": [
    "# Display the content of a directory that contains the data "
   ]
  },
  {
   "cell_type": "code",
   "execution_count": 0,
   "metadata": {
    "application/vnd.databricks.v1+cell": {
     "cellMetadata": {
      "byteLimit": 2048000,
      "rowLimit": 10000
     },
     "inputWidgets": {},
     "nuid": "94f0cdbd-180e-43e2-8c0b-09d8b318f05b",
     "showTitle": false,
     "title": ""
    }
   },
   "outputs": [
    {
     "output_type": "display_data",
     "data": {
      "text/html": [
       "<style scoped>\n",
       "  .table-result-container {\n",
       "    max-height: 300px;\n",
       "    overflow: auto;\n",
       "  }\n",
       "  table, th, td {\n",
       "    border: 1px solid black;\n",
       "    border-collapse: collapse;\n",
       "  }\n",
       "  th, td {\n",
       "    padding: 5px;\n",
       "  }\n",
       "  th {\n",
       "    text-align: left;\n",
       "  }\n",
       "</style><div class='table-result-container'><table class='table-result'><thead style='background-color: white'><tr><th>path</th><th>name</th><th>size</th><th>modificationTime</th></tr></thead><tbody><tr><td>dbfs:/databricks-datasets/definitive-guide/data/flight-data/csv/2010-summary.csv</td><td>2010-summary.csv</td><td>7121</td><td>1522192049000</td></tr><tr><td>dbfs:/databricks-datasets/definitive-guide/data/flight-data/csv/2011-summary.csv</td><td>2011-summary.csv</td><td>7069</td><td>1522192049000</td></tr><tr><td>dbfs:/databricks-datasets/definitive-guide/data/flight-data/csv/2012-summary.csv</td><td>2012-summary.csv</td><td>6857</td><td>1522192049000</td></tr><tr><td>dbfs:/databricks-datasets/definitive-guide/data/flight-data/csv/2013-summary.csv</td><td>2013-summary.csv</td><td>7020</td><td>1522192050000</td></tr><tr><td>dbfs:/databricks-datasets/definitive-guide/data/flight-data/csv/2014-summary.csv</td><td>2014-summary.csv</td><td>6729</td><td>1522192050000</td></tr><tr><td>dbfs:/databricks-datasets/definitive-guide/data/flight-data/csv/2015-summary.csv</td><td>2015-summary.csv</td><td>7080</td><td>1522192050000</td></tr></tbody></table></div>"
      ]
     },
     "metadata": {
      "application/vnd.databricks.v1+output": {
       "addedWidgets": {},
       "aggData": [],
       "aggError": "",
       "aggOverflow": false,
       "aggSchema": [],
       "aggSeriesLimitReached": false,
       "aggType": "",
       "arguments": {},
       "columnCustomDisplayInfos": {},
       "data": [
        [
         "dbfs:/databricks-datasets/definitive-guide/data/flight-data/csv/2010-summary.csv",
         "2010-summary.csv",
         7121,
         1522192049000
        ],
        [
         "dbfs:/databricks-datasets/definitive-guide/data/flight-data/csv/2011-summary.csv",
         "2011-summary.csv",
         7069,
         1522192049000
        ],
        [
         "dbfs:/databricks-datasets/definitive-guide/data/flight-data/csv/2012-summary.csv",
         "2012-summary.csv",
         6857,
         1522192049000
        ],
        [
         "dbfs:/databricks-datasets/definitive-guide/data/flight-data/csv/2013-summary.csv",
         "2013-summary.csv",
         7020,
         1522192050000
        ],
        [
         "dbfs:/databricks-datasets/definitive-guide/data/flight-data/csv/2014-summary.csv",
         "2014-summary.csv",
         6729,
         1522192050000
        ],
        [
         "dbfs:/databricks-datasets/definitive-guide/data/flight-data/csv/2015-summary.csv",
         "2015-summary.csv",
         7080,
         1522192050000
        ]
       ],
       "datasetInfos": [],
       "dbfsResultPath": null,
       "isJsonSchema": true,
       "metadata": {
        "isDbfsCommandResult": false
       },
       "overflow": false,
       "plotOptions": {
        "customPlotOptions": {},
        "displayType": "table",
        "pivotAggregation": null,
        "pivotColumns": null,
        "xColumns": null,
        "yColumns": null
       },
       "removedWidgets": [],
       "schema": [
        {
         "metadata": "{}",
         "name": "path",
         "type": "\"string\""
        },
        {
         "metadata": "{}",
         "name": "name",
         "type": "\"string\""
        },
        {
         "metadata": "{}",
         "name": "size",
         "type": "\"long\""
        },
        {
         "metadata": "{}",
         "name": "modificationTime",
         "type": "\"long\""
        }
       ],
       "type": "table"
      }
     },
     "output_type": "display_data"
    }
   ],
   "source": [
    "%fs ls dbfs:/databricks-datasets/definitive-guide/data/flight-data/csv/"
   ]
  },
  {
   "cell_type": "code",
   "execution_count": 0,
   "metadata": {
    "application/vnd.databricks.v1+cell": {
     "cellMetadata": {
      "byteLimit": 2048000,
      "rowLimit": 10000
     },
     "inputWidgets": {},
     "nuid": "5d6841a4-af63-4aa4-96e2-3f40eaf9a4c3",
     "showTitle": false,
     "title": ""
    }
   },
   "outputs": [
    {
     "output_type": "display_data",
     "data": {
      "text/html": [
       "<style scoped>\n",
       "  .table-result-container {\n",
       "    max-height: 300px;\n",
       "    overflow: auto;\n",
       "  }\n",
       "  table, th, td {\n",
       "    border: 1px solid black;\n",
       "    border-collapse: collapse;\n",
       "  }\n",
       "  th, td {\n",
       "    padding: 5px;\n",
       "  }\n",
       "  th {\n",
       "    text-align: left;\n",
       "  }\n",
       "</style><div class='table-result-container'><table class='table-result'><thead style='background-color: white'><tr><th>path</th><th>name</th><th>size</th><th>modificationTime</th></tr></thead><tbody><tr><td>dbfs:/databricks-datasets/definitive-guide/data/flight-data/csv/2010-summary.csv</td><td>2010-summary.csv</td><td>7121</td><td>1522192049000</td></tr><tr><td>dbfs:/databricks-datasets/definitive-guide/data/flight-data/csv/2011-summary.csv</td><td>2011-summary.csv</td><td>7069</td><td>1522192049000</td></tr><tr><td>dbfs:/databricks-datasets/definitive-guide/data/flight-data/csv/2012-summary.csv</td><td>2012-summary.csv</td><td>6857</td><td>1522192049000</td></tr><tr><td>dbfs:/databricks-datasets/definitive-guide/data/flight-data/csv/2013-summary.csv</td><td>2013-summary.csv</td><td>7020</td><td>1522192050000</td></tr><tr><td>dbfs:/databricks-datasets/definitive-guide/data/flight-data/csv/2014-summary.csv</td><td>2014-summary.csv</td><td>6729</td><td>1522192050000</td></tr><tr><td>dbfs:/databricks-datasets/definitive-guide/data/flight-data/csv/2015-summary.csv</td><td>2015-summary.csv</td><td>7080</td><td>1522192050000</td></tr></tbody></table></div>"
      ]
     },
     "metadata": {
      "application/vnd.databricks.v1+output": {
       "addedWidgets": {},
       "aggData": [],
       "aggError": "",
       "aggOverflow": false,
       "aggSchema": [],
       "aggSeriesLimitReached": false,
       "aggType": "",
       "arguments": {},
       "columnCustomDisplayInfos": {},
       "data": [
        [
         "dbfs:/databricks-datasets/definitive-guide/data/flight-data/csv/2010-summary.csv",
         "2010-summary.csv",
         7121,
         1522192049000
        ],
        [
         "dbfs:/databricks-datasets/definitive-guide/data/flight-data/csv/2011-summary.csv",
         "2011-summary.csv",
         7069,
         1522192049000
        ],
        [
         "dbfs:/databricks-datasets/definitive-guide/data/flight-data/csv/2012-summary.csv",
         "2012-summary.csv",
         6857,
         1522192049000
        ],
        [
         "dbfs:/databricks-datasets/definitive-guide/data/flight-data/csv/2013-summary.csv",
         "2013-summary.csv",
         7020,
         1522192050000
        ],
        [
         "dbfs:/databricks-datasets/definitive-guide/data/flight-data/csv/2014-summary.csv",
         "2014-summary.csv",
         6729,
         1522192050000
        ],
        [
         "dbfs:/databricks-datasets/definitive-guide/data/flight-data/csv/2015-summary.csv",
         "2015-summary.csv",
         7080,
         1522192050000
        ]
       ],
       "datasetInfos": [],
       "dbfsResultPath": null,
       "isJsonSchema": true,
       "metadata": {},
       "overflow": false,
       "plotOptions": {
        "customPlotOptions": {},
        "displayType": "table",
        "pivotAggregation": null,
        "pivotColumns": null,
        "xColumns": null,
        "yColumns": null
       },
       "removedWidgets": [],
       "schema": [
        {
         "metadata": "{}",
         "name": "path",
         "type": "\"string\""
        },
        {
         "metadata": "{}",
         "name": "name",
         "type": "\"string\""
        },
        {
         "metadata": "{}",
         "name": "size",
         "type": "\"long\""
        },
        {
         "metadata": "{}",
         "name": "modificationTime",
         "type": "\"long\""
        }
       ],
       "type": "table"
      }
     },
     "output_type": "display_data"
    }
   ],
   "source": [
    "path = \"dbfs:/databricks-datasets/definitive-guide/data/flight-data/csv/\"\n",
    "files = dbutils.fs.ls(path)\n",
    "display(files)\n"
   ]
  },
  {
   "cell_type": "markdown",
   "metadata": {
    "application/vnd.databricks.v1+cell": {
     "cellMetadata": {},
     "inputWidgets": {},
     "nuid": "e7a6eda8-ecf0-41f8-9544-fb537ed59a43",
     "showTitle": false,
     "title": ""
    }
   },
   "source": [
    "##Task 2"
   ]
  },
  {
   "cell_type": "code",
   "execution_count": 0,
   "metadata": {
    "application/vnd.databricks.v1+cell": {
     "cellMetadata": {
      "byteLimit": 2048000,
      "rowLimit": 10000
     },
     "inputWidgets": {},
     "nuid": "108c0333-c45c-4bb0-981d-dc62c2848354",
     "showTitle": false,
     "title": ""
    }
   },
   "outputs": [],
   "source": [
    "# Read and view schema of two .csv files"
   ]
  },
  {
   "cell_type": "code",
   "execution_count": 0,
   "metadata": {
    "application/vnd.databricks.v1+cell": {
     "cellMetadata": {
      "byteLimit": 2048000,
      "rowLimit": 10000
     },
     "inputWidgets": {},
     "nuid": "abce5841-9069-458f-a8da-8379a5470a82",
     "showTitle": false,
     "title": ""
    }
   },
   "outputs": [],
   "source": [
    "flight2015DF = spark.read.csv(\"dbfs:/databricks-datasets/definitive-guide/data/flight-data/csv/2015-summary.csv\", header=True, inferSchema=False)"
   ]
  },
  {
   "cell_type": "code",
   "execution_count": 0,
   "metadata": {
    "application/vnd.databricks.v1+cell": {
     "cellMetadata": {
      "byteLimit": 2048000,
      "rowLimit": 10000
     },
     "inputWidgets": {},
     "nuid": "1979e451-c1f6-464c-a237-dbd0acda0bf2",
     "showTitle": false,
     "title": ""
    }
   },
   "outputs": [
    {
     "output_type": "stream",
     "name": "stdout",
     "output_type": "stream",
     "text": [
      "root\n |-- DEST_COUNTRY_NAME: string (nullable = true)\n |-- ORIGIN_COUNTRY_NAME: string (nullable = true)\n |-- count: string (nullable = true)\n\n"
     ]
    }
   ],
   "source": [
    "flight2015DF.printSchema()"
   ]
  },
  {
   "cell_type": "code",
   "execution_count": 0,
   "metadata": {
    "application/vnd.databricks.v1+cell": {
     "cellMetadata": {
      "byteLimit": 2048000,
      "rowLimit": 10000
     },
     "inputWidgets": {},
     "nuid": "5dad2747-e415-4849-ac50-920da416f8f9",
     "showTitle": false,
     "title": ""
    }
   },
   "outputs": [],
   "source": [
    "flight2015DF = spark.read.csv(\"dbfs:/databricks-datasets/definitive-guide/data/flight-data/csv/2015-summary.csv\", header=True, inferSchema=True)"
   ]
  },
  {
   "cell_type": "code",
   "execution_count": 0,
   "metadata": {
    "application/vnd.databricks.v1+cell": {
     "cellMetadata": {
      "byteLimit": 2048000,
      "rowLimit": 10000
     },
     "inputWidgets": {},
     "nuid": "f37a42a1-a8f2-4a19-8e65-62833cc19a5a",
     "showTitle": false,
     "title": ""
    }
   },
   "outputs": [
    {
     "output_type": "stream",
     "name": "stdout",
     "output_type": "stream",
     "text": [
      "root\n |-- DEST_COUNTRY_NAME: string (nullable = true)\n |-- ORIGIN_COUNTRY_NAME: string (nullable = true)\n |-- count: integer (nullable = true)\n\n"
     ]
    }
   ],
   "source": [
    "flight2015DF.printSchema()"
   ]
  },
  {
   "cell_type": "code",
   "execution_count": 0,
   "metadata": {
    "application/vnd.databricks.v1+cell": {
     "cellMetadata": {
      "byteLimit": 2048000,
      "rowLimit": 10000
     },
     "inputWidgets": {},
     "nuid": "40d55bea-e439-494d-9426-ef2275f1bc91",
     "showTitle": false,
     "title": ""
    }
   },
   "outputs": [],
   "source": [
    "flight2014DF = spark.read.csv(\"dbfs:/databricks-datasets/definitive-guide/data/flight-data/csv/2014-summary.csv\", header=True, inferSchema=True)"
   ]
  },
  {
   "cell_type": "markdown",
   "metadata": {
    "application/vnd.databricks.v1+cell": {
     "cellMetadata": {},
     "inputWidgets": {},
     "nuid": "3215379e-e427-4ff7-90ea-218b6754022f",
     "showTitle": false,
     "title": ""
    }
   },
   "source": [
    "##Task 3"
   ]
  },
  {
   "cell_type": "code",
   "execution_count": 0,
   "metadata": {
    "application/vnd.databricks.v1+cell": {
     "cellMetadata": {
      "byteLimit": 2048000,
      "rowLimit": 10000
     },
     "inputWidgets": {},
     "nuid": "9d8b70d2-e565-482c-8cd7-87a118ea4a9b",
     "showTitle": false,
     "title": ""
    }
   },
   "outputs": [],
   "source": [
    "# Combine two Dataframes and read in all .csv files"
   ]
  },
  {
   "cell_type": "code",
   "execution_count": 0,
   "metadata": {
    "application/vnd.databricks.v1+cell": {
     "cellMetadata": {
      "byteLimit": 2048000,
      "rowLimit": 10000
     },
     "inputWidgets": {},
     "nuid": "443f53d8-919f-49db-93e1-6a78de824135",
     "showTitle": false,
     "title": ""
    }
   },
   "outputs": [],
   "source": [
    "combined_Dataframe = flight2015DF.union(flight2014DF)"
   ]
  },
  {
   "cell_type": "code",
   "execution_count": 0,
   "metadata": {
    "application/vnd.databricks.v1+cell": {
     "cellMetadata": {
      "byteLimit": 2048000,
      "rowLimit": 10000
     },
     "inputWidgets": {},
     "nuid": "fc27d772-3c77-4995-bebb-d4707769ff06",
     "showTitle": false,
     "title": ""
    }
   },
   "outputs": [
    {
     "output_type": "stream",
     "name": "stdout",
     "output_type": "stream",
     "text": [
      "Number of rows in the combined DataFrame:  497\n"
     ]
    }
   ],
   "source": [
    "count_combined_Dataframe = combined_Dataframe.count()\n",
    "print(\"Number of rows in the combined DataFrame: \", count_combined_Dataframe)"
   ]
  },
  {
   "cell_type": "code",
   "execution_count": 0,
   "metadata": {
    "application/vnd.databricks.v1+cell": {
     "cellMetadata": {
      "byteLimit": 2048000,
      "rowLimit": 10000
     },
     "inputWidgets": {},
     "nuid": "48070338-7b3b-4fd4-b521-c578123a0af6",
     "showTitle": false,
     "title": ""
    }
   },
   "outputs": [],
   "source": [
    "flightsAllDF = spark.read.csv(\"dbfs:/databricks-datasets/definitive-guide/data/flight-data/csv/*.csv\", header=True, inferSchema=True)"
   ]
  },
  {
   "cell_type": "markdown",
   "metadata": {
    "application/vnd.databricks.v1+cell": {
     "cellMetadata": {},
     "inputWidgets": {},
     "nuid": "3c7900dd-edf9-4b2f-82bd-572090f4609d",
     "showTitle": false,
     "title": ""
    }
   },
   "source": [
    "##Task 4"
   ]
  },
  {
   "cell_type": "code",
   "execution_count": 0,
   "metadata": {
    "application/vnd.databricks.v1+cell": {
     "cellMetadata": {
      "byteLimit": 2048000,
      "rowLimit": 10000
     },
     "inputWidgets": {},
     "nuid": "5b00ba65-13e4-46bf-9b04-59f0243338af",
     "showTitle": false,
     "title": ""
    }
   },
   "outputs": [],
   "source": [
    "# Read in all .csv files using a custom schema"
   ]
  },
  {
   "cell_type": "code",
   "execution_count": 0,
   "metadata": {
    "application/vnd.databricks.v1+cell": {
     "cellMetadata": {
      "byteLimit": 2048000,
      "rowLimit": 10000
     },
     "inputWidgets": {},
     "nuid": "3e00aac4-7d7d-4203-a112-a3a281dd3cf7",
     "showTitle": false,
     "title": ""
    }
   },
   "outputs": [],
   "source": [
    "myschema = StructType([\n",
    "    StructField(\"dest\", StringType()),\n",
    "    StructField(\"origin\", StringType()),\n",
    "    StructField(\"count\", LongType())\n",
    "])\n",
    "\n",
    "# Read in the files with the custom schema\n",
    "flightsAllDF = spark.read.csv(\"dbfs:/databricks-datasets/definitive-guide/data/flight-data/csv/*.csv\", header=True, inferSchema=False, schema=myschema)"
   ]
  },
  {
   "cell_type": "code",
   "execution_count": 0,
   "metadata": {
    "application/vnd.databricks.v1+cell": {
     "cellMetadata": {
      "byteLimit": 2048000,
      "rowLimit": 10000
     },
     "inputWidgets": {},
     "nuid": "74986d5d-a9e1-4693-9e9e-7844d6d506bf",
     "showTitle": false,
     "title": ""
    }
   },
   "outputs": [
    {
     "output_type": "stream",
     "name": "stdout",
     "output_type": "stream",
     "text": [
      "root\n |-- dest: string (nullable = true)\n |-- origin: string (nullable = true)\n |-- count: long (nullable = true)\n\n"
     ]
    }
   ],
   "source": [
    "flightsAllDF.printSchema()"
   ]
  },
  {
   "cell_type": "code",
   "execution_count": 0,
   "metadata": {
    "application/vnd.databricks.v1+cell": {
     "cellMetadata": {
      "byteLimit": 2048000,
      "rowLimit": 10000
     },
     "inputWidgets": {},
     "nuid": "5a22b09a-85b4-4aae-b61c-e86286300a7d",
     "showTitle": false,
     "title": ""
    }
   },
   "outputs": [
    {
     "output_type": "stream",
     "name": "stdout",
     "output_type": "stream",
     "text": [
      "Number of rows in flightsAllDF: 1502\nNumber of distinct rows in flightsAllDF: 1328\n"
     ]
    }
   ],
   "source": [
    "count_flightsAllDF = flightsAllDF.count()\n",
    "distinct_count_flightsAllDF = flightsAllDF.distinct().count()\n",
    "\n",
    "print(\"Number of rows in flightsAllDF:\", count_flightsAllDF)\n",
    "print(\"Number of distinct rows in flightsAllDF:\", distinct_count_flightsAllDF)"
   ]
  },
  {
   "cell_type": "markdown",
   "metadata": {
    "application/vnd.databricks.v1+cell": {
     "cellMetadata": {},
     "inputWidgets": {},
     "nuid": "1dad6884-ec68-41bb-a49a-f91bc5db6d4d",
     "showTitle": false,
     "title": ""
    }
   },
   "source": [
    "## Task 5"
   ]
  },
  {
   "cell_type": "code",
   "execution_count": 0,
   "metadata": {
    "application/vnd.databricks.v1+cell": {
     "cellMetadata": {
      "byteLimit": 2048000,
      "rowLimit": 10000
     },
     "inputWidgets": {},
     "nuid": "95708f94-4d95-4d72-b7da-993c0572edcf",
     "showTitle": false,
     "title": ""
    }
   },
   "outputs": [],
   "source": [
    "# View the DF"
   ]
  },
  {
   "cell_type": "code",
   "execution_count": 0,
   "metadata": {
    "application/vnd.databricks.v1+cell": {
     "cellMetadata": {
      "byteLimit": 2048000,
      "rowLimit": 10000
     },
     "inputWidgets": {},
     "nuid": "239027b1-4383-4107-ae0b-17238cb319ee",
     "showTitle": false,
     "title": ""
    }
   },
   "outputs": [
    {
     "output_type": "stream",
     "name": "stdout",
     "output_type": "stream",
     "text": [
      "Row(dest='United States', origin='Romania', count=1)\nRow(dest='United States', origin='Ireland', count=264)\nRow(dest='United States', origin='India', count=69)\nRow(dest='Egypt', origin='United States', count=24)\nRow(dest='Equatorial Guinea', origin='United States', count=1)\nRow(dest='United States', origin='Singapore', count=25)\nRow(dest='United States', origin='Grenada', count=54)\nRow(dest='Costa Rica', origin='United States', count=477)\nRow(dest='Senegal', origin='United States', count=29)\nRow(dest='United States', origin='Marshall Islands', count=44)\nRow(dest='Guyana', origin='United States', count=17)\nRow(dest='United States', origin='Sint Maarten', count=53)\nRow(dest='Malta', origin='United States', count=1)\nRow(dest='Bolivia', origin='United States', count=46)\nRow(dest='Anguilla', origin='United States', count=21)\nRow(dest='Turks and Caicos Islands', origin='United States', count=136)\nRow(dest='United States', origin='Afghanistan', count=2)\nRow(dest='Saint Vincent and the Grenadines', origin='United States', count=1)\nRow(dest='Italy', origin='United States', count=390)\nRow(dest='United States', origin='Russia', count=156)\nRow(dest='United States', origin='Federated States of Micronesia', count=48)\nRow(dest='Pakistan', origin='United States', count=9)\nRow(dest='United States', origin='Netherlands', count=570)\nRow(dest='Iceland', origin='United States', count=118)\nRow(dest='Marshall Islands', origin='United States', count=77)\nRow(dest='Luxembourg', origin='United States', count=91)\nRow(dest='Honduras', origin='United States', count=391)\nRow(dest='The Bahamas', origin='United States', count=903)\nRow(dest='El Salvador', origin='United States', count=519)\nRow(dest='United States', origin='Senegal', count=46)\nRow(dest='Samoa', origin='United States', count=28)\nRow(dest='United States', origin='Angola', count=18)\nRow(dest='Kazakhstan', origin='United States', count=3)\nRow(dest='Switzerland', origin='United States', count=315)\nRow(dest='United States', origin='Anguilla', count=20)\nRow(dest='Sint Maarten', origin='United States', count=61)\nRow(dest='Hong Kong', origin='United States', count=252)\nRow(dest='Trinidad and Tobago', origin='United States', count=187)\nRow(dest='Latvia', origin='United States', count=12)\nRow(dest='United States', origin='Ecuador', count=345)\nRow(dest='Slovakia', origin='United States', count=1)\nRow(dest='Suriname', origin='United States', count=12)\nRow(dest='Mexico', origin='United States', count=6200)\nRow(dest='United States', origin='Cyprus', count=1)\nRow(dest='Ecuador', origin='United States', count=272)\nRow(dest='United States', origin='Bosnia and Herzegovina', count=1)\nRow(dest='United States', origin='Portugal', count=104)\nRow(dest='United States', origin='Costa Rica', count=501)\nRow(dest='United States', origin='Guatemala', count=333)\nRow(dest='United States', origin='Suriname', count=13)\nRow(dest='Colombia', origin='United States', count=785)\nRow(dest='United States', origin='Cape Verde', count=18)\nRow(dest='United States', origin='Jamaica', count=757)\nRow(dest='United States', origin='Malaysia', count=3)\nRow(dest='Norway', origin='United States', count=29)\nRow(dest='United States', origin='Morocco', count=16)\nRow(dest='Thailand', origin='United States', count=16)\nRow(dest='Venezuela', origin='United States', count=377)\nRow(dest='United States', origin='Palau', count=30)\nRow(dest='United States', origin='Samoa', count=28)\nRow(dest='United States', origin='Algeria', count=1)\nRow(dest='United States', origin='Venezuela', count=341)\nRow(dest='Panama', origin='United States', count=355)\nRow(dest='United States', origin='Finland', count=20)\nRow(dest='United States', origin='Chile', count=176)\nRow(dest='Morocco', origin='United States', count=16)\nRow(dest='United States', origin='Greece', count=61)\nRow(dest='Antigua and Barbuda', origin='United States', count=123)\nRow(dest='Azerbaijan', origin='United States', count=1)\nRow(dest='United States', origin='The Bahamas', count=959)\nRow(dest='New Zealand', origin='United States', count=86)\nRow(dest='Liberia', origin='United States', count=1)\nRow(dest='United States', origin='Hong Kong', count=293)\nRow(dest='Hungary', origin='United States', count=14)\nRow(dest='United States', origin='China', count=505)\nRow(dest='United States', origin='Vietnam', count=1)\nRow(dest='Sweden', origin='United States', count=65)\nRow(dest='United States', origin='Kuwait', count=25)\nRow(dest='United States', origin='Dominican Republic', count=1150)\nRow(dest='United States', origin='Egypt', count=25)\nRow(dest='Israel', origin='United States', count=117)\nRow(dest='United States', origin='United States', count=348113)\nRow(dest='United States', origin='Luxembourg', count=90)\nRow(dest='Ethiopia', origin='United States', count=12)\nRow(dest='United States', origin='Poland', count=61)\nRow(dest='Martinique', origin='United States', count=23)\nRow(dest='Saint Barthelemy', origin='United States', count=28)\nRow(dest='United States', origin='Saint Barthelemy', count=29)\nRow(dest='United States', origin='Turkey', count=87)\nRow(dest='Barbados', origin='United States', count=130)\nRow(dest='United States', origin='Estonia', count=1)\nRow(dest='United States', origin='Azerbaijan', count=1)\nRow(dest='Germany', origin='United States', count=1392)\nRow(dest='Kyrgyzstan', origin='United States', count=2)\nRow(dest='United States', origin='South Korea', count=621)\nRow(dest='United States', origin='El Salvador', count=464)\nRow(dest='Ireland', origin='United States', count=231)\nRow(dest='United States', origin='Hungary', count=15)\nRow(dest='United States', origin='Serbia', count=1)\nRow(dest='Malaysia', origin='United States', count=1)\nRow(dest='United States', origin='Panama', count=363)\nRow(dest='United States', origin='Ethiopia', count=12)\nRow(dest='United States', origin='Aruba', count=349)\nRow(dest='United States', origin='Thailand', count=13)\nRow(dest='United States', origin='Netherlands Antilles', count=289)\nRow(dest='United States', origin='Turks and Caicos Islands', count=147)\nRow(dest='Cyprus', origin='United States', count=2)\nRow(dest='United States', origin='Pakistan', count=15)\nRow(dest='United States', origin='Honduras', count=393)\nRow(dest='Qatar', origin='United States', count=41)\nRow(dest='Fiji', origin='United States', count=53)\nRow(dest='Saint Kitts and Nevis', origin='United States', count=113)\nRow(dest='Taiwan', origin='United States', count=275)\nRow(dest='Haiti', origin='United States', count=238)\nRow(dest='Kuwait', origin='United States', count=26)\nRow(dest='Canada', origin='United States', count=8271)\nRow(dest='Federated States of Micronesia', origin='United States', count=46)\nRow(dest='United States', origin='Liberia', count=1)\nRow(dest='Jamaica', origin='United States', count=733)\nRow(dest='United States', origin='Malta', count=2)\nRow(dest='Dominican Republic', origin='United States', count=1109)\nRow(dest='Japan', origin='United States', count=1383)\nRow(dest='United States', origin='Saint Vincent and the Grenadines', count=16)\nRow(dest='United States', origin='Guadeloupe', count=33)\nRow(dest='Finland', origin='United States', count=24)\nRow(dest='United States', origin='Ukraine', count=17)\nRow(dest='United States', origin='France', count=776)\nRow(dest='United States', origin='Norway', count=36)\nRow(dest='Aruba', origin='United States', count=359)\nRow(dest='French Guiana', origin='United States', count=4)\nRow(dest='United States', origin='Kiribati', count=18)\nRow(dest='India', origin='United States', count=66)\nRow(dest='British Virgin Islands', origin='United States', count=49)\nRow(dest='United States', origin='Germany', count=1406)\nRow(dest='Brazil', origin='United States', count=995)\nRow(dest='United States', origin='New Zealand', count=71)\nRow(dest='French Polynesia', origin='United States', count=38)\nRow(dest='United Arab Emirates', origin='United States', count=165)\nRow(dest='Singapore', origin='United States', count=25)\nRow(dest='United States', origin='Mexico', count=6220)\nRow(dest='Netherlands', origin='United States', count=586)\nRow(dest='United States', origin='Sweden', count=73)\nRow(dest='United States', origin='Gabon', count=1)\nRow(dest='United States', origin='Martinique', count=20)\nRow(dest='United States', origin='United Arab Emirates', count=156)\nRow(dest='United States', origin='Bulgaria', count=2)\nRow(dest='China', origin='United States', count=448)\nRow(dest='Denmark', origin='United States', count=98)\nRow(dest='United States', origin='Philippines', count=116)\nRow(dest='United States', origin='Nicaragua', count=181)\nRow(dest='United States', origin='Belgium', count=355)\nRow(dest='Peru', origin='United States', count=212)\nRow(dest='Argentina', origin='United States', count=184)\nRow(dest='Cayman Islands', origin='United States', count=247)\nRow(dest='South Africa', origin='United States', count=25)\nRow(dest='United States', origin='Iceland', count=129)\nRow(dest='United States', origin='Argentina', count=159)\nRow(dest='Spain', origin='United States', count=422)\nRow(dest='Netherlands Antilles', origin='United States', count=286)\nRow(dest='Bermuda', origin='United States', count=183)\nRow(dest='United States', origin='Austria', count=34)\nRow(dest='United States', origin='Nigeria', count=18)\nRow(dest='United States', origin='Bonaire, Sint Eustatius, and Saba', count=16)\nRow(dest='Kiribati', origin='United States', count=17)\nRow(dest='Saudi Arabia', origin='United States', count=42)\nRow(dest='Czech Republic', origin='United States', count=21)\nRow(dest='Belgium', origin='United States', count=408)\nRow(dest='United States', origin='Israel', count=122)\nRow(dest='United States', origin='Bahrain', count=1)\nRow(dest='United States', origin='Saint Lucia', count=121)\nRow(dest='Afghanistan', origin='United States', count=11)\nRow(dest='United States', origin='British Virgin Islands', count=47)\nRow(dest='Curacao', origin='United States', count=20)\nRow(dest='Georgia', origin='United States', count=2)\nRow(dest='United States', origin='Guyana', count=20)\nRow(dest='United States', origin='Denmark', count=107)\nRow(dest='Philippines', origin='United States', count=132)\nRow(dest='Grenada', origin='United States', count=65)\nRow(dest='Cape Verde', origin='United States', count=18)\nRow(dest='Ukraine', origin='United States', count=19)\nRow(dest='United States', origin='Papua New Guinea', count=1)\nRow(dest='United States', origin='Saudi Arabia', count=54)\nRow(dest='Russia', origin='United States', count=152)\nRow(dest='Guatemala', origin='United States', count=386)\nRow(dest='Saint Lucia', origin='United States', count=116)\nRow(dest='Paraguay', origin='United States', count=90)\nRow(dest='United States', origin='Curacao', count=14)\nRow(dest='United States', origin='Taiwan', count=252)\nRow(dest='United States', origin='South Africa', count=15)\nRow(dest='Turkey', origin='United States', count=75)\nRow(dest='United Kingdom', origin='United States', count=1629)\nRow(dest='United States', origin='Greenland', count=2)\nRow(dest='United States', origin='Spain', count=442)\nRow(dest='Cuba', origin='United States', count=243)\nRow(dest='United States', origin='Italy', count=433)\nRow(dest='United States', origin='Switzerland', count=334)\nRow(dest='Dominica', origin='United States', count=28)\nRow(dest='United States', origin='Japan', count=1307)\nRow(dest='Portugal', origin='United States', count=102)\nRow(dest='United States', origin='Brazil', count=578)\nRow(dest='Bahrain', origin='United States', count=30)\nRow(dest='United States', origin='Peru', count=284)\nRow(dest='Vietnam', origin='United States', count=1)\nRow(dest='United States', origin='United Kingdom', count=1503)\nRow(dest='United States', origin='Belize', count=118)\nRow(dest='Belize', origin='United States', count=121)\nRow(dest='United States', origin='Ghana', count=28)\nRow(dest='United States', origin='Indonesia', count=1)\nRow(dest='United States', origin='Fiji', count=51)\nRow(dest='United States', origin='Canada', count=8305)\nRow(dest='United States', origin='French Polynesia', count=38)\nRow(dest='United States', origin='Antigua and Barbuda', count=121)\nRow(dest='United States', origin='Burkina Faso', count=1)\nRow(dest='Nicaragua', origin='United States', count=178)\nRow(dest='United States', origin='Latvia', count=13)\nRow(dest='United States', origin='Dominica', count=32)\nRow(dest='United States', origin='Czech Republic', count=22)\nRow(dest='United States', origin='Australia', count=216)\nRow(dest='Austria', origin='United States', count=36)\nRow(dest='United States', origin='Cook Islands', count=12)\nRow(dest='Jordan', origin='United States', count=50)\nRow(dest='Palau', origin='United States', count=31)\nRow(dest='Uganda', origin='United States', count=2)\nRow(dest='United States', origin='Cameroon', count=1)\nRow(dest='South Korea', origin='United States', count=683)\nRow(dest='Angola', origin='United States', count=14)\nRow(dest='Ghana', origin='United States', count=27)\nRow(dest='Guadeloupe', origin='United States', count=40)\nRow(dest='France', origin='United States', count=774)\nRow(dest='United States', origin='Kyrgyzstan', count=12)\nRow(dest='Poland', origin='United States', count=62)\nRow(dest='Nigeria', origin='United States', count=16)\nRow(dest='United States', origin='Uruguay', count=24)\nRow(dest='Greenland', origin='United States', count=2)\nRow(dest='Chile', origin='United States', count=166)\nRow(dest='United States', origin='Bermuda', count=180)\nRow(dest='United States', origin='Cuba', count=235)\nRow(dest='United States', origin='Colombia', count=832)\nRow(dest='United States', origin='Qatar', count=40)\nRow(dest='United States', origin='Barbados', count=119)\nRow(dest='Australia', origin='United States', count=290)\nRow(dest='United States', origin='Jordan', count=51)\nRow(dest='United States', origin='Cayman Islands', count=251)\nRow(dest='United States', origin='Trinidad and Tobago', count=200)\nRow(dest='United States', origin='Bolivia', count=39)\nRow(dest='United States', origin='Slovakia', count=1)\nRow(dest='Uruguay', origin='United States', count=54)\nRow(dest='Cook Islands', origin='United States', count=13)\nRow(dest='United States', origin='Saint Kitts and Nevis', count=127)\nRow(dest='Bulgaria', origin='United States', count=1)\nRow(dest='United States', origin='French Guiana', count=1)\nRow(dest='United States', origin='Haiti', count=226)\nRow(dest='United States', origin='Uganda', count=1)\nRow(dest='Bonaire, Sint Eustatius, and Saba', origin='United States', count=16)\nRow(dest='Greece', origin='United States', count=50)\nRow(dest='United States', origin='Romania', count=15)\nRow(dest='United States', origin='Croatia', count=1)\nRow(dest='United States', origin='Ireland', count=344)\nRow(dest='Egypt', origin='United States', count=15)\nRow(dest='United States', origin='India', count=62)\nRow(dest='United States', origin='Singapore', count=1)\nRow(dest='United States', origin='Grenada', count=62)\nRow(dest='Costa Rica', origin='United States', count=588)\nRow(dest='Senegal', origin='United States', count=40)\nRow(dest='Moldova', origin='United States', count=1)\nRow(dest='United States', origin='Sint Maarten', count=325)\nRow(dest='United States', origin='Marshall Islands', count=39)\nRow(dest='Guyana', origin='United States', count=64)\nRow(dest='Malta', origin='United States', count=1)\nRow(dest='Anguilla', origin='United States', count=41)\nRow(dest='Bolivia', origin='United States', count=30)\nRow(dest='United States', origin='Paraguay', count=6)\nRow(dest='Algeria', origin='United States', count=4)\nRow(dest='Turks and Caicos Islands', origin='United States', count=230)\nRow(dest='United States', origin='Gibraltar', count=1)\nRow(dest='Saint Vincent and the Grenadines', origin='United States', count=1)\nRow(dest='Italy', origin='United States', count=382)\nRow(dest='United States', origin='Federated States of Micronesia', count=69)\nRow(dest='United States', origin='Russia', count=161)\nRow(dest='Pakistan', origin='United States', count=12)\nRow(dest='United States', origin='Netherlands', count=660)\nRow(dest='Iceland', origin='United States', count=181)\nRow(dest='Marshall Islands', origin='United States', count=42)\nRow(dest='Luxembourg', origin='United States', count=155)\nRow(dest='Honduras', origin='United States', count=362)\nRow(dest='The Bahamas', origin='United States', count=955)\nRow(dest='United States', origin='Senegal', count=42)\nRow(dest='El Salvador', origin='United States', count=561)\nRow(dest='Samoa', origin='United States', count=25)\nRow(dest='United States', origin='Angola', count=13)\nRow(dest='Switzerland', origin='United States', count=294)\nRow(dest='United States', origin='Anguilla', count=38)\nRow(dest='Sint Maarten', origin='United States', count=325)\nRow(dest='Hong Kong', origin='United States', count=332)\nRow(dest='Trinidad and Tobago', origin='United States', count=211)\nRow(dest='Latvia', origin='United States', count=19)\nRow(dest='United States', origin='Ecuador', count=300)\nRow(dest='Suriname', origin='United States', count=1)\nRow(dest='Mexico', origin='United States', count=7140)\nRow(dest='United States', origin='Cyprus', count=1)\nRow(dest='Ecuador', origin='United States', count=268)\nRow(dest='United States', origin='Portugal', count=134)\nRow(dest='United States', origin='Costa Rica', count=608)\nRow(dest='United States', origin='Guatemala', count=318)\nRow(dest='United States', origin='Suriname', count=34)\nRow(dest='Colombia', origin='United States', count=873)\nRow(dest='United States', origin='Cape Verde', count=14)\nRow(dest='United States', origin='Jamaica', count=712)\nRow(dest='Norway', origin='United States', count=121)\nRow(dest='United States', origin='Malaysia', count=3)\nRow(dest='United States', origin='Morocco', count=19)\nRow(dest='Thailand', origin='United States', count=3)\nRow(dest='United States', origin='Samoa', count=25)\nRow(dest='Venezuela', origin='United States', count=290)\nRow(dest='United States', origin='Palau', count=31)\nRow(dest='United States', origin='Venezuela', count=246)\nRow(dest='Panama', origin='United States', count=510)\nRow(dest='Antigua and Barbuda', origin='United States', count=126)\nRow(dest='United States', origin='Chile', count=185)\nRow(dest='Morocco', origin='United States', count=15)\nRow(dest='United States', origin='Finland', count=28)\nRow(dest='Azerbaijan', origin='United States', count=21)\nRow(dest='United States', origin='Greece', count=23)\nRow(dest='United States', origin='The Bahamas', count=986)\nRow(dest='New Zealand', origin='United States', count=111)\nRow(dest='Liberia', origin='United States', count=2)\nRow(dest='United States', origin='Hong Kong', count=414)\nRow(dest='Hungary', origin='United States', count=2)\nRow(dest='United States', origin='China', count=920)\nRow(dest='United States', origin='Vietnam', count=2)\nRow(dest='Burkina Faso', origin='United States', count=1)\nRow(dest='Sweden', origin='United States', count=118)\nRow(dest='United States', origin='Kuwait', count=28)\nRow(dest='United States', origin='Dominican Republic', count=1420)\nRow(dest='United States', origin='Egypt', count=12)\nRow(dest='Israel', origin='United States', count=134)\nRow(dest='United States', origin='United States', count=370002)\nRow(dest='Ethiopia', origin='United States', count=13)\nRow(dest='United States', origin='Luxembourg', count=134)\nRow(dest='United States', origin='Poland', count=33)\nRow(dest='Martinique', origin='United States', count=44)\nRow(dest='United States', origin='Saint Barthelemy', count=41)\nRow(dest='Saint Barthelemy', origin='United States', count=39)\nRow(dest='Barbados', origin='United States', count=154)\nRow(dest='United States', origin='Turkey', count=129)\nRow(dest='Djibouti', origin='United States', count=1)\nRow(dest='United States', origin='Azerbaijan', count=21)\nRow(dest='United States', origin='Estonia', count=1)\nRow(dest='Germany', origin='United States', count=1468)\nRow(dest='United States', origin='South Korea', count=827)\nRow(dest='United States', origin='El Salvador', count=508)\nRow(dest='Ireland', origin='United States', count=335)\nRow(dest='United States', origin='Hungary', count=3)\nRow(dest='Zambia', origin='United States', count=1)\nRow(dest='Malaysia', origin='United States', count=2)\nRow(dest='United States', origin='Ethiopia', count=12)\nRow(dest='United States', origin='Panama', count=465)\nRow(dest='United States', origin='Aruba', count=342)\nRow(dest='United States', origin='Thailand', count=4)\nRow(dest='United States', origin='Turks and Caicos Islands', count=236)\nRow(dest='Croatia', origin='United States', count=2)\nRow(dest='United States', origin='Pakistan', count=12)\nRow(dest='Cyprus', origin='United States', count=1)\nRow(dest='United States', origin='Honduras', count=407)\nRow(dest='Fiji', origin='United States', count=24)\nRow(dest='Qatar', origin='United States', count=108)\nRow(dest='Saint Kitts and Nevis', origin='United States', count=139)\nRow(dest='Kuwait', origin='United States', count=32)\nRow(dest='Taiwan', origin='United States', count=266)\nRow(dest='Haiti', origin='United States', count=226)\nRow(dest='Canada', origin='United States', count=8399)\nRow(dest='Federated States of Micronesia', origin='United States', count=69)\nRow(dest='United States', origin='Liberia', count=2)\nRow(dest='Jamaica', origin='United States', count=666)\nRow(dest='United States', origin='Malta', count=2)\nRow(dest='Dominican Republic', origin='United States', count=1353)\nRow(dest='Japan', origin='United States', count=1548)\nRow(dest='United States', origin='Lithuania', count=1)\nRow(dest='Finland', origin='United States', count=26)\nRow(dest='United States', origin='Guadeloupe', count=59)\nRow(dest='United States', origin='Ukraine', count=13)\nRow(dest='United States', origin='France', count=952)\nRow(dest='United States', origin='Norway', count=115)\nRow(dest='Aruba', origin='United States', count=346)\nRow(dest='French Guiana', origin='United States', count=5)\nRow(dest='United States', origin='Kiribati', count=35)\nRow(dest='India', origin='United States', count=61)\nRow(dest='British Virgin Islands', origin='United States', count=107)\nRow(dest='Brazil', origin='United States', count=853)\nRow(dest='United States', origin='Germany', count=1336)\nRow(dest='United States', origin='New Zealand', count=74)\nRow(dest='French Polynesia', origin='United States', count=43)\nRow(dest='United Arab Emirates', origin='United States', count=320)\nRow(dest='Singapore', origin='United States', count=3)\nRow(dest='United States', origin='Mexico', count=7187)\nRow(dest='United States', origin='Sweden', count=119)\nRow(dest='Netherlands', origin='United States', count=776)\nRow(dest='United States', origin='Martinique', count=43)\nRow(dest='United States', origin='United Arab Emirates', count=313)\nRow(dest='United States', origin='Bulgaria', count=1)\nRow(dest='Denmark', origin='United States', count=153)\nRow(dest='China', origin='United States', count=772)\nRow(dest='United States', origin='Nicaragua', count=201)\nRow(dest='United States', origin='Philippines', count=126)\nRow(dest='United States', origin='Georgia', count=1)\nRow(dest='United States', origin='Belgium', count=228)\nRow(dest='Cayman Islands', origin='United States', count=314)\nRow(dest='Argentina', origin='United States', count=180)\nRow(dest='Peru', origin='United States', count=279)\nRow(dest='South Africa', origin='United States', count=36)\nRow(dest='United States', origin='Iceland', count=202)\nRow(dest='United States', origin='Argentina', count=141)\nRow(dest='Spain', origin='United States', count=420)\nRow(dest='Bermuda', origin='United States', count=183)\nRow(dest='United States', origin='Nigeria', count=50)\nRow(dest='United States', origin='Austria', count=63)\nRow(dest='United States', origin='Bonaire, Sint Eustatius, and Saba', count=59)\nRow(dest='Kiribati', origin='United States', count=26)\nRow(dest='Saudi Arabia', origin='United States', count=83)\nRow(dest='Czech Republic', origin='United States', count=13)\nRow(dest='United States', origin='Israel', count=127)\nRow(dest='Belgium', origin='United States', count=259)\nRow(dest='United States', origin='Saint Lucia', count=136)\nRow(dest='United States', origin='Bahrain', count=1)\nRow(dest='United States', origin='British Virgin Islands', count=80)\nRow(dest='Curacao', origin='United States', count=90)\nRow(dest='Georgia', origin='United States', count=2)\nRow(dest='United States', origin='Denmark', count=152)\nRow(dest='United States', origin='Guyana', count=63)\nRow(dest='Philippines', origin='United States', count=134)\nRow(dest='Grenada', origin='United States', count=53)\nRow(dest='Cape Verde', origin='United States', count=20)\nRow(dest=\"Cote d'Ivoire\", origin='United States', count=1)\nRow(dest='Ukraine', origin='United States', count=14)\nRow(dest='United States', origin='Papua New Guinea', count=1)\nRow(dest='Russia', origin='United States', count=176)\nRow(dest='United States', origin='Saudi Arabia', count=70)\nRow(dest='Guatemala', origin='United States', count=397)\nRow(dest='Saint Lucia', origin='United States', count=123)\nRow(dest='Paraguay', origin='United States', count=60)\nRow(dest='United States', origin='Curacao', count\n\n*** WARNING: max output size exceeded, skipping output. ***\n\n(dest='United States', origin='Costa Rica', count=555)\nRow(dest='United States', origin='Guatemala', count=345)\nRow(dest='United States', origin='Suriname', count=26)\nRow(dest='Colombia', origin='United States', count=759)\nRow(dest='United States', origin='The Gambia', count=1)\nRow(dest='United States', origin='Cape Verde', count=18)\nRow(dest='United States', origin='Jamaica', count=610)\nRow(dest='Norway', origin='United States', count=31)\nRow(dest='The Gambia', origin='United States', count=2)\nRow(dest='United States', origin='Morocco', count=16)\nRow(dest='Thailand', origin='United States', count=6)\nRow(dest='Venezuela', origin='United States', count=389)\nRow(dest='United States', origin='Samoa', count=25)\nRow(dest='United States', origin='Palau', count=35)\nRow(dest='United States', origin='Venezuela', count=360)\nRow(dest='Panama', origin='United States', count=394)\nRow(dest='United States', origin='Chile', count=201)\nRow(dest='United States', origin='Finland', count=21)\nRow(dest='Antigua and Barbuda', origin='United States', count=145)\nRow(dest='Morocco', origin='United States', count=15)\nRow(dest='United States', origin='Greece', count=21)\nRow(dest='United States', origin='The Bahamas', count=1054)\nRow(dest='New Zealand', origin='United States', count=92)\nRow(dest='United States', origin='Hong Kong', count=331)\nRow(dest='Hungary', origin='United States', count=2)\nRow(dest='United States', origin='Tunisia', count=1)\nRow(dest='United States', origin='China', count=610)\nRow(dest='Sweden', origin='United States', count=50)\nRow(dest='United States', origin='Kuwait', count=28)\nRow(dest='United States', origin='Dominican Republic', count=1123)\nRow(dest='United States', origin='Egypt', count=12)\nRow(dest='Israel', origin='United States', count=117)\nRow(dest='United States', origin='United States', count=347452)\nRow(dest='United States', origin='Luxembourg', count=123)\nRow(dest='Ethiopia', origin='United States', count=12)\nRow(dest='United States', origin='Poland', count=40)\nRow(dest='Martinique', origin='United States', count=17)\nRow(dest='United States', origin='Saint Barthelemy', count=49)\nRow(dest='Saint Barthelemy', origin='United States', count=49)\nRow(dest='Barbados', origin='United States', count=121)\nRow(dest='United States', origin='Azerbaijan', count=1)\nRow(dest='United States', origin='Turkey', count=89)\nRow(dest='Germany', origin='United States', count=1404)\nRow(dest='Kyrgyzstan', origin='United States', count=1)\nRow(dest='United States', origin='South Korea', count=703)\nRow(dest='United States', origin='El Salvador', count=465)\nRow(dest='Ireland', origin='United States', count=255)\nRow(dest='United States', origin='Panama', count=393)\nRow(dest='United States', origin='Ethiopia', count=12)\nRow(dest='United States', origin='Thailand', count=6)\nRow(dest='United States', origin='Aruba', count=332)\nRow(dest='United States', origin='Turks and Caicos Islands', count=183)\nRow(dest='Croatia', origin='United States', count=1)\nRow(dest='United States', origin='Pakistan', count=16)\nRow(dest='United States', origin='Honduras', count=372)\nRow(dest='Qatar', origin='United States', count=56)\nRow(dest='Fiji', origin='United States', count=28)\nRow(dest='Saint Kitts and Nevis', origin='United States', count=109)\nRow(dest='Taiwan', origin='United States', count=229)\nRow(dest='Haiti', origin='United States', count=224)\nRow(dest='Kuwait', origin='United States', count=26)\nRow(dest='Canada', origin='United States', count=8034)\nRow(dest='Belarus', origin='United States', count=1)\nRow(dest='Federated States of Micronesia', origin='United States', count=54)\nRow(dest='Jamaica', origin='United States', count=617)\nRow(dest='Dominican Republic', origin='United States', count=1078)\nRow(dest='Japan', origin='United States', count=1538)\nRow(dest='United States', origin='Saint Vincent and the Grenadines', count=11)\nRow(dest='Finland', origin='United States', count=22)\nRow(dest='United States', origin='Ukraine', count=13)\nRow(dest='United States', origin='Guadeloupe', count=34)\nRow(dest='United States', origin='France', count=840)\nRow(dest='United States', origin='Norway', count=33)\nRow(dest='Aruba', origin='United States', count=349)\nRow(dest='French Guiana', origin='United States', count=8)\nRow(dest='United States', origin='Kiribati', count=26)\nRow(dest='India', origin='United States', count=61)\nRow(dest='British Virgin Islands', origin='United States', count=83)\nRow(dest='Brazil', origin='United States', count=979)\nRow(dest='United States', origin='Germany', count=1413)\nRow(dest='United States', origin='New Zealand', count=65)\nRow(dest='United States', origin='Cambodia', count=1)\nRow(dest='French Polynesia', origin='United States', count=39)\nRow(dest='United Arab Emirates', origin='United States', count=188)\nRow(dest='Singapore', origin='United States', count=26)\nRow(dest='United States', origin='Mexico', count=5974)\nRow(dest='Netherlands', origin='United States', count=640)\nRow(dest='United States', origin='Sweden', count=54)\nRow(dest='United States', origin='Martinique', count=17)\nRow(dest='United States', origin='United Arab Emirates', count=176)\nRow(dest='China', origin='United States', count=509)\nRow(dest='United States', origin='Philippines', count=112)\nRow(dest='Denmark', origin='United States', count=83)\nRow(dest='United States', origin='Nicaragua', count=183)\nRow(dest='Oman', origin='United States', count=1)\nRow(dest='United States', origin='Belgium', count=275)\nRow(dest='Argentina', origin='United States', count=208)\nRow(dest='Peru', origin='United States', count=249)\nRow(dest='Cayman Islands', origin='United States', count=258)\nRow(dest='South Africa', origin='United States', count=24)\nRow(dest='United States', origin='Argentina', count=170)\nRow(dest='United States', origin='Iceland', count=150)\nRow(dest='Cameroon', origin='United States', count=1)\nRow(dest='Spain', origin='United States', count=390)\nRow(dest='Bermuda', origin='United States', count=190)\nRow(dest='United States', origin='Austria', count=31)\nRow(dest='United States', origin='Nigeria', count=44)\nRow(dest='United States', origin='Bonaire, Sint Eustatius, and Saba', count=44)\nRow(dest='Kiribati', origin='United States', count=26)\nRow(dest='Saudi Arabia', origin='United States', count=72)\nRow(dest='Czech Republic', origin='United States', count=15)\nRow(dest='Macau', origin='United States', count=1)\nRow(dest='United States', origin='Bahrain', count=2)\nRow(dest='Belgium', origin='United States', count=352)\nRow(dest='United States', origin='Israel', count=117)\nRow(dest='United States', origin='Saint Lucia', count=84)\nRow(dest='Sierra Leone', origin='United States', count=1)\nRow(dest='Afghanistan', origin='United States', count=5)\nRow(dest='United States', origin='British Virgin Islands', count=78)\nRow(dest='Curacao', origin='United States', count=107)\nRow(dest='Georgia', origin='United States', count=2)\nRow(dest='United States', origin='Guyana', count=79)\nRow(dest='Philippines', origin='United States', count=136)\nRow(dest='United States', origin='Denmark', count=82)\nRow(dest='Grenada', origin='United States', count=51)\nRow(dest='Cape Verde', origin='United States', count=19)\nRow(dest='Ukraine', origin='United States', count=14)\nRow(dest='United States', origin='Papua New Guinea', count=2)\nRow(dest='Russia', origin='United States', count=183)\nRow(dest='United States', origin='Saudi Arabia', count=70)\nRow(dest='Guatemala', origin='United States', count=413)\nRow(dest='Saint Lucia', origin='United States', count=81)\nRow(dest='Paraguay', origin='United States', count=85)\nRow(dest='United States', origin='Curacao', count=96)\nRow(dest='United States', origin='Taiwan', count=214)\nRow(dest='Tunisia', origin='United States', count=2)\nRow(dest='United States', origin='South Africa', count=29)\nRow(dest='Turkey', origin='United States', count=94)\nRow(dest='United Kingdom', origin='United States', count=1852)\nRow(dest='Solomon Islands', origin='United States', count=2)\nRow(dest='United States', origin='Greenland', count=1)\nRow(dest='United States', origin='Spain', count=393)\nRow(dest='United States', origin='Italy', count=377)\nRow(dest='Cuba', origin='United States', count=340)\nRow(dest='United States', origin='Switzerland', count=282)\nRow(dest='Dominica', origin='United States', count=26)\nRow(dest='United States', origin='Japan', count=1451)\nRow(dest='Portugal', origin='United States', count=112)\nRow(dest='Bahrain', origin='United States', count=65)\nRow(dest='United States', origin='Brazil', count=567)\nRow(dest='United States', origin='Peru', count=292)\nRow(dest='Vietnam', origin='United States', count=2)\nRow(dest='United States', origin='United Kingdom', count=1713)\nRow(dest='United States', origin='Belize', count=108)\nRow(dest='Belize', origin='United States', count=113)\nRow(dest='United States', origin='Ghana', count=31)\nRow(dest='Mauritania', origin='United States', count=1)\nRow(dest='United States', origin='Fiji', count=26)\nRow(dest='United States', origin='Canada', count=8097)\nRow(dest='United States', origin='French Polynesia', count=38)\nRow(dest='United States', origin='Antigua and Barbuda', count=146)\nRow(dest='Nicaragua', origin='United States', count=174)\nRow(dest='United States', origin='Latvia', count=14)\nRow(dest='United States', origin='Dominica', count=25)\nRow(dest='United States', origin='Czech Republic', count=13)\nRow(dest='United States', origin='Australia', count=211)\nRow(dest='United States', origin='Cook Islands', count=12)\nRow(dest='Austria', origin='United States', count=34)\nRow(dest='Jordan', origin='United States', count=41)\nRow(dest='Palau', origin='United States', count=35)\nRow(dest='United States', origin='Equatorial Guinea', count=4)\nRow(dest='South Korea', origin='United States', count=819)\nRow(dest='Angola', origin='United States', count=12)\nRow(dest='Ghana', origin='United States', count=30)\nRow(dest='New Caledonia', origin='United States', count=1)\nRow(dest='Guadeloupe', origin='United States', count=36)\nRow(dest='France', origin='United States', count=818)\nRow(dest='Poland', origin='United States', count=38)\nRow(dest='Nigeria', origin='United States', count=57)\nRow(dest='United States', origin='Uruguay', count=17)\nRow(dest='Greenland', origin='United States', count=1)\nRow(dest='Chile', origin='United States', count=178)\nRow(dest='United States', origin='Bermuda', count=194)\nRow(dest='United States', origin='Cuba', count=341)\nRow(dest='United States', origin='Colombia', count=806)\nRow(dest='United States', origin='Barbados', count=109)\nRow(dest='United States', origin='Qatar', count=56)\nRow(dest='Australia', origin='United States', count=277)\nRow(dest='United States', origin='Cayman Islands', count=247)\nRow(dest='United States', origin='Jordan', count=43)\nRow(dest='United States', origin='Trinidad and Tobago', count=213)\nRow(dest='United States', origin='Bolivia', count=21)\nRow(dest='Uruguay', origin='United States', count=53)\nRow(dest='Cook Islands', origin='United States', count=12)\nRow(dest='United States', origin='Saint Kitts and Nevis', count=124)\nRow(dest='Bulgaria', origin='United States', count=6)\nRow(dest='United States', origin='French Guiana', count=1)\nRow(dest='United States', origin='Haiti', count=234)\nRow(dest='Bonaire, Sint Eustatius, and Saba', origin='United States', count=46)\nRow(dest='Greece', origin='United States', count=17)\nRow(dest='United States', origin='Saint Martin', count=1)\nRow(dest='United States', origin='Romania', count=12)\nRow(dest='United States', origin='Croatia', count=2)\nRow(dest='United States', origin='Ireland', count=291)\nRow(dest='United States', origin='India', count=62)\nRow(dest='Egypt', origin='United States', count=11)\nRow(dest='United States', origin='Grenada', count=47)\nRow(dest='Costa Rica', origin='United States', count=529)\nRow(dest='Senegal', origin='United States', count=35)\nRow(dest='United States', origin='Sint Maarten', count=290)\nRow(dest='Guyana', origin='United States', count=52)\nRow(dest='United States', origin='Marshall Islands', count=35)\nRow(dest='Malta', origin='United States', count=2)\nRow(dest='Malawi', origin='United States', count=1)\nRow(dest='Bolivia', origin='United States', count=33)\nRow(dest='Anguilla', origin='United States', count=34)\nRow(dest='Algeria', origin='United States', count=9)\nRow(dest='United States', origin='Paraguay', count=14)\nRow(dest='Gibraltar', origin='United States', count=1)\nRow(dest='Turks and Caicos Islands', origin='United States', count=193)\nRow(dest='Saint Vincent and the Grenadines', origin='United States', count=1)\nRow(dest='United States', origin='Russia', count=151)\nRow(dest='Italy', origin='United States', count=366)\nRow(dest='Pakistan', origin='United States', count=12)\nRow(dest='United States', origin='Federated States of Micronesia', count=71)\nRow(dest='Iceland', origin='United States', count=150)\nRow(dest='United States', origin='Netherlands', count=702)\nRow(dest='Marshall Islands', origin='United States', count=46)\nRow(dest='Luxembourg', origin='United States', count=161)\nRow(dest='Honduras', origin='United States', count=411)\nRow(dest='The Bahamas', origin='United States', count=950)\nRow(dest='El Salvador', origin='United States', count=572)\nRow(dest='United States', origin='Senegal', count=28)\nRow(dest='Samoa', origin='United States', count=24)\nRow(dest='United States', origin='Angola', count=12)\nRow(dest='Kazakhstan', origin='United States', count=1)\nRow(dest='Switzerland', origin='United States', count=302)\nRow(dest='United States', origin='Anguilla', count=35)\nRow(dest='Sint Maarten', origin='United States', count=290)\nRow(dest='Hong Kong', origin='United States', count=338)\nRow(dest='United States', origin='Congo (Brazaville)', count=1)\nRow(dest='Latvia', origin='United States', count=40)\nRow(dest='Trinidad and Tobago', origin='United States', count=188)\nRow(dest='United States', origin='Ecuador', count=326)\nRow(dest='Slovakia', origin='United States', count=1)\nRow(dest='Suriname', origin='United States', count=10)\nRow(dest='Mexico', origin='United States', count=6427)\nRow(dest='Ecuador', origin='United States', count=256)\nRow(dest='United States', origin='Portugal', count=122)\nRow(dest='United States', origin='Guatemala', count=327)\nRow(dest='United States', origin='Costa Rica', count=560)\nRow(dest='United States', origin='Suriname', count=27)\nRow(dest='Colombia', origin='United States', count=872)\nRow(dest='United States', origin='Cape Verde', count=16)\nRow(dest='United States', origin='Jamaica', count=714)\nRow(dest='Norway', origin='United States', count=86)\nRow(dest='United States', origin='Morocco', count=15)\nRow(dest='Venezuela', origin='United States', count=335)\nRow(dest='United States', origin='Samoa', count=25)\nRow(dest='United States', origin='Palau', count=38)\nRow(dest='United States', origin='Venezuela', count=258)\nRow(dest='Panama', origin='United States', count=456)\nRow(dest='United States', origin='Chile', count=168)\nRow(dest='United States', origin='Finland', count=19)\nRow(dest='Antigua and Barbuda', origin='United States', count=115)\nRow(dest='Morocco', origin='United States', count=18)\nRow(dest='United States', origin='Greece', count=19)\nRow(dest='Azerbaijan', origin='United States', count=7)\nRow(dest='United States', origin='The Bahamas', count=991)\nRow(dest='New Zealand', origin='United States', count=114)\nRow(dest='Liberia', origin='United States', count=3)\nRow(dest='United States', origin='Hong Kong', count=381)\nRow(dest='Hungary', origin='United States', count=2)\nRow(dest='United States', origin='Tunisia', count=1)\nRow(dest='United States', origin='China', count=767)\nRow(dest='Burkina Faso', origin='United States', count=2)\nRow(dest='Sweden', origin='United States', count=94)\nRow(dest='United States', origin='Kuwait', count=24)\nRow(dest='United States', origin='Dominican Republic', count=1282)\nRow(dest='United States', origin='Egypt', count=11)\nRow(dest='Israel', origin='United States', count=108)\nRow(dest='United States', origin='United States', count=358354)\nRow(dest='United States', origin='Luxembourg', count=115)\nRow(dest='Ethiopia', origin='United States', count=11)\nRow(dest='United States', origin='Poland', count=33)\nRow(dest='Martinique', origin='United States', count=31)\nRow(dest='United States', origin='Saint Barthelemy', count=53)\nRow(dest='Saint Barthelemy', origin='United States', count=53)\nRow(dest='United States', origin='Turkey', count=92)\nRow(dest='Barbados', origin='United States', count=102)\nRow(dest='United States', origin='Kazakhstan', count=1)\nRow(dest='United States', origin='Azerbaijan', count=5)\nRow(dest='Germany', origin='United States', count=1391)\nRow(dest='United States', origin='South Korea', count=754)\nRow(dest='United States', origin='El Salvador', count=486)\nRow(dest='Ireland', origin='United States', count=267)\nRow(dest='United States', origin='Hungary', count=1)\nRow(dest='Malaysia', origin='United States', count=2)\nRow(dest='United States', origin='Panama', count=460)\nRow(dest='United States', origin='Aruba', count=348)\nRow(dest='United States', origin='Ethiopia', count=11)\nRow(dest='United States', origin='Turks and Caicos Islands', count=204)\nRow(dest='United States', origin='Pakistan', count=12)\nRow(dest='United States', origin='Honduras', count=412)\nRow(dest='Fiji', origin='United States', count=25)\nRow(dest='Qatar', origin='United States', count=95)\nRow(dest='Saint Kitts and Nevis', origin='United States', count=118)\nRow(dest='Haiti', origin='United States', count=201)\nRow(dest='Taiwan', origin='United States', count=265)\nRow(dest='Kuwait', origin='United States', count=24)\nRow(dest='Canada', origin='United States', count=7974)\nRow(dest='Federated States of Micronesia', origin='United States', count=60)\nRow(dest='Jamaica', origin='United States', count=673)\nRow(dest='United States', origin='Malta', count=2)\nRow(dest='Dominican Republic', origin='United States', count=1230)\nRow(dest='Japan', origin='United States', count=1591)\nRow(dest='United States', origin='Saint Vincent and the Grenadines', count=3)\nRow(dest='Finland', origin='United States', count=18)\nRow(dest='United States', origin='Ukraine', count=1)\nRow(dest='United States', origin='Guadeloupe', count=47)\nRow(dest='United States', origin='France', count=960)\nRow(dest='Aruba', origin='United States', count=351)\nRow(dest='United States', origin='Norway', count=87)\nRow(dest='French Guiana', origin='United States', count=11)\nRow(dest='United States', origin='Kiribati', count=27)\nRow(dest='India', origin='United States', count=61)\nRow(dest='British Virgin Islands', origin='United States', count=108)\nRow(dest='Brazil', origin='United States', count=927)\nRow(dest='United States', origin='Germany', count=1343)\nRow(dest='United States', origin='New Zealand', count=77)\nRow(dest='United States', origin='Cambodia', count=1)\nRow(dest='French Polynesia', origin='United States', count=39)\nRow(dest='United Arab Emirates', origin='United States', count=247)\nRow(dest='United States', origin='Mexico', count=6490)\nRow(dest='Netherlands', origin='United States', count=773)\nRow(dest='United States', origin='Sweden', count=101)\nRow(dest='United States', origin='Martinique', count=32)\nRow(dest='United States', origin='United Arab Emirates', count=226)\nRow(dest='United States', origin='Bulgaria', count=1)\nRow(dest='Denmark', origin='United States', count=114)\nRow(dest='China', origin='United States', count=653)\nRow(dest='United States', origin='Nicaragua', count=170)\nRow(dest='United States', origin='Philippines', count=116)\nRow(dest='United States', origin='Belgium', count=230)\nRow(dest='Peru', origin='United States', count=277)\nRow(dest='Argentina', origin='United States', count=195)\nRow(dest='Cayman Islands', origin='United States', count=283)\nRow(dest='South Africa', origin='United States', count=32)\nRow(dest='United States', origin='Argentina', count=153)\nRow(dest='United States', origin='Iceland', count=177)\nRow(dest='Chad', origin='United States', count=1)\nRow(dest='Spain', origin='United States', count=388)\nRow(dest='Bermuda', origin='United States', count=185)\nRow(dest='United States', origin='Nigeria', count=43)\nRow(dest='United States', origin='Austria', count=46)\nRow(dest='United States', origin='Bonaire, Sint Eustatius, and Saba', count=63)\nRow(dest='Kiribati', origin='United States', count=26)\nRow(dest='Saudi Arabia', origin='United States', count=79)\nRow(dest='Czech Republic', origin='United States', count=11)\nRow(dest='Macau', origin='United States', count=3)\nRow(dest='Belgium', origin='United States', count=259)\nRow(dest='United States', origin='Israel', count=112)\nRow(dest='United States', origin='Saint Lucia', count=109)\nRow(dest='United States', origin='British Virgin Islands', count=101)\nRow(dest='Curacao', origin='United States', count=74)\nRow(dest='United States', origin='Denmark', count=116)\nRow(dest='United States', origin='Guyana', count=55)\nRow(dest='Philippines', origin='United States', count=134)\nRow(dest='Grenada', origin='United States', count=43)\nRow(dest='Cape Verde', origin='United States', count=24)\nRow(dest='Ukraine', origin='United States', count=11)\nRow(dest='Russia', origin='United States', count=213)\nRow(dest='United States', origin='Saudi Arabia', count=74)\nRow(dest='Guatemala', origin='United States', count=383)\nRow(dest='Saint Lucia', origin='United States', count=107)\nRow(dest='Paraguay', origin='United States', count=90)\nRow(dest='United States', origin='Curacao', count=77)\nRow(dest='United States', origin='Taiwan', count=240)\nRow(dest='Tunisia', origin='United States', count=2)\nRow(dest='United States', origin='South Africa', count=32)\nRow(dest='Turkey', origin='United States', count=91)\nRow(dest='United Kingdom', origin='United States', count=1912)\nRow(dest='Romania', origin='United States', count=11)\nRow(dest='United States', origin='Greenland', count=1)\nRow(dest='United States', origin='Spain', count=424)\nRow(dest='Cuba', origin='United States', count=417)\nRow(dest='United States', origin='Italy', count=385)\nRow(dest='United States', origin='Switzerland', count=300)\nRow(dest='Dominica', origin='United States', count=25)\nRow(dest='United States', origin='Japan', count=1501)\nRow(dest='Portugal', origin='United States', count=124)\nRow(dest='United States', origin='Brazil', count=578)\nRow(dest='Bahrain', origin='United States', count=41)\nRow(dest='United States', origin='Peru', count=315)\nRow(dest='Indonesia', origin='United States', count=1)\nRow(dest='United States', origin='United Kingdom', count=1812)\nRow(dest='United States', origin='Belize', count=143)\nRow(dest='Belize', origin='United States', count=142)\nRow(dest='United States', origin='Ghana', count=15)\nRow(dest='Mauritania', origin='United States', count=1)\nRow(dest='United States', origin='Indonesia', count=1)\nRow(dest='United States', origin='Fiji', count=27)\nRow(dest='United States', origin='Canada', count=8177)\nRow(dest='United States', origin='Antigua and Barbuda', count=112)\nRow(dest='United States', origin='French Polynesia', count=40)\nRow(dest='Nicaragua', origin='United States', count=168)\nRow(dest='United States', origin='Latvia', count=13)\nRow(dest='United States', origin='Dominica', count=36)\nRow(dest='United States', origin='Czech Republic', count=11)\nRow(dest='United States', origin='Cook Islands', count=12)\nRow(dest='United States', origin='Australia', count=235)\nRow(dest='Austria', origin='United States', count=47)\nRow(dest='Jordan', origin='United States', count=65)\nRow(dest='Palau', origin='United States', count=38)\nRow(dest='South Korea', origin='United States', count=968)\nRow(dest='Angola', origin='United States', count=13)\nRow(dest='Ghana', origin='United States', count=13)\nRow(dest='Guadeloupe', origin='United States', count=43)\nRow(dest='France', origin='United States', count=966)\nRow(dest='Poland', origin='United States', count=35)\nRow(dest='Nigeria', origin='United States', count=49)\nRow(dest='United States', origin='Uruguay', count=18)\nRow(dest='Greenland', origin='United States', count=2)\nRow(dest='Chile', origin='United States', count=156)\nRow(dest='United States', origin='Bermuda', count=190)\nRow(dest='United States', origin='Cuba', count=419)\nRow(dest='United States', origin='Qatar', count=96)\nRow(dest='United States', origin='Colombia', count=888)\nRow(dest='United States', origin='Barbados', count=89)\nRow(dest='Australia', origin='United States', count=293)\nRow(dest='United States', origin='Cayman Islands', count=278)\nRow(dest='United States', origin='Jordan', count=64)\nRow(dest='United States', origin='Trinidad and Tobago', count=175)\nRow(dest='United States', origin='Bolivia', count=14)\nRow(dest='Uruguay', origin='United States', count=60)\nRow(dest='Cook Islands', origin='United States', count=12)\nRow(dest='United States', origin='French Guiana', count=4)\nRow(dest='United States', origin='Saint Kitts and Nevis', count=123)\nRow(dest='United States', origin='Haiti', count=193)\nRow(dest='Bonaire, Sint Eustatius, and Saba', origin='United States', count=62)\nRow(dest='Greece', origin='United States', count=20)\n"
     ]
    }
   ],
   "source": [
    "all_records = flightsAllDF.collect()\n",
    "\n",
    "# Print all the records\n",
    "for row in all_records:\n",
    "    print(row)\n"
   ]
  },
  {
   "cell_type": "code",
   "execution_count": 0,
   "metadata": {
    "application/vnd.databricks.v1+cell": {
     "cellMetadata": {
      "byteLimit": 2048000,
      "rowLimit": 10000
     },
     "inputWidgets": {},
     "nuid": "ec137edc-fae0-437b-8b7a-27a3ce5367b1",
     "showTitle": false,
     "title": ""
    }
   },
   "outputs": [
    {
     "output_type": "stream",
     "name": "stdout",
     "output_type": "stream",
     "text": [
      "+-------------+-------+-----+\n|         dest| origin|count|\n+-------------+-------+-----+\n|United States|Romania|    1|\n|United States|Ireland|  264|\n|United States|  India|   69|\n+-------------+-------+-----+\nonly showing top 3 rows\n\n"
     ]
    }
   ],
   "source": [
    "flightsAllDF.show(3)"
   ]
  },
  {
   "cell_type": "code",
   "execution_count": 0,
   "metadata": {
    "application/vnd.databricks.v1+cell": {
     "cellMetadata": {
      "byteLimit": 2048000,
      "rowLimit": 10000
     },
     "inputWidgets": {},
     "nuid": "9da3092b-8fe6-4784-b94c-87ee3615e712",
     "showTitle": false,
     "title": ""
    }
   },
   "outputs": [
    {
     "output_type": "stream",
     "name": "stdout",
     "output_type": "stream",
     "text": [
      "Row(dest='United States', origin='Romania', count=1)\nRow(dest='United States', origin='Ireland', count=264)\nRow(dest='United States', origin='India', count=69)\n"
     ]
    }
   ],
   "source": [
    "three_rows = flightsAllDF.take(3)\n",
    "for row in three_rows:\n",
    "    print(row)"
   ]
  },
  {
   "cell_type": "code",
   "execution_count": 0,
   "metadata": {
    "application/vnd.databricks.v1+cell": {
     "cellMetadata": {
      "byteLimit": 2048000,
      "rowLimit": 10000
     },
     "inputWidgets": {},
     "nuid": "90c0791d-2696-47fe-ad5a-96cdf5adf1e1",
     "showTitle": false,
     "title": ""
    }
   },
   "outputs": [
    {
     "output_type": "stream",
     "name": "stdout",
     "output_type": "stream",
     "text": [
      "+-------------+-------+-----+\n|         dest| origin|count|\n+-------------+-------+-----+\n|United States|Romania|    1|\n|United States|Ireland|  264|\n|United States|  India|   69|\n+-------------+-------+-----+\n\n"
     ]
    }
   ],
   "source": [
    "flightsAllDF = flightsAllDF.limit(3)\n",
    "flightsAllDF.show()"
   ]
  },
  {
   "cell_type": "code",
   "execution_count": 0,
   "metadata": {
    "application/vnd.databricks.v1+cell": {
     "cellMetadata": {
      "byteLimit": 2048000,
      "rowLimit": 10000
     },
     "inputWidgets": {},
     "nuid": "d127edc4-47a1-4eeb-acc2-7d53a4756d4f",
     "showTitle": false,
     "title": ""
    }
   },
   "outputs": [
    {
     "output_type": "stream",
     "name": "stdout",
     "output_type": "stream",
     "text": [
      "Type of the first row: <class 'pyspark.sql.types.Row'>\n"
     ]
    }
   ],
   "source": [
    "first_row_flightsAllDF = flightsAllDF.first()\n",
    "row_type = type(first_row_flightsAllDF)\n",
    "print(\"Type of the first row:\", row_type)"
   ]
  },
  {
   "cell_type": "markdown",
   "metadata": {
    "application/vnd.databricks.v1+cell": {
     "cellMetadata": {},
     "inputWidgets": {},
     "nuid": "96731af3-fbc1-4b5e-84d0-da8de6888f45",
     "showTitle": false,
     "title": ""
    }
   },
   "source": [
    "## Data Processing"
   ]
  },
  {
   "cell_type": "markdown",
   "metadata": {
    "application/vnd.databricks.v1+cell": {
     "cellMetadata": {},
     "inputWidgets": {},
     "nuid": "7f538cce-6d6b-4cc9-b0bf-be618068fc28",
     "showTitle": false,
     "title": ""
    }
   },
   "source": [
    "##Task 6"
   ]
  },
  {
   "cell_type": "code",
   "execution_count": 0,
   "metadata": {
    "application/vnd.databricks.v1+cell": {
     "cellMetadata": {
      "byteLimit": 2048000,
      "rowLimit": 10000
     },
     "inputWidgets": {},
     "nuid": "35d742c8-6ea8-493a-b2e1-e825ecadf766",
     "showTitle": false,
     "title": ""
    }
   },
   "outputs": [],
   "source": [
    "# Obtain a column called filename and rename the count column"
   ]
  },
  {
   "cell_type": "code",
   "execution_count": 0,
   "metadata": {
    "application/vnd.databricks.v1+cell": {
     "cellMetadata": {
      "byteLimit": 2048000,
      "rowLimit": 10000
     },
     "inputWidgets": {},
     "nuid": "a558073e-d192-4e9c-9d92-e3dd51ca8ee3",
     "showTitle": false,
     "title": ""
    }
   },
   "outputs": [],
   "source": [
    "\n",
    "flightsAllDF_1 = flightsAllDF.withColumnRenamed(\"count\", \"numflights\").withColumn(\"filename\", F.input_file_name())"
   ]
  },
  {
   "cell_type": "code",
   "execution_count": 0,
   "metadata": {
    "application/vnd.databricks.v1+cell": {
     "cellMetadata": {
      "byteLimit": 2048000,
      "rowLimit": 10000
     },
     "inputWidgets": {},
     "nuid": "54bcdce0-405e-4f61-a779-bf7a24f2a703",
     "showTitle": false,
     "title": ""
    }
   },
   "outputs": [],
   "source": [
    "flightsAllDF_1 = flightsAllDF.select(\"dest\", \"origin\",F.col('count').alias(\"numflights\"),F.input_file_name().alias(\"filename\"))"
   ]
  },
  {
   "cell_type": "code",
   "execution_count": 0,
   "metadata": {
    "application/vnd.databricks.v1+cell": {
     "cellMetadata": {
      "byteLimit": 2048000,
      "rowLimit": 10000
     },
     "inputWidgets": {},
     "nuid": "64eaeef8-85a2-4b99-911f-db3d57c0b140",
     "showTitle": false,
     "title": ""
    }
   },
   "outputs": [
    {
     "output_type": "stream",
     "name": "stdout",
     "output_type": "stream",
     "text": [
      "+----------+--------+\n|numflights|filename|\n+----------+--------+\n|1         |        |\n|264       |        |\n|69        |        |\n+----------+--------+\n\n"
     ]
    }
   ],
   "source": [
    "flightsAllDF_1.select(\"numflights\", \"filename\").show(5, truncate=False)\n"
   ]
  },
  {
   "cell_type": "code",
   "execution_count": 0,
   "metadata": {
    "application/vnd.databricks.v1+cell": {
     "cellMetadata": {
      "byteLimit": 2048000,
      "rowLimit": 10000
     },
     "inputWidgets": {},
     "nuid": "29fd5b4f-8204-4ae8-ab5b-d6614f78b003",
     "showTitle": false,
     "title": ""
    }
   },
   "outputs": [
    {
     "output_type": "stream",
     "name": "stdout",
     "output_type": "stream",
     "text": [
      "['dest', 'origin', 'numflights', 'year', 'filename']\n"
     ]
    }
   ],
   "source": [
    "flightsAllDF = flightsAllDF_1\n",
    "print(flightsAllDF.columns)"
   ]
  },
  {
   "cell_type": "markdown",
   "metadata": {
    "application/vnd.databricks.v1+cell": {
     "cellMetadata": {
      "byteLimit": 2048000,
      "rowLimit": 10000
     },
     "inputWidgets": {},
     "nuid": "eebd61bc-e22e-4e4c-a9b7-392999b7ed8b",
     "showTitle": false,
     "title": ""
    }
   },
   "source": [
    "##Task 7"
   ]
  },
  {
   "cell_type": "code",
   "execution_count": 0,
   "metadata": {
    "application/vnd.databricks.v1+cell": {
     "cellMetadata": {
      "byteLimit": 2048000,
      "rowLimit": 10000
     },
     "inputWidgets": {},
     "nuid": "91d559c1-347c-4b09-9b80-62fa1306a298",
     "showTitle": false,
     "title": ""
    }
   },
   "outputs": [],
   "source": [
    "# Add a year column extracted from filename"
   ]
  },
  {
   "cell_type": "code",
   "execution_count": 0,
   "metadata": {
    "application/vnd.databricks.v1+cell": {
     "cellMetadata": {
      "byteLimit": 2048000,
      "rowLimit": 10000
     },
     "inputWidgets": {},
     "nuid": "986ce131-59cf-480d-b08d-cfed7946790c",
     "showTitle": false,
     "title": ""
    }
   },
   "outputs": [
    {
     "output_type": "display_data",
     "data": {
      "text/plain": [
       "\u001B[0;31m---------------------------------------------------------------------------\u001B[0m\n",
       "\u001B[0;31mNameError\u001B[0m                                 Traceback (most recent call last)\n",
       "File \u001B[0;32m<command-2175728989646986>:1\u001B[0m\n",
       "\u001B[0;32m----> 1\u001B[0m flightsAllDF_2 \u001B[38;5;241m=\u001B[39m \u001B[43mflightsAllDF\u001B[49m\u001B[38;5;241m.\u001B[39mselect(\u001B[38;5;124m'\u001B[39m\u001B[38;5;124m*\u001B[39m\u001B[38;5;124m'\u001B[39m, F\u001B[38;5;241m.\u001B[39mregexp_extract(\u001B[38;5;124m'\u001B[39m\u001B[38;5;124mfilename\u001B[39m\u001B[38;5;124m'\u001B[39m, \u001B[38;5;124mr\u001B[39m\u001B[38;5;124m'\u001B[39m\u001B[38;5;124m/(\u001B[39m\u001B[38;5;124m\\\u001B[39m\u001B[38;5;124md\u001B[39m\u001B[38;5;132;01m{4}\u001B[39;00m\u001B[38;5;124m)-\u001B[39m\u001B[38;5;124m'\u001B[39m, \u001B[38;5;241m1\u001B[39m)\u001B[38;5;241m.\u001B[39malias(\u001B[38;5;124m'\u001B[39m\u001B[38;5;124myear\u001B[39m\u001B[38;5;124m'\u001B[39m)\u001B[38;5;241m.\u001B[39mcast(IntegerType()))\n",
       "\n",
       "\u001B[0;31mNameError\u001B[0m: name 'flightsAllDF' is not defined"
      ]
     },
     "metadata": {
      "application/vnd.databricks.v1+output": {
       "arguments": {},
       "data": "\u001B[0;31m---------------------------------------------------------------------------\u001B[0m\n\u001B[0;31mNameError\u001B[0m                                 Traceback (most recent call last)\nFile \u001B[0;32m<command-2175728989646986>:1\u001B[0m\n\u001B[0;32m----> 1\u001B[0m flightsAllDF_2 \u001B[38;5;241m=\u001B[39m \u001B[43mflightsAllDF\u001B[49m\u001B[38;5;241m.\u001B[39mselect(\u001B[38;5;124m'\u001B[39m\u001B[38;5;124m*\u001B[39m\u001B[38;5;124m'\u001B[39m, F\u001B[38;5;241m.\u001B[39mregexp_extract(\u001B[38;5;124m'\u001B[39m\u001B[38;5;124mfilename\u001B[39m\u001B[38;5;124m'\u001B[39m, \u001B[38;5;124mr\u001B[39m\u001B[38;5;124m'\u001B[39m\u001B[38;5;124m/(\u001B[39m\u001B[38;5;124m\\\u001B[39m\u001B[38;5;124md\u001B[39m\u001B[38;5;132;01m{4}\u001B[39;00m\u001B[38;5;124m)-\u001B[39m\u001B[38;5;124m'\u001B[39m, \u001B[38;5;241m1\u001B[39m)\u001B[38;5;241m.\u001B[39malias(\u001B[38;5;124m'\u001B[39m\u001B[38;5;124myear\u001B[39m\u001B[38;5;124m'\u001B[39m)\u001B[38;5;241m.\u001B[39mcast(IntegerType()))\n\n\u001B[0;31mNameError\u001B[0m: name 'flightsAllDF' is not defined",
       "errorSummary": "<span class='ansi-red-fg'>NameError</span>: name 'flightsAllDF' is not defined",
       "errorTraceType": "ansi",
       "metadata": {},
       "type": "ipynbError"
      }
     },
     "output_type": "display_data"
    }
   ],
   "source": [
    "flightsAllDF_2 = flightsAllDF.select('*', F.regexp_extract('filename', r'/(\\d{4})-', 1).alias('year').cast(IntegerType()))\n"
   ]
  },
  {
   "cell_type": "code",
   "execution_count": 0,
   "metadata": {
    "application/vnd.databricks.v1+cell": {
     "cellMetadata": {
      "byteLimit": 2048000,
      "rowLimit": 10000
     },
     "inputWidgets": {},
     "nuid": "7c135b0b-983c-49ae-89dc-ebc4d56d6674",
     "showTitle": false,
     "title": ""
    }
   },
   "outputs": [],
   "source": [
    "flightsAllDF = flightsAllDF_2.drop(\"filename\")"
   ]
  },
  {
   "cell_type": "code",
   "execution_count": 0,
   "metadata": {
    "application/vnd.databricks.v1+cell": {
     "cellMetadata": {
      "byteLimit": 2048000,
      "rowLimit": 10000
     },
     "inputWidgets": {},
     "nuid": "74a87a04-8e73-420e-9c63-f4bba5add34b",
     "showTitle": false,
     "title": ""
    }
   },
   "outputs": [
    {
     "output_type": "stream",
     "name": "stdout",
     "output_type": "stream",
     "text": [
      "+-------------+-------+----------+----+\n|dest         |origin |numflights|year|\n+-------------+-------+----------+----+\n|United States|Romania|1         |null|\n|United States|Ireland|264       |null|\n|United States|India  |69        |null|\n+-------------+-------+----------+----+\n\n"
     ]
    }
   ],
   "source": [
    "flightsAllDF.show(5, truncate=False)"
   ]
  },
  {
   "cell_type": "code",
   "execution_count": 0,
   "metadata": {
    "application/vnd.databricks.v1+cell": {
     "cellMetadata": {
      "byteLimit": 2048000,
      "rowLimit": 10000
     },
     "inputWidgets": {},
     "nuid": "e84b7b94-9d37-4f2f-9800-63f36ff4fa91",
     "showTitle": false,
     "title": ""
    }
   },
   "outputs": [
    {
     "output_type": "stream",
     "name": "stdout",
     "output_type": "stream",
     "text": [
      "[('dest', 'string'), ('origin', 'string'), ('numflights', 'bigint'), ('year', 'int')]\n"
     ]
    }
   ],
   "source": [
    "print(flightsAllDF.dtypes)"
   ]
  },
  {
   "cell_type": "markdown",
   "metadata": {
    "application/vnd.databricks.v1+cell": {
     "cellMetadata": {},
     "inputWidgets": {},
     "nuid": "ee8549c4-f78d-447a-9aba-68eb83ebd701",
     "showTitle": false,
     "title": ""
    }
   },
   "source": [
    "## Data Analysis"
   ]
  },
  {
   "cell_type": "markdown",
   "metadata": {
    "application/vnd.databricks.v1+cell": {
     "cellMetadata": {},
     "inputWidgets": {},
     "nuid": "98b04014-47f5-42d4-86c5-abd0e6d3a59e",
     "showTitle": false,
     "title": ""
    }
   },
   "source": [
    "## Task 8"
   ]
  },
  {
   "cell_type": "code",
   "execution_count": 0,
   "metadata": {
    "application/vnd.databricks.v1+cell": {
     "cellMetadata": {
      "byteLimit": 2048000,
      "rowLimit": 10000
     },
     "inputWidgets": {},
     "nuid": "225dacd6-647e-44a0-bcc9-09209494758f",
     "showTitle": false,
     "title": ""
    }
   },
   "outputs": [],
   "source": [
    "# Sorting DF"
   ]
  },
  {
   "cell_type": "code",
   "execution_count": 0,
   "metadata": {
    "application/vnd.databricks.v1+cell": {
     "cellMetadata": {
      "byteLimit": 2048000,
      "rowLimit": 10000
     },
     "inputWidgets": {},
     "nuid": "5f3aeabd-9dd3-4daf-856b-41abf24d8756",
     "showTitle": false,
     "title": ""
    }
   },
   "outputs": [
    {
     "output_type": "stream",
     "name": "stdout",
     "output_type": "stream",
     "text": [
      "+-------------+-------+----------+----+\n|         dest| origin|numflights|year|\n+-------------+-------+----------+----+\n|United States|Ireland|       264|null|\n|United States|  India|        69|null|\n|United States|Romania|         1|null|\n+-------------+-------+----------+----+\n\n"
     ]
    }
   ],
   "source": [
    "sortedDF = flightsAllDF.orderBy(F.asc(\"dest\"), F.desc(\"numflights\"))\n",
    "sortedDF.show(10)"
   ]
  },
  {
   "cell_type": "markdown",
   "metadata": {
    "application/vnd.databricks.v1+cell": {
     "cellMetadata": {},
     "inputWidgets": {},
     "nuid": "5e5d450d-2353-4866-9359-165c67d29dd6",
     "showTitle": false,
     "title": ""
    }
   },
   "source": [
    "##Task 9"
   ]
  },
  {
   "cell_type": "code",
   "execution_count": 0,
   "metadata": {
    "application/vnd.databricks.v1+cell": {
     "cellMetadata": {
      "byteLimit": 2048000,
      "rowLimit": 10000
     },
     "inputWidgets": {},
     "nuid": "78ef122f-b8e9-4591-89d6-2738ffbe9d91",
     "showTitle": false,
     "title": ""
    }
   },
   "outputs": [],
   "source": [
    "# Counts of distinct column values"
   ]
  },
  {
   "cell_type": "code",
   "execution_count": 0,
   "metadata": {
    "application/vnd.databricks.v1+cell": {
     "cellMetadata": {
      "byteLimit": 2048000,
      "rowLimit": 10000
     },
     "inputWidgets": {},
     "nuid": "07ccd53f-4660-422e-9d53-89271bcfae0d",
     "showTitle": false,
     "title": ""
    }
   },
   "outputs": [
    {
     "output_type": "stream",
     "name": "stdout",
     "output_type": "stream",
     "text": [
      "1\n"
     ]
    }
   ],
   "source": [
    "distinct_destinations = flightsAllDF.select(F.countDistinct(\"dest\")).count()\n",
    "print(distinct_destinations)"
   ]
  },
  {
   "cell_type": "code",
   "execution_count": 0,
   "metadata": {
    "application/vnd.databricks.v1+cell": {
     "cellMetadata": {
      "byteLimit": 2048000,
      "rowLimit": 10000
     },
     "inputWidgets": {},
     "nuid": "a79f2d9f-9881-450e-af47-a4c3c3732041",
     "showTitle": false,
     "title": ""
    }
   },
   "outputs": [
    {
     "output_type": "stream",
     "name": "stdout",
     "output_type": "stream",
     "text": [
      "1\n"
     ]
    }
   ],
   "source": [
    "distinct_combinations = flightsAllDF.select(\"dest\", \"year\").distinct().count()\n",
    "print(distinct_combinations)"
   ]
  },
  {
   "cell_type": "markdown",
   "metadata": {
    "application/vnd.databricks.v1+cell": {
     "cellMetadata": {},
     "inputWidgets": {},
     "nuid": "8d5c76b1-f7ac-46c2-8678-e7cc435dbd90",
     "showTitle": false,
     "title": ""
    }
   },
   "source": [
    "##Task 10"
   ]
  },
  {
   "cell_type": "code",
   "execution_count": 0,
   "metadata": {
    "application/vnd.databricks.v1+cell": {
     "cellMetadata": {
      "byteLimit": 2048000,
      "rowLimit": 10000
     },
     "inputWidgets": {},
     "nuid": "05a4905a-8504-4e11-a48b-d92f26457e57",
     "showTitle": false,
     "title": ""
    }
   },
   "outputs": [],
   "source": [
    "# Flights from USA to Japan or South Korea "
   ]
  },
  {
   "cell_type": "code",
   "execution_count": 0,
   "metadata": {
    "application/vnd.databricks.v1+cell": {
     "cellMetadata": {
      "byteLimit": 2048000,
      "rowLimit": 10000
     },
     "inputWidgets": {},
     "nuid": "10992a4b-704e-4bbd-8b08-bd3e76c81e32",
     "showTitle": false,
     "title": ""
    }
   },
   "outputs": [
    {
     "output_type": "stream",
     "name": "stdout",
     "output_type": "stream",
     "text": [
      "0\n"
     ]
    }
   ],
   "source": [
    "count_flights = flightsAllDF.filter(((F.col(\"dest\") == \"Japan\") | (F.col(\"dest\") == \"South Korea\")) & (F.col(\"origin\") == \"United States\")).count()\n",
    "print(count_flights)"
   ]
  },
  {
   "cell_type": "code",
   "execution_count": 0,
   "metadata": {
    "application/vnd.databricks.v1+cell": {
     "cellMetadata": {
      "byteLimit": 2048000,
      "rowLimit": 10000
     },
     "inputWidgets": {},
     "nuid": "1b3c79d8-d0b1-4faf-8a44-d00b937bae0d",
     "showTitle": false,
     "title": ""
    }
   },
   "outputs": [
    {
     "output_type": "stream",
     "name": "stdout",
     "output_type": "stream",
     "text": [
      "+----+------+----------+----+\n|dest|origin|numflights|year|\n+----+------+----------+----+\n+----+------+----------+----+\n\n"
     ]
    }
   ],
   "source": [
    "us_flights_to_sk = flightsAllDF.filter((F.col(\"dest\") == \"South Korea\") & (F.col(\"origin\") == \"United States\") & (F.col(\"year\") == 2013))\n",
    "count_us_flights_to_sk = us_flights_to_sk.count()\n",
    "us_flights_to_sk.show()\n",
    "\n"
   ]
  },
  {
   "cell_type": "markdown",
   "metadata": {
    "application/vnd.databricks.v1+cell": {
     "cellMetadata": {},
     "inputWidgets": {},
     "nuid": "737d9a6d-938f-4ad6-ba18-64a769b28481",
     "showTitle": false,
     "title": ""
    }
   },
   "source": [
    "## Task 11"
   ]
  },
  {
   "cell_type": "code",
   "execution_count": 0,
   "metadata": {
    "application/vnd.databricks.v1+cell": {
     "cellMetadata": {
      "byteLimit": 2048000,
      "rowLimit": 10000
     },
     "inputWidgets": {},
     "nuid": "b1b361a3-e6fb-4a01-978d-5532493b73c8",
     "showTitle": false,
     "title": ""
    }
   },
   "outputs": [],
   "source": [
    "# Produce a bar chart of the domestic flights across years"
   ]
  },
  {
   "cell_type": "code",
   "execution_count": 0,
   "metadata": {
    "application/vnd.databricks.v1+cell": {
     "cellMetadata": {
      "byteLimit": 2048000,
      "rowLimit": 10000
     },
     "inputWidgets": {},
     "nuid": "0bd8fa91-0f0d-4be3-b344-4e31a4f9ad50",
     "showTitle": false,
     "title": ""
    }
   },
   "outputs": [
    {
     "output_type": "display_data",
     "data": {
      "text/html": [
       "<style scoped>\n",
       "  .table-result-container {\n",
       "    max-height: 300px;\n",
       "    overflow: auto;\n",
       "  }\n",
       "  table, th, td {\n",
       "    border: 1px solid black;\n",
       "    border-collapse: collapse;\n",
       "  }\n",
       "  th, td {\n",
       "    padding: 5px;\n",
       "  }\n",
       "  th {\n",
       "    text-align: left;\n",
       "  }\n",
       "</style><div class='table-result-container'><table class='table-result'><thead style='background-color: white'><tr><th>year</th><th>count</th></tr></thead><tbody></tbody></table></div>"
      ]
     },
     "metadata": {
      "application/vnd.databricks.v1+output": {
       "addedWidgets": {},
       "aggData": [],
       "aggError": "",
       "aggOverflow": false,
       "aggSchema": [],
       "aggSeriesLimitReached": false,
       "aggType": "",
       "arguments": {},
       "columnCustomDisplayInfos": {},
       "data": [],
       "datasetInfos": [],
       "dbfsResultPath": null,
       "isJsonSchema": true,
       "metadata": {},
       "overflow": false,
       "plotOptions": {
        "customPlotOptions": {},
        "displayType": "table",
        "pivotAggregation": null,
        "pivotColumns": null,
        "xColumns": null,
        "yColumns": null
       },
       "removedWidgets": [],
       "schema": [
        {
         "metadata": "{}",
         "name": "year",
         "type": "\"integer\""
        },
        {
         "metadata": "{}",
         "name": "count",
         "type": "\"long\""
        }
       ],
       "type": "table"
      }
     },
     "output_type": "display_data"
    }
   ],
   "source": [
    "domestic_flights = flightsAllDF.filter(F.col(\"dest\") == F.col(\"origin\"))\n",
    "flight_count_by_year = domestic_flights.groupBy(\"year\").count()\n",
    "sorted_flight_counts = flight_count_by_year.sort(\"year\")\n",
    "display(sorted_flight_counts)"
   ]
  },
  {
   "cell_type": "markdown",
   "metadata": {
    "application/vnd.databricks.v1+cell": {
     "cellMetadata": {},
     "inputWidgets": {},
     "nuid": "19054326-b3f9-4aad-971c-a4a4c7394f1e",
     "showTitle": false,
     "title": ""
    }
   },
   "source": [
    "## Task 12"
   ]
  },
  {
   "cell_type": "code",
   "execution_count": 0,
   "metadata": {
    "application/vnd.databricks.v1+cell": {
     "cellMetadata": {
      "byteLimit": 2048000,
      "rowLimit": 10000
     },
     "inputWidgets": {},
     "nuid": "bf2bbc5c-b21a-4b5f-8729-f2b264aaf9c5",
     "showTitle": false,
     "title": ""
    }
   },
   "outputs": [],
   "source": [
    "# Counts of total flights"
   ]
  },
  {
   "cell_type": "code",
   "execution_count": 0,
   "metadata": {
    "application/vnd.databricks.v1+cell": {
     "cellMetadata": {
      "byteLimit": 2048000,
      "rowLimit": 10000
     },
     "inputWidgets": {},
     "nuid": "de9f5138-e8bf-47ff-a5f8-2cf5e19cb3bb",
     "showTitle": false,
     "title": ""
    }
   },
   "outputs": [
    {
     "output_type": "stream",
     "name": "stdout",
     "output_type": "stream",
     "text": [
      "+----+-------------+\n|year|total_flights|\n+----+-------------+\n|null|          334|\n+----+-------------+\n\n"
     ]
    }
   ],
   "source": [
    "flight_counts_by_year = flightsAllDF.groupBy(\"year\").agg(F.sum(\"numflights\").alias(\"total_flights\"))\n",
    "sorted_flight_counts = flight_counts_by_year.sort(F.desc(\"total_flights\"))\n",
    "sorted_flight_counts.show()\n",
    "\n",
    "\n",
    "\n",
    "\n",
    "\n"
   ]
  },
  {
   "cell_type": "markdown",
   "metadata": {
    "application/vnd.databricks.v1+cell": {
     "cellMetadata": {},
     "inputWidgets": {},
     "nuid": "9fb80cd0-54ad-433e-a9a0-9a74383a7e4e",
     "showTitle": false,
     "title": ""
    }
   },
   "source": [
    "## Task 13"
   ]
  },
  {
   "cell_type": "code",
   "execution_count": 0,
   "metadata": {
    "application/vnd.databricks.v1+cell": {
     "cellMetadata": {
      "byteLimit": 2048000,
      "rowLimit": 10000
     },
     "inputWidgets": {},
     "nuid": "9b676e37-7a63-4864-9872-e7ec291d161f",
     "showTitle": false,
     "title": ""
    }
   },
   "outputs": [],
   "source": [
    "# Counts of International flights"
   ]
  },
  {
   "cell_type": "code",
   "execution_count": 0,
   "metadata": {
    "application/vnd.databricks.v1+cell": {
     "cellMetadata": {
      "byteLimit": 2048000,
      "rowLimit": 10000
     },
     "inputWidgets": {},
     "nuid": "3fb37dc4-ce79-4b2f-bb4a-cf2e42448745",
     "showTitle": false,
     "title": ""
    }
   },
   "outputs": [
    {
     "output_type": "stream",
     "name": "stdout",
     "output_type": "stream",
     "text": [
      "+----+--------------+\n|year|totalflightsin|\n+----+--------------+\n|null|           334|\n+----+--------------+\n\n"
     ]
    }
   ],
   "source": [
    "filtered_df = flightsAllDF.filter((F.col(\"dest\") == \"United States\") & (F.col(\"origin\") != \"United States\"))\n",
    "inUSADF = filtered_df.groupBy(\"year\").agg(F.sum(\"numflights\").alias(\"totalflightsin\"))\n",
    "inUSADF = inUSADF.sort(\"totalflightsin\")\n",
    "inUSADF.show()\n"
   ]
  },
  {
   "cell_type": "code",
   "execution_count": 0,
   "metadata": {
    "application/vnd.databricks.v1+cell": {
     "cellMetadata": {
      "byteLimit": 2048000,
      "rowLimit": 10000
     },
     "inputWidgets": {},
     "nuid": "f601ae3e-0204-4f13-b8c2-af990e5080bf",
     "showTitle": false,
     "title": ""
    }
   },
   "outputs": [
    {
     "output_type": "stream",
     "name": "stdout",
     "output_type": "stream",
     "text": [
      "+----+--------------+---------------+------+\n|year|totalflightsin|totalflightsout|morein|\n+----+--------------+---------------+------+\n+----+--------------+---------------+------+\n\n"
     ]
    }
   ],
   "source": [
    "inUSADF = flightsAllDF.filter(F.col('dest') == 'United States').groupBy('year').agg(F.sum('numflights').alias('totalflightsin'))\n",
    "outUSADF = flightsAllDF.filter(F.col('origin') == 'United States').groupBy('year').agg(F.sum('numflights').alias('totalflightsout'))\n",
    "resultDF = inUSADF.join(outUSADF, 'year', 'inner')\n",
    "resultDF = resultDF.withColumn('morein', F.col('totalflightsin') > F.col('totalflightsout'))\n",
    "resultDF = resultDF.select('year', F.col('totalflightsin').alias('totalflightsin'), F.col('totalflightsout').alias('totalflightsout'), 'morein')\n",
    "resultDF = resultDF.sort('year')\n",
    "resultDF.show()\n"
   ]
  },
  {
   "cell_type": "markdown",
   "metadata": {
    "application/vnd.databricks.v1+cell": {
     "cellMetadata": {
      "byteLimit": 2048000,
      "rowLimit": 10000
     },
     "inputWidgets": {},
     "nuid": "c75bb337-6198-46df-8d2d-4930aeb74882",
     "showTitle": false,
     "title": ""
    }
   },
   "source": [
    "## Task 14"
   ]
  },
  {
   "cell_type": "code",
   "execution_count": 0,
   "metadata": {
    "application/vnd.databricks.v1+cell": {
     "cellMetadata": {
      "byteLimit": 2048000,
      "rowLimit": 10000
     },
     "inputWidgets": {},
     "nuid": "6319d84a-05d7-4403-b97e-c8dcdfc725fd",
     "showTitle": false,
     "title": ""
    }
   },
   "outputs": [
    {
     "output_type": "stream",
     "name": "stdout",
     "output_type": "stream",
     "text": [
      "+----+--------------+------------------+--------------+\n|year|sumflightstoUS|    avgflightstoUS|maxflightstoUS|\n+----+--------------+------------------+--------------+\n|null|           334|111.33333333333333|           264|\n+----+--------------+------------------+--------------+\n\n"
     ]
    }
   ],
   "source": [
    "filteredDF = flightsAllDF.filter((F.col('dest') == 'United States') & (F.col('origin') != 'United States'))\n",
    "summaryDF = filteredDF.groupBy('year').agg(F.sum('numflights').alias('sumflightstoUS'), F.avg('numflights').alias('avgflightstoUS'), F.max('numflights').alias('maxflightstoUS'))\n",
    "summaryDF = summaryDF.sort('year')\n",
    "summaryDF.show()\n"
   ]
  },
  {
   "cell_type": "code",
   "execution_count": 0,
   "metadata": {
    "application/vnd.databricks.v1+cell": {
     "cellMetadata": {},
     "inputWidgets": {},
     "nuid": "4db03c32-6261-4ded-9633-37db8d759f71",
     "showTitle": false,
     "title": ""
    }
   },
   "outputs": [],
   "source": []
  }
 ],
 "metadata": {
  "application/vnd.databricks.v1+notebook": {
   "dashboards": [],
   "language": "python",
   "notebookMetadata": {
    "mostRecentlyExecutedCommandWithImplicitDF": {
     "commandId": 2175728989646949,
     "dataframes": [
      "_sqldf"
     ]
    },
    "pythonIndentUnit": 4
   },
   "notebookName": "Hw5_Tayi_Kushal Ram",
   "widgets": {}
  }
 },
 "nbformat": 4,
 "nbformat_minor": 0
}
