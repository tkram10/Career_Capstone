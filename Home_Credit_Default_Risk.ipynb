{
 "cells": [
  {
   "cell_type": "markdown",
   "id": "3d24479a",
   "metadata": {},
   "source": [
    "# Capstone Project - Home Credit Default Risk"
   ]
  },
  {
   "cell_type": "markdown",
   "id": "3648459a",
   "metadata": {},
   "source": [
    "### Completed by - Kushal Ram Tayi (u1448179)"
   ]
  },
  {
   "cell_type": "markdown",
   "id": "302c5425",
   "metadata": {},
   "source": [
    "## Table Of Contents"
   ]
  },
  {
   "cell_type": "markdown",
   "id": "9301df22",
   "metadata": {},
   "source": [
    "##### 1.Introduction\n",
    "##### 2.Importing Necessary Libraries\n",
    "##### 3.Loading The Train Dataset\n",
    "##### 4.DataCleaning and PreProcessing\n",
    "##### 5.Correlation Matrix\n",
    "##### 6.Visualizations\n",
    "##### 7.Loading the Test Dataset\n",
    "##### 8.DataCleaning and PreProcessing of Test Dataset\n",
    "##### 9.Transactional Data\n",
    "##### 10.Result"
   ]
  },
  {
   "cell_type": "markdown",
   "id": "704b69ea",
   "metadata": {},
   "source": [
    "### 1. Introduction"
   ]
  },
  {
   "cell_type": "markdown",
   "id": "9775777b",
   "metadata": {},
   "source": [
    "Home Credit Group aims to enhance financial inclusion for individuals with limited or nonexistent credit histories. The challenge at hand is to leverage alternative data sources, such as telco and transactional information, more effectively to predict clients' repayment capabilities.Currently, Home Credit employs statistical and machine learning methods for these predictions,but they seek to maximize the utility of their data.\n",
    "\n",
    "Predictive analysis involves using historical data to make predictions about future events oroutcomes. In the context of Home Credit's problem, predictive analysis can be used to forecastwhether a customer will be able to repay a loan or not. This is a fundamental aspect of credit risk assessment.\n",
    "\n",
    "Classification algorithms are a type of predictive modeling technique used for categorizing data\n",
    "into different classes or groups. In this case, classification algorithms can be applied to classify\n",
    "loan applicants into categories such as \"likely to repay\" and \"unlikely to repay.”\n",
    "The primary objective is to ensure that clients with the capacity to repay are not declined, and\n",
    "loans are structured with optimal principal amounts, maturities, and repayment schedules to\n",
    "empower clients towards financial success.\n",
    "\n",
    "The data analytics team is going to execute this project. The project will get ready for review by\n",
    "operations by November 20th.For further developments, we will be using comments to revise\n",
    "deliverables as necessary. The deadline for those revisions will be November 28th."
   ]
  },
  {
   "cell_type": "markdown",
   "id": "575800d3",
   "metadata": {},
   "source": [
    "### 2.Importing Necessary Libraries"
   ]
  },
  {
   "cell_type": "code",
   "execution_count": 1,
   "id": "ecf6a0f1",
   "metadata": {},
   "outputs": [],
   "source": [
    "import pandas as pd\n",
    "import numpy as np\n",
    "import matplotlib.pyplot as plt\n",
    "import seaborn as sns\n",
    "\n",
    "\n"
   ]
  },
  {
   "cell_type": "code",
   "execution_count": 2,
   "id": "a335c1c5",
   "metadata": {},
   "outputs": [],
   "source": [
    "#Compress/hide the warnings\n",
    "import warnings\n",
    "warnings.simplefilter(action='ignore', category=FutureWarning)"
   ]
  },
  {
   "cell_type": "markdown",
   "id": "6abc2599",
   "metadata": {},
   "source": [
    "### 3.Loading the Train Dataset"
   ]
  },
  {
   "cell_type": "code",
   "execution_count": 3,
   "id": "97a470ae",
   "metadata": {},
   "outputs": [],
   "source": [
    "train_data = pd.read_csv('application_train.csv')\n"
   ]
  },
  {
   "cell_type": "markdown",
   "id": "aa543340",
   "metadata": {},
   "source": [
    "The pd.read_csv() function reads the data from a CSV file named 'application_train.csv' and stores it in a Pandas DataFrame called train_data. "
   ]
  },
  {
   "cell_type": "code",
   "execution_count": 4,
   "id": "901035df",
   "metadata": {},
   "outputs": [
    {
     "data": {
      "text/html": [
       "<div>\n",
       "<style scoped>\n",
       "    .dataframe tbody tr th:only-of-type {\n",
       "        vertical-align: middle;\n",
       "    }\n",
       "\n",
       "    .dataframe tbody tr th {\n",
       "        vertical-align: top;\n",
       "    }\n",
       "\n",
       "    .dataframe thead th {\n",
       "        text-align: right;\n",
       "    }\n",
       "</style>\n",
       "<table border=\"1\" class=\"dataframe\">\n",
       "  <thead>\n",
       "    <tr style=\"text-align: right;\">\n",
       "      <th></th>\n",
       "      <th>SK_ID_CURR</th>\n",
       "      <th>TARGET</th>\n",
       "      <th>NAME_CONTRACT_TYPE</th>\n",
       "      <th>CODE_GENDER</th>\n",
       "      <th>FLAG_OWN_CAR</th>\n",
       "      <th>FLAG_OWN_REALTY</th>\n",
       "      <th>CNT_CHILDREN</th>\n",
       "      <th>AMT_INCOME_TOTAL</th>\n",
       "      <th>AMT_CREDIT</th>\n",
       "      <th>AMT_ANNUITY</th>\n",
       "      <th>...</th>\n",
       "      <th>FLAG_DOCUMENT_18</th>\n",
       "      <th>FLAG_DOCUMENT_19</th>\n",
       "      <th>FLAG_DOCUMENT_20</th>\n",
       "      <th>FLAG_DOCUMENT_21</th>\n",
       "      <th>AMT_REQ_CREDIT_BUREAU_HOUR</th>\n",
       "      <th>AMT_REQ_CREDIT_BUREAU_DAY</th>\n",
       "      <th>AMT_REQ_CREDIT_BUREAU_WEEK</th>\n",
       "      <th>AMT_REQ_CREDIT_BUREAU_MON</th>\n",
       "      <th>AMT_REQ_CREDIT_BUREAU_QRT</th>\n",
       "      <th>AMT_REQ_CREDIT_BUREAU_YEAR</th>\n",
       "    </tr>\n",
       "  </thead>\n",
       "  <tbody>\n",
       "    <tr>\n",
       "      <th>0</th>\n",
       "      <td>100002</td>\n",
       "      <td>1</td>\n",
       "      <td>Cash loans</td>\n",
       "      <td>M</td>\n",
       "      <td>N</td>\n",
       "      <td>Y</td>\n",
       "      <td>0</td>\n",
       "      <td>202500.0</td>\n",
       "      <td>406597.5</td>\n",
       "      <td>24700.5</td>\n",
       "      <td>...</td>\n",
       "      <td>0</td>\n",
       "      <td>0</td>\n",
       "      <td>0</td>\n",
       "      <td>0</td>\n",
       "      <td>0.0</td>\n",
       "      <td>0.0</td>\n",
       "      <td>0.0</td>\n",
       "      <td>0.0</td>\n",
       "      <td>0.0</td>\n",
       "      <td>1.0</td>\n",
       "    </tr>\n",
       "    <tr>\n",
       "      <th>1</th>\n",
       "      <td>100003</td>\n",
       "      <td>0</td>\n",
       "      <td>Cash loans</td>\n",
       "      <td>F</td>\n",
       "      <td>N</td>\n",
       "      <td>N</td>\n",
       "      <td>0</td>\n",
       "      <td>270000.0</td>\n",
       "      <td>1293502.5</td>\n",
       "      <td>35698.5</td>\n",
       "      <td>...</td>\n",
       "      <td>0</td>\n",
       "      <td>0</td>\n",
       "      <td>0</td>\n",
       "      <td>0</td>\n",
       "      <td>0.0</td>\n",
       "      <td>0.0</td>\n",
       "      <td>0.0</td>\n",
       "      <td>0.0</td>\n",
       "      <td>0.0</td>\n",
       "      <td>0.0</td>\n",
       "    </tr>\n",
       "    <tr>\n",
       "      <th>2</th>\n",
       "      <td>100004</td>\n",
       "      <td>0</td>\n",
       "      <td>Revolving loans</td>\n",
       "      <td>M</td>\n",
       "      <td>Y</td>\n",
       "      <td>Y</td>\n",
       "      <td>0</td>\n",
       "      <td>67500.0</td>\n",
       "      <td>135000.0</td>\n",
       "      <td>6750.0</td>\n",
       "      <td>...</td>\n",
       "      <td>0</td>\n",
       "      <td>0</td>\n",
       "      <td>0</td>\n",
       "      <td>0</td>\n",
       "      <td>0.0</td>\n",
       "      <td>0.0</td>\n",
       "      <td>0.0</td>\n",
       "      <td>0.0</td>\n",
       "      <td>0.0</td>\n",
       "      <td>0.0</td>\n",
       "    </tr>\n",
       "    <tr>\n",
       "      <th>3</th>\n",
       "      <td>100006</td>\n",
       "      <td>0</td>\n",
       "      <td>Cash loans</td>\n",
       "      <td>F</td>\n",
       "      <td>N</td>\n",
       "      <td>Y</td>\n",
       "      <td>0</td>\n",
       "      <td>135000.0</td>\n",
       "      <td>312682.5</td>\n",
       "      <td>29686.5</td>\n",
       "      <td>...</td>\n",
       "      <td>0</td>\n",
       "      <td>0</td>\n",
       "      <td>0</td>\n",
       "      <td>0</td>\n",
       "      <td>NaN</td>\n",
       "      <td>NaN</td>\n",
       "      <td>NaN</td>\n",
       "      <td>NaN</td>\n",
       "      <td>NaN</td>\n",
       "      <td>NaN</td>\n",
       "    </tr>\n",
       "    <tr>\n",
       "      <th>4</th>\n",
       "      <td>100007</td>\n",
       "      <td>0</td>\n",
       "      <td>Cash loans</td>\n",
       "      <td>M</td>\n",
       "      <td>N</td>\n",
       "      <td>Y</td>\n",
       "      <td>0</td>\n",
       "      <td>121500.0</td>\n",
       "      <td>513000.0</td>\n",
       "      <td>21865.5</td>\n",
       "      <td>...</td>\n",
       "      <td>0</td>\n",
       "      <td>0</td>\n",
       "      <td>0</td>\n",
       "      <td>0</td>\n",
       "      <td>0.0</td>\n",
       "      <td>0.0</td>\n",
       "      <td>0.0</td>\n",
       "      <td>0.0</td>\n",
       "      <td>0.0</td>\n",
       "      <td>0.0</td>\n",
       "    </tr>\n",
       "  </tbody>\n",
       "</table>\n",
       "<p>5 rows × 122 columns</p>\n",
       "</div>"
      ],
      "text/plain": [
       "   SK_ID_CURR  TARGET NAME_CONTRACT_TYPE CODE_GENDER FLAG_OWN_CAR  \\\n",
       "0      100002       1         Cash loans           M            N   \n",
       "1      100003       0         Cash loans           F            N   \n",
       "2      100004       0    Revolving loans           M            Y   \n",
       "3      100006       0         Cash loans           F            N   \n",
       "4      100007       0         Cash loans           M            N   \n",
       "\n",
       "  FLAG_OWN_REALTY  CNT_CHILDREN  AMT_INCOME_TOTAL  AMT_CREDIT  AMT_ANNUITY  \\\n",
       "0               Y             0          202500.0    406597.5      24700.5   \n",
       "1               N             0          270000.0   1293502.5      35698.5   \n",
       "2               Y             0           67500.0    135000.0       6750.0   \n",
       "3               Y             0          135000.0    312682.5      29686.5   \n",
       "4               Y             0          121500.0    513000.0      21865.5   \n",
       "\n",
       "   ...  FLAG_DOCUMENT_18 FLAG_DOCUMENT_19 FLAG_DOCUMENT_20 FLAG_DOCUMENT_21  \\\n",
       "0  ...                 0                0                0                0   \n",
       "1  ...                 0                0                0                0   \n",
       "2  ...                 0                0                0                0   \n",
       "3  ...                 0                0                0                0   \n",
       "4  ...                 0                0                0                0   \n",
       "\n",
       "  AMT_REQ_CREDIT_BUREAU_HOUR AMT_REQ_CREDIT_BUREAU_DAY  \\\n",
       "0                        0.0                       0.0   \n",
       "1                        0.0                       0.0   \n",
       "2                        0.0                       0.0   \n",
       "3                        NaN                       NaN   \n",
       "4                        0.0                       0.0   \n",
       "\n",
       "   AMT_REQ_CREDIT_BUREAU_WEEK  AMT_REQ_CREDIT_BUREAU_MON  \\\n",
       "0                         0.0                        0.0   \n",
       "1                         0.0                        0.0   \n",
       "2                         0.0                        0.0   \n",
       "3                         NaN                        NaN   \n",
       "4                         0.0                        0.0   \n",
       "\n",
       "   AMT_REQ_CREDIT_BUREAU_QRT  AMT_REQ_CREDIT_BUREAU_YEAR  \n",
       "0                        0.0                         1.0  \n",
       "1                        0.0                         0.0  \n",
       "2                        0.0                         0.0  \n",
       "3                        NaN                         NaN  \n",
       "4                        0.0                         0.0  \n",
       "\n",
       "[5 rows x 122 columns]"
      ]
     },
     "execution_count": 4,
     "metadata": {},
     "output_type": "execute_result"
    }
   ],
   "source": [
    "train_data.head()"
   ]
  },
  {
   "cell_type": "markdown",
   "id": "3a0bfe87",
   "metadata": {},
   "source": [
    "head () function displays the first few rows (by default, the first 5 rows) of the train_data DataFrame. \n",
    "It provides a quick preview of the data to understand its structure and contents."
   ]
  },
  {
   "cell_type": "code",
   "execution_count": 5,
   "id": "47753c05",
   "metadata": {},
   "outputs": [
    {
     "data": {
      "text/plain": [
       "(307511, 122)"
      ]
     },
     "execution_count": 5,
     "metadata": {},
     "output_type": "execute_result"
    }
   ],
   "source": [
    "train_data.shape"
   ]
  },
  {
   "cell_type": "markdown",
   "id": "328cb45a",
   "metadata": {},
   "source": [
    "It retrieves and prints the shape of the train_data DataFrame, which represents the number of rows and columns in the dataset."
   ]
  },
  {
   "cell_type": "markdown",
   "id": "c6c129f5",
   "metadata": {},
   "source": [
    "### 4.Data Cleaning and pre-processing"
   ]
  },
  {
   "cell_type": "code",
   "execution_count": 6,
   "id": "3c503241",
   "metadata": {},
   "outputs": [
    {
     "name": "stdout",
     "output_type": "stream",
     "text": [
      "                             Train_Missing_values  Train_Missing_Values(%)\n",
      "SK_ID_CURR                                      0                 0.000000\n",
      "HOUR_APPR_PROCESS_START                         0                 0.000000\n",
      "REG_REGION_NOT_WORK_REGION                      0                 0.000000\n",
      "LIVE_REGION_NOT_WORK_REGION                     0                 0.000000\n",
      "REG_CITY_NOT_LIVE_CITY                          0                 0.000000\n",
      "...                                           ...                      ...\n",
      "NONLIVINGAPARTMENTS_MEDI                   213514                69.432963\n",
      "NONLIVINGAPARTMENTS_MODE                   213514                69.432963\n",
      "COMMONAREA_MODE                            214865                69.872297\n",
      "COMMONAREA_AVG                             214865                69.872297\n",
      "COMMONAREA_MEDI                            214865                69.872297\n",
      "\n",
      "[122 rows x 2 columns]\n"
     ]
    }
   ],
   "source": [
    "# Getting the Information About Missing Values\n",
    "missing_values = train_data.isnull().sum()\n",
    "train_missing_percent = (missing_values / len(train_data)) * 100\n",
    "missing_info = pd.DataFrame({'Train_Missing_values': missing_values, 'Train_Missing_Values(%)': train_missing_percent})\n",
    "\n",
    "print(missing_info.sort_values(by=['Train_Missing_Values(%)']))"
   ]
  },
  {
   "cell_type": "markdown",
   "id": "22e44f99",
   "metadata": {},
   "source": [
    "We checked for missing values in the train_data DataFrame, counting how many are missing in each column.\n",
    "\n",
    "We calculated the percentage of missing values for each column in train_data.\n",
    "\n",
    "Finally, we sorted the columns by their missing value percentages to identify those with the highest missing values, which helps us prioritize them for data cleaning or filling in missing data."
   ]
  },
  {
   "cell_type": "code",
   "execution_count": 7,
   "id": "2c9408c2",
   "metadata": {},
   "outputs": [],
   "source": [
    "# Dropping the columns with missing values greater than 50\n",
    "\n",
    "columns_to_drop = missing_info[missing_info['Train_Missing_Values(%)'] > 50].index\n",
    "\n",
    "# Drop the columns from the 'train_data' DataFrame\n",
    "train_data1 = train_data.drop(columns=columns_to_drop)\n"
   ]
  },
  {
   "cell_type": "markdown",
   "id": "80222bb2",
   "metadata": {},
   "source": [
    "Creating a new Pandas Series called columns_to_drop by retrieving the column names from the missing_info DataFrame where the 'Train_Missing_Values(%)' column has values greater than 50%. \n",
    "\n",
    "Then we are creating a new DataFrame called train_data1 by dropping the columns identified in the columns_to_drop Series from the original train_data DataFrame. It effectively removes columns with a high percentage of missing values from the dataset.\n",
    "\n",
    "It helps in data preprocessing by eliminating columns with a significant amount of missing data. Removing such columns can improve the quality of the dataset and simplify subsequent analysis or modeling tasks."
   ]
  },
  {
   "cell_type": "code",
   "execution_count": 8,
   "id": "5c0d7dcc",
   "metadata": {},
   "outputs": [
    {
     "data": {
      "text/plain": [
       "(307511, 81)"
      ]
     },
     "execution_count": 8,
     "metadata": {},
     "output_type": "execute_result"
    }
   ],
   "source": [
    "train_data1.shape"
   ]
  },
  {
   "cell_type": "markdown",
   "id": "7a24db0f",
   "metadata": {},
   "source": [
    "Dropping the columns with missing values greater than 50% from the train_data dataset has resulted in a reduction in the number of columns from 122 to 81. In other words, by removing columns with a significant amount of missing data, you have effectively reduced the dimensionality or complexity of the dataset.\n",
    "\n",
    "This data compression, achieved by removing columns with excessive missing data, can streamline the data preparation process and potentially lead to more effective and efficient analysis and modeling.\n"
   ]
  },
  {
   "cell_type": "code",
   "execution_count": 9,
   "id": "d50789c6",
   "metadata": {},
   "outputs": [],
   "source": [
    "\n",
    "\n",
    "# Filter the columns with missing values\n",
    "columns_with_missing_values = missing_values[missing_values > 0].index\n",
    "\n",
    "# Separate categorical and numeric columns\n",
    "categorical_columns = train_data1.select_dtypes(include=['object']).columns\n",
    "numeric_columns = train_data1.select_dtypes(include=['number']).columns\n",
    "\n",
    "# Calculate mean values for each column with missing values (in numeric columns)\n",
    "mean_values_numeric = train_data1[columns_with_missing_values & numeric_columns].mean()\n",
    "\n",
    "# Calculate mean values for each column with missing values (in categorical columns)\n",
    "mean_values_categorical = train_data1[columns_with_missing_values & categorical_columns].mode().iloc[0]\n",
    "\n",
    "# Now, 'mean_values_numeric' contains mean values for numeric columns with missing values,\n",
    "# and 'mean_values_categorical' contains mode values for categorical columns with missing values\n"
   ]
  },
  {
   "cell_type": "markdown",
   "id": "6c94b621",
   "metadata": {},
   "source": [
    "First The data was split into categorical and numeric columns to impute missing values in the train_data1 DataFrame.\n",
    "\n",
    "For numeric columns,we decided to use the average value (mean) as a replacement for any missing values.\n",
    "\n",
    "For categorical columns,we choose the most frequently occurring value (mode) as a replacement for any missing values. \n"
   ]
  },
  {
   "cell_type": "code",
   "execution_count": 10,
   "id": "c86f7718",
   "metadata": {},
   "outputs": [],
   "source": [
    "# Fill missing values with mean for numeric columns\n",
    "train_data1[numeric_columns] = train_data1[numeric_columns].fillna(train_data1[numeric_columns].mean())\n",
    "\n",
    "# Fill missing values with mode for categorical columns\n",
    "for column in categorical_columns:\n",
    "    mode_value = train_data1[column].mode().iloc[0]\n",
    "    train_data1[column] = train_data1[column].fillna(mode_value)"
   ]
  },
  {
   "cell_type": "markdown",
   "id": "b05bac56",
   "metadata": {},
   "source": [
    "Here we are filling in missing values in both numeric and categorical columns of the train_data1 DataFrame. Numeric columns are imputed with the mean, and categorical columns are imputed with the mode. \n",
    "\n",
    "Imputing missing values is an essential step in data preprocessing to ensure that the dataset is ready for analysis or modeling."
   ]
  },
  {
   "cell_type": "code",
   "execution_count": 11,
   "id": "a3bd26ee",
   "metadata": {},
   "outputs": [
    {
     "data": {
      "text/html": [
       "<div>\n",
       "<style scoped>\n",
       "    .dataframe tbody tr th:only-of-type {\n",
       "        vertical-align: middle;\n",
       "    }\n",
       "\n",
       "    .dataframe tbody tr th {\n",
       "        vertical-align: top;\n",
       "    }\n",
       "\n",
       "    .dataframe thead th {\n",
       "        text-align: right;\n",
       "    }\n",
       "</style>\n",
       "<table border=\"1\" class=\"dataframe\">\n",
       "  <thead>\n",
       "    <tr style=\"text-align: right;\">\n",
       "      <th></th>\n",
       "      <th>SK_ID_CURR</th>\n",
       "      <th>TARGET</th>\n",
       "      <th>NAME_CONTRACT_TYPE</th>\n",
       "      <th>CODE_GENDER</th>\n",
       "      <th>FLAG_OWN_CAR</th>\n",
       "      <th>FLAG_OWN_REALTY</th>\n",
       "      <th>CNT_CHILDREN</th>\n",
       "      <th>AMT_INCOME_TOTAL</th>\n",
       "      <th>AMT_CREDIT</th>\n",
       "      <th>AMT_ANNUITY</th>\n",
       "      <th>...</th>\n",
       "      <th>FLAG_DOCUMENT_18</th>\n",
       "      <th>FLAG_DOCUMENT_19</th>\n",
       "      <th>FLAG_DOCUMENT_20</th>\n",
       "      <th>FLAG_DOCUMENT_21</th>\n",
       "      <th>AMT_REQ_CREDIT_BUREAU_HOUR</th>\n",
       "      <th>AMT_REQ_CREDIT_BUREAU_DAY</th>\n",
       "      <th>AMT_REQ_CREDIT_BUREAU_WEEK</th>\n",
       "      <th>AMT_REQ_CREDIT_BUREAU_MON</th>\n",
       "      <th>AMT_REQ_CREDIT_BUREAU_QRT</th>\n",
       "      <th>AMT_REQ_CREDIT_BUREAU_YEAR</th>\n",
       "    </tr>\n",
       "  </thead>\n",
       "  <tbody>\n",
       "    <tr>\n",
       "      <th>0</th>\n",
       "      <td>100002</td>\n",
       "      <td>1</td>\n",
       "      <td>Cash loans</td>\n",
       "      <td>M</td>\n",
       "      <td>N</td>\n",
       "      <td>Y</td>\n",
       "      <td>0</td>\n",
       "      <td>202500.0</td>\n",
       "      <td>406597.5</td>\n",
       "      <td>24700.5</td>\n",
       "      <td>...</td>\n",
       "      <td>0</td>\n",
       "      <td>0</td>\n",
       "      <td>0</td>\n",
       "      <td>0</td>\n",
       "      <td>0.000000</td>\n",
       "      <td>0.000</td>\n",
       "      <td>0.000000</td>\n",
       "      <td>0.000000</td>\n",
       "      <td>0.000000</td>\n",
       "      <td>1.000000</td>\n",
       "    </tr>\n",
       "    <tr>\n",
       "      <th>1</th>\n",
       "      <td>100003</td>\n",
       "      <td>0</td>\n",
       "      <td>Cash loans</td>\n",
       "      <td>F</td>\n",
       "      <td>N</td>\n",
       "      <td>N</td>\n",
       "      <td>0</td>\n",
       "      <td>270000.0</td>\n",
       "      <td>1293502.5</td>\n",
       "      <td>35698.5</td>\n",
       "      <td>...</td>\n",
       "      <td>0</td>\n",
       "      <td>0</td>\n",
       "      <td>0</td>\n",
       "      <td>0</td>\n",
       "      <td>0.000000</td>\n",
       "      <td>0.000</td>\n",
       "      <td>0.000000</td>\n",
       "      <td>0.000000</td>\n",
       "      <td>0.000000</td>\n",
       "      <td>0.000000</td>\n",
       "    </tr>\n",
       "    <tr>\n",
       "      <th>2</th>\n",
       "      <td>100004</td>\n",
       "      <td>0</td>\n",
       "      <td>Revolving loans</td>\n",
       "      <td>M</td>\n",
       "      <td>Y</td>\n",
       "      <td>Y</td>\n",
       "      <td>0</td>\n",
       "      <td>67500.0</td>\n",
       "      <td>135000.0</td>\n",
       "      <td>6750.0</td>\n",
       "      <td>...</td>\n",
       "      <td>0</td>\n",
       "      <td>0</td>\n",
       "      <td>0</td>\n",
       "      <td>0</td>\n",
       "      <td>0.000000</td>\n",
       "      <td>0.000</td>\n",
       "      <td>0.000000</td>\n",
       "      <td>0.000000</td>\n",
       "      <td>0.000000</td>\n",
       "      <td>0.000000</td>\n",
       "    </tr>\n",
       "    <tr>\n",
       "      <th>3</th>\n",
       "      <td>100006</td>\n",
       "      <td>0</td>\n",
       "      <td>Cash loans</td>\n",
       "      <td>F</td>\n",
       "      <td>N</td>\n",
       "      <td>Y</td>\n",
       "      <td>0</td>\n",
       "      <td>135000.0</td>\n",
       "      <td>312682.5</td>\n",
       "      <td>29686.5</td>\n",
       "      <td>...</td>\n",
       "      <td>0</td>\n",
       "      <td>0</td>\n",
       "      <td>0</td>\n",
       "      <td>0</td>\n",
       "      <td>0.006402</td>\n",
       "      <td>0.007</td>\n",
       "      <td>0.034362</td>\n",
       "      <td>0.267395</td>\n",
       "      <td>0.265474</td>\n",
       "      <td>1.899974</td>\n",
       "    </tr>\n",
       "    <tr>\n",
       "      <th>4</th>\n",
       "      <td>100007</td>\n",
       "      <td>0</td>\n",
       "      <td>Cash loans</td>\n",
       "      <td>M</td>\n",
       "      <td>N</td>\n",
       "      <td>Y</td>\n",
       "      <td>0</td>\n",
       "      <td>121500.0</td>\n",
       "      <td>513000.0</td>\n",
       "      <td>21865.5</td>\n",
       "      <td>...</td>\n",
       "      <td>0</td>\n",
       "      <td>0</td>\n",
       "      <td>0</td>\n",
       "      <td>0</td>\n",
       "      <td>0.000000</td>\n",
       "      <td>0.000</td>\n",
       "      <td>0.000000</td>\n",
       "      <td>0.000000</td>\n",
       "      <td>0.000000</td>\n",
       "      <td>0.000000</td>\n",
       "    </tr>\n",
       "    <tr>\n",
       "      <th>...</th>\n",
       "      <td>...</td>\n",
       "      <td>...</td>\n",
       "      <td>...</td>\n",
       "      <td>...</td>\n",
       "      <td>...</td>\n",
       "      <td>...</td>\n",
       "      <td>...</td>\n",
       "      <td>...</td>\n",
       "      <td>...</td>\n",
       "      <td>...</td>\n",
       "      <td>...</td>\n",
       "      <td>...</td>\n",
       "      <td>...</td>\n",
       "      <td>...</td>\n",
       "      <td>...</td>\n",
       "      <td>...</td>\n",
       "      <td>...</td>\n",
       "      <td>...</td>\n",
       "      <td>...</td>\n",
       "      <td>...</td>\n",
       "      <td>...</td>\n",
       "    </tr>\n",
       "    <tr>\n",
       "      <th>307506</th>\n",
       "      <td>456251</td>\n",
       "      <td>0</td>\n",
       "      <td>Cash loans</td>\n",
       "      <td>M</td>\n",
       "      <td>N</td>\n",
       "      <td>N</td>\n",
       "      <td>0</td>\n",
       "      <td>157500.0</td>\n",
       "      <td>254700.0</td>\n",
       "      <td>27558.0</td>\n",
       "      <td>...</td>\n",
       "      <td>0</td>\n",
       "      <td>0</td>\n",
       "      <td>0</td>\n",
       "      <td>0</td>\n",
       "      <td>0.006402</td>\n",
       "      <td>0.007</td>\n",
       "      <td>0.034362</td>\n",
       "      <td>0.267395</td>\n",
       "      <td>0.265474</td>\n",
       "      <td>1.899974</td>\n",
       "    </tr>\n",
       "    <tr>\n",
       "      <th>307507</th>\n",
       "      <td>456252</td>\n",
       "      <td>0</td>\n",
       "      <td>Cash loans</td>\n",
       "      <td>F</td>\n",
       "      <td>N</td>\n",
       "      <td>Y</td>\n",
       "      <td>0</td>\n",
       "      <td>72000.0</td>\n",
       "      <td>269550.0</td>\n",
       "      <td>12001.5</td>\n",
       "      <td>...</td>\n",
       "      <td>0</td>\n",
       "      <td>0</td>\n",
       "      <td>0</td>\n",
       "      <td>0</td>\n",
       "      <td>0.006402</td>\n",
       "      <td>0.007</td>\n",
       "      <td>0.034362</td>\n",
       "      <td>0.267395</td>\n",
       "      <td>0.265474</td>\n",
       "      <td>1.899974</td>\n",
       "    </tr>\n",
       "    <tr>\n",
       "      <th>307508</th>\n",
       "      <td>456253</td>\n",
       "      <td>0</td>\n",
       "      <td>Cash loans</td>\n",
       "      <td>F</td>\n",
       "      <td>N</td>\n",
       "      <td>Y</td>\n",
       "      <td>0</td>\n",
       "      <td>153000.0</td>\n",
       "      <td>677664.0</td>\n",
       "      <td>29979.0</td>\n",
       "      <td>...</td>\n",
       "      <td>0</td>\n",
       "      <td>0</td>\n",
       "      <td>0</td>\n",
       "      <td>0</td>\n",
       "      <td>1.000000</td>\n",
       "      <td>0.000</td>\n",
       "      <td>0.000000</td>\n",
       "      <td>1.000000</td>\n",
       "      <td>0.000000</td>\n",
       "      <td>1.000000</td>\n",
       "    </tr>\n",
       "    <tr>\n",
       "      <th>307509</th>\n",
       "      <td>456254</td>\n",
       "      <td>1</td>\n",
       "      <td>Cash loans</td>\n",
       "      <td>F</td>\n",
       "      <td>N</td>\n",
       "      <td>Y</td>\n",
       "      <td>0</td>\n",
       "      <td>171000.0</td>\n",
       "      <td>370107.0</td>\n",
       "      <td>20205.0</td>\n",
       "      <td>...</td>\n",
       "      <td>0</td>\n",
       "      <td>0</td>\n",
       "      <td>0</td>\n",
       "      <td>0</td>\n",
       "      <td>0.000000</td>\n",
       "      <td>0.000</td>\n",
       "      <td>0.000000</td>\n",
       "      <td>0.000000</td>\n",
       "      <td>0.000000</td>\n",
       "      <td>0.000000</td>\n",
       "    </tr>\n",
       "    <tr>\n",
       "      <th>307510</th>\n",
       "      <td>456255</td>\n",
       "      <td>0</td>\n",
       "      <td>Cash loans</td>\n",
       "      <td>F</td>\n",
       "      <td>N</td>\n",
       "      <td>N</td>\n",
       "      <td>0</td>\n",
       "      <td>157500.0</td>\n",
       "      <td>675000.0</td>\n",
       "      <td>49117.5</td>\n",
       "      <td>...</td>\n",
       "      <td>0</td>\n",
       "      <td>0</td>\n",
       "      <td>0</td>\n",
       "      <td>0</td>\n",
       "      <td>0.000000</td>\n",
       "      <td>0.000</td>\n",
       "      <td>0.000000</td>\n",
       "      <td>2.000000</td>\n",
       "      <td>0.000000</td>\n",
       "      <td>1.000000</td>\n",
       "    </tr>\n",
       "  </tbody>\n",
       "</table>\n",
       "<p>307511 rows × 81 columns</p>\n",
       "</div>"
      ],
      "text/plain": [
       "        SK_ID_CURR  TARGET NAME_CONTRACT_TYPE CODE_GENDER FLAG_OWN_CAR  \\\n",
       "0           100002       1         Cash loans           M            N   \n",
       "1           100003       0         Cash loans           F            N   \n",
       "2           100004       0    Revolving loans           M            Y   \n",
       "3           100006       0         Cash loans           F            N   \n",
       "4           100007       0         Cash loans           M            N   \n",
       "...            ...     ...                ...         ...          ...   \n",
       "307506      456251       0         Cash loans           M            N   \n",
       "307507      456252       0         Cash loans           F            N   \n",
       "307508      456253       0         Cash loans           F            N   \n",
       "307509      456254       1         Cash loans           F            N   \n",
       "307510      456255       0         Cash loans           F            N   \n",
       "\n",
       "       FLAG_OWN_REALTY  CNT_CHILDREN  AMT_INCOME_TOTAL  AMT_CREDIT  \\\n",
       "0                    Y             0          202500.0    406597.5   \n",
       "1                    N             0          270000.0   1293502.5   \n",
       "2                    Y             0           67500.0    135000.0   \n",
       "3                    Y             0          135000.0    312682.5   \n",
       "4                    Y             0          121500.0    513000.0   \n",
       "...                ...           ...               ...         ...   \n",
       "307506               N             0          157500.0    254700.0   \n",
       "307507               Y             0           72000.0    269550.0   \n",
       "307508               Y             0          153000.0    677664.0   \n",
       "307509               Y             0          171000.0    370107.0   \n",
       "307510               N             0          157500.0    675000.0   \n",
       "\n",
       "        AMT_ANNUITY  ...  FLAG_DOCUMENT_18 FLAG_DOCUMENT_19 FLAG_DOCUMENT_20  \\\n",
       "0           24700.5  ...                 0                0                0   \n",
       "1           35698.5  ...                 0                0                0   \n",
       "2            6750.0  ...                 0                0                0   \n",
       "3           29686.5  ...                 0                0                0   \n",
       "4           21865.5  ...                 0                0                0   \n",
       "...             ...  ...               ...              ...              ...   \n",
       "307506      27558.0  ...                 0                0                0   \n",
       "307507      12001.5  ...                 0                0                0   \n",
       "307508      29979.0  ...                 0                0                0   \n",
       "307509      20205.0  ...                 0                0                0   \n",
       "307510      49117.5  ...                 0                0                0   \n",
       "\n",
       "       FLAG_DOCUMENT_21 AMT_REQ_CREDIT_BUREAU_HOUR AMT_REQ_CREDIT_BUREAU_DAY  \\\n",
       "0                     0                   0.000000                     0.000   \n",
       "1                     0                   0.000000                     0.000   \n",
       "2                     0                   0.000000                     0.000   \n",
       "3                     0                   0.006402                     0.007   \n",
       "4                     0                   0.000000                     0.000   \n",
       "...                 ...                        ...                       ...   \n",
       "307506                0                   0.006402                     0.007   \n",
       "307507                0                   0.006402                     0.007   \n",
       "307508                0                   1.000000                     0.000   \n",
       "307509                0                   0.000000                     0.000   \n",
       "307510                0                   0.000000                     0.000   \n",
       "\n",
       "        AMT_REQ_CREDIT_BUREAU_WEEK  AMT_REQ_CREDIT_BUREAU_MON  \\\n",
       "0                         0.000000                   0.000000   \n",
       "1                         0.000000                   0.000000   \n",
       "2                         0.000000                   0.000000   \n",
       "3                         0.034362                   0.267395   \n",
       "4                         0.000000                   0.000000   \n",
       "...                            ...                        ...   \n",
       "307506                    0.034362                   0.267395   \n",
       "307507                    0.034362                   0.267395   \n",
       "307508                    0.000000                   1.000000   \n",
       "307509                    0.000000                   0.000000   \n",
       "307510                    0.000000                   2.000000   \n",
       "\n",
       "        AMT_REQ_CREDIT_BUREAU_QRT  AMT_REQ_CREDIT_BUREAU_YEAR  \n",
       "0                        0.000000                    1.000000  \n",
       "1                        0.000000                    0.000000  \n",
       "2                        0.000000                    0.000000  \n",
       "3                        0.265474                    1.899974  \n",
       "4                        0.000000                    0.000000  \n",
       "...                           ...                         ...  \n",
       "307506                   0.265474                    1.899974  \n",
       "307507                   0.265474                    1.899974  \n",
       "307508                   0.000000                    1.000000  \n",
       "307509                   0.000000                    0.000000  \n",
       "307510                   0.000000                    1.000000  \n",
       "\n",
       "[307511 rows x 81 columns]"
      ]
     },
     "execution_count": 11,
     "metadata": {},
     "output_type": "execute_result"
    }
   ],
   "source": [
    "train_data1"
   ]
  },
  {
   "cell_type": "markdown",
   "id": "41167c75",
   "metadata": {},
   "source": [
    "The dataset called train_data1 has been thoroughly cleaned and transformed to a state where it's now well-prepared and suitable for both the data exploration process (EDA) and the modeling process."
   ]
  },
  {
   "cell_type": "code",
   "execution_count": 71,
   "id": "5b97db12",
   "metadata": {},
   "outputs": [],
   "source": [
    "# Removing Outliers\n",
    "def removeOutliers(col):\n",
    "    Q3 = np.quantile(col, 0.75)\n",
    "    Q1 = np.quantile(col, 0.25)\n",
    "    IQR = Q3 - Q1\n",
    "    lower_range = Q1 - 1.5 * IQR\n",
    "    upper_range = Q3 + 1.5 * IQR\n",
    "    return lower_range,upper_range\n",
    "lowlevel,uplevel=removeOutliers(train_data1['CNT_CHILDREN'])\n",
    "train_data1['CNT_CHILDREN']=np.where(train_data1['CNT_CHILDREN']>uplevel,uplevel,train_data1['CNT_CHILDREN'])\n",
    "train_data1['CNT_CHILDREN']=np.where(train_data1['CNT_CHILDREN']<lowlevel,lowlevel,train_data1['CNT_CHILDREN'])"
   ]
  },
  {
   "cell_type": "markdown",
   "id": "1c6b5a94",
   "metadata": {},
   "source": [
    "Outliers are data points that significantly differ from the majority of the data. In this case, there appears to be an outlier with a value of 19 in the 'CNT_CHILDREN' variable. This value is much higher or lower than most other values in the dataset.\n",
    "\n",
    "The IQR is a statistical measure that helps identify outliers in a dataset. It is calculated as the difference between the third quartile (Q3) and the first quartile (Q1) of the data. The IQR is used to define a range within which data points are considered \"normal,\" and values outside this range are considered potential outliers.\n"
   ]
  },
  {
   "cell_type": "code",
   "execution_count": 72,
   "id": "098df171",
   "metadata": {},
   "outputs": [
    {
     "data": {
      "text/plain": [
       "count    307511.000000\n",
       "mean          0.407455\n",
       "std           0.683742\n",
       "min           0.000000\n",
       "25%           0.000000\n",
       "50%           0.000000\n",
       "75%           1.000000\n",
       "max           2.500000\n",
       "Name: CNT_CHILDREN, dtype: float64"
      ]
     },
     "execution_count": 72,
     "metadata": {},
     "output_type": "execute_result"
    }
   ],
   "source": [
    "train_data1['CNT_CHILDREN'].describe()"
   ]
  },
  {
   "cell_type": "markdown",
   "id": "5a0135fa",
   "metadata": {},
   "source": [
    "The statement suggests that by using the IQR method, the outlier with a value of 19 in the 'CNT_CHILDREN' variable is addressed or decreased to a value of 2.5. Thus the outlier has been modified to bring it within a more reasonable range."
   ]
  },
  {
   "cell_type": "markdown",
   "id": "6c24dd7c",
   "metadata": {},
   "source": [
    "### 5.Correlation Matrix"
   ]
  },
  {
   "cell_type": "code",
   "execution_count": 43,
   "id": "9bce4902",
   "metadata": {},
   "outputs": [
    {
     "name": "stdout",
     "output_type": "stream",
     "text": [
      "Correlation of TARGET with predictors:\n",
      " TARGET                         1.000000\n",
      "DAYS_BIRTH                     0.078239\n",
      "REGION_RATING_CLIENT_W_CITY    0.060893\n",
      "REGION_RATING_CLIENT           0.058899\n",
      "DAYS_LAST_PHONE_CHANGE         0.055218\n",
      "                                 ...   \n",
      "REGION_POPULATION_RELATIVE    -0.037227\n",
      "AMT_GOODS_PRICE               -0.039628\n",
      "DAYS_EMPLOYED                 -0.044932\n",
      "EXT_SOURCE_3                  -0.157397\n",
      "EXT_SOURCE_2                  -0.160303\n",
      "Name: TARGET, Length: 68, dtype: float64\n"
     ]
    }
   ],
   "source": [
    "# Calculate the correlation matrix\n",
    "correlation_matrix = train_data1.corr()\n",
    "\n",
    "# Get the correlation of the target variable with other predictors\n",
    "target_correlation = correlation_matrix['TARGET'].sort_values(ascending=False)\n",
    "\n",
    "# Print the correlation values\n",
    "print(\"Correlation of TARGET with predictors:\\n\", target_correlation)\n"
   ]
  },
  {
   "cell_type": "markdown",
   "id": "e714a8c9",
   "metadata": {},
   "source": [
    "The 'TARGET' variable has a positive correlation of approximately 0.0782 with 'DAYS_BIRTH.' This suggests that as a borrower's age (measured in days) increases, there is a slight positive correlation with the likelihood of loan default. In other words, younger borrowers tend to have a slightly higher chance of defaulting on their loans.\n",
    "\n",
    "The 'TARGET' variable  have negative correlations with 'EXT_SOURCE_3' and 'EXT_SOURCE_2' approximately -0.1574 and -0.1603, respectively. These variables are external credit scores, and a lower external credit score is associated with a higher likelihood of loan default."
   ]
  },
  {
   "cell_type": "markdown",
   "id": "b4fa3136",
   "metadata": {},
   "source": [
    "### 6.VISUALIZATIONS"
   ]
  },
  {
   "cell_type": "code",
   "execution_count": 12,
   "id": "64c056db",
   "metadata": {},
   "outputs": [
    {
     "name": "stdout",
     "output_type": "stream",
     "text": [
      "Target Distribution:\n",
      " 0    282686\n",
      "1     24825\n",
      "Name: TARGET, dtype: int64\n"
     ]
    }
   ],
   "source": [
    "target_distribution = train_data1['TARGET'].value_counts()\n",
    "print(\"Target Distribution:\\n\", target_distribution)"
   ]
  },
  {
   "cell_type": "markdown",
   "id": "e699eb18",
   "metadata": {},
   "source": [
    "Calculated the distribution of the 'TARGET' variable in the train_data1 DataFrame.It shows that repayment was done by most of the people,i.e,282686."
   ]
  },
  {
   "cell_type": "code",
   "execution_count": 13,
   "id": "17c4a97a",
   "metadata": {},
   "outputs": [
    {
     "data": {
      "image/png": "[encoded data removed]",
      "text/plain": [
       "<Figure size 576x432 with 1 Axes>"
      ]
     },
     "metadata": {
      "needs_background": "light"
     },
     "output_type": "display_data"
    }
   ],
   "source": [
    "# Plotting the Distribution of Target variable\n",
    "\n",
    "plt.figure(figsize=(8, 6))\n",
    "plt.bar(target_distribution.index, target_distribution.values)\n",
    "plt.xlabel('Target Classes')\n",
    "plt.ylabel('Count')\n",
    "plt.title('Target Distribution')\n",
    "plt.xticks(target_distribution.index)\n",
    "plt.show()\n"
   ]
  },
  {
   "cell_type": "markdown",
   "id": "70ceb490",
   "metadata": {},
   "source": [
    "Based on the description and above plot, most people returned the money. Very clearly the target label is imbalanced."
   ]
  },
  {
   "cell_type": "markdown",
   "id": "60b98674",
   "metadata": {},
   "source": [
    "#### Who is the highest borrower? Male or Female"
   ]
  },
  {
   "cell_type": "code",
   "execution_count": 14,
   "id": "b33ced8b",
   "metadata": {},
   "outputs": [
    {
     "data": {
      "image/png": "[encoded data removed]",
      "text/plain": [
       "<Figure size 720x504 with 1 Axes>"
      ]
     },
     "metadata": {
      "needs_background": "light"
     },
     "output_type": "display_data"
    }
   ],
   "source": [
    "\n",
    "plt.figure(figsize=(10, 7))\n",
    "\n",
    "# Create the countplot\n",
    "sns.countplot(x='CODE_GENDER', data=train_data1)\n",
    "\n",
    "# Add labels and title\n",
    "plt.xlabel('Gender')\n",
    "plt.ylabel('Count')\n",
    "plt.title('Borrower Count by Gender')\n",
    "\n",
    "# Show the plot\n",
    "plt.show()"
   ]
  },
  {
   "cell_type": "code",
   "execution_count": 15,
   "id": "39a40c8d",
   "metadata": {},
   "outputs": [
    {
     "name": "stdout",
     "output_type": "stream",
     "text": [
      "Females are the highest borrowers with counts:\n",
      "F      202448\n",
      "M      105059\n",
      "XNA         4\n",
      "Name: CODE_GENDER, dtype: int64\n"
     ]
    }
   ],
   "source": [
    "print(\"Females are the highest borrowers with counts:\\n{}\".format(train_data1.CODE_GENDER.value_counts()))"
   ]
  },
  {
   "cell_type": "markdown",
   "id": "e81cd9a0",
   "metadata": {},
   "source": [
    "#### Finding the major borrowers and  their occupations?"
   ]
  },
  {
   "cell_type": "code",
   "execution_count": 16,
   "id": "2f6a45e2",
   "metadata": {},
   "outputs": [
    {
     "data": {
      "image/png": "[encoded data removed]",
      "text/plain": [
       "<Figure size 1080x504 with 1 Axes>"
      ]
     },
     "metadata": {
      "needs_background": "light"
     },
     "output_type": "display_data"
    }
   ],
   "source": [
    "occupation_counts = train_data1['OCCUPATION_TYPE'].value_counts().sort_values(ascending=False)\n",
    "\n",
    "# Set the figure size\n",
    "plt.figure(figsize=(15, 7))\n",
    "\n",
    "# Create the countplot with Seaborn and set the custom color palette\n",
    "sns.countplot(x='OCCUPATION_TYPE', data=train_data1, palette='colorblind', order=occupation_counts.index)\n",
    "plt.xlabel(\"Occupation Type\")\n",
    "\n",
    "# Rotate x-axis labels for better readability\n",
    "plt.xticks(rotation=60)\n",
    "\n",
    "# Add labels and title\n",
    "plt.ylabel(\"Count\")\n",
    "plt.title(\"Borrower Count by Occupation\")\n",
    "\n",
    "# Show the plot\n",
    "plt.show()\n"
   ]
  },
  {
   "cell_type": "markdown",
   "id": "21d2fc96",
   "metadata": {},
   "source": [
    " Most of the clients are laborers and the least of the clients are IT Staff."
   ]
  },
  {
   "cell_type": "markdown",
   "id": "9c7605b6",
   "metadata": {},
   "source": [
    "#### How economically stable are clients? Who are the most and least stable?\n"
   ]
  },
  {
   "cell_type": "code",
   "execution_count": 17,
   "id": "d505c6ea",
   "metadata": {},
   "outputs": [
    {
     "data": {
      "image/png": "[encoded data removed]",
      "text/plain": [
       "<Figure size 1080x504 with 1 Axes>"
      ]
     },
     "metadata": {
      "needs_background": "light"
     },
     "output_type": "display_data"
    }
   ],
   "source": [
    "average_income_by_occupation = train_data1.groupby('OCCUPATION_TYPE')['AMT_INCOME_TOTAL'].mean().sort_values()\n",
    "\n",
    "# Set the figure size\n",
    "plt.figure(figsize=(15, 7))\n",
    "\n",
    "# Create a bar plot with Seaborn and set the custom color palette (\"viridis\")\n",
    "sns.barplot(x=average_income_by_occupation.index, y=average_income_by_occupation.values, palette=\"colorblind\")\n",
    "plt.xticks(rotation=70)\n",
    "plt.xlabel(\"Occupation Type\")\n",
    "plt.ylabel(\"Average Annual Family Income\")\n",
    "plt.title(\"Average Income by Occupation Type\")\n",
    "\n",
    "# Show the plot\n",
    "plt.show()"
   ]
  },
  {
   "cell_type": "markdown",
   "id": "e3cbe1e4",
   "metadata": {},
   "source": [
    "Managers are the most earning borrowers while cleaning staff are the least earning borrowers - Based on the annual family income"
   ]
  },
  {
   "cell_type": "markdown",
   "id": "731d5841",
   "metadata": {},
   "source": [
    "#### Which category of occupants repay on time and are better clients for company to lend money?"
   ]
  },
  {
   "cell_type": "code",
   "execution_count": 18,
   "id": "b2173f7e",
   "metadata": {},
   "outputs": [
    {
     "data": {
      "image/png": "[encoded data removed]",
      "text/plain": [
       "<Figure size 1080x504 with 1 Axes>"
      ]
     },
     "metadata": {
      "needs_background": "light"
     },
     "output_type": "display_data"
    }
   ],
   "source": [
    "\n",
    "plt.figure(figsize=(15, 7))\n",
    "\n",
    "# Create a countplot with hue\n",
    "sns.countplot(x='OCCUPATION_TYPE', hue='TARGET', data=train_data1, palette=\"Reds\")\n",
    "plt.xticks(rotation=70)\n",
    "plt.xlabel(\"Occupation Type\")\n",
    "plt.ylabel(\"Count\")\n",
    "plt.title(\"Count of TARGET by Occupation Type\")\n",
    "\n",
    "# Show the plot\n",
    "plt.show()"
   ]
  },
  {
   "cell_type": "markdown",
   "id": "7117efa7",
   "metadata": {},
   "source": [
    "The labourers have the highest difficulty in repaying. \n",
    "\n",
    "Also it seems lending to Reality agents, IT staff, HR staff is the safest."
   ]
  },
  {
   "cell_type": "markdown",
   "id": "a1733121",
   "metadata": {},
   "source": [
    "#### Does clients having own_car repay on time and are better clients for company to lend money?"
   ]
  },
  {
   "cell_type": "code",
   "execution_count": 19,
   "id": "04902900",
   "metadata": {},
   "outputs": [
    {
     "data": {
      "image/png": "[encoded data removed]",
      "text/plain": [
       "<Figure size 1080x504 with 1 Axes>"
      ]
     },
     "metadata": {
      "needs_background": "light"
     },
     "output_type": "display_data"
    }
   ],
   "source": [
    "\n",
    "plt.figure(figsize=(15, 7))\n",
    "\n",
    "# Create a countplot with hue\n",
    "sns.countplot(x='FLAG_OWN_CAR', hue='TARGET', data=train_data1, palette=\"colorblind\")\n",
    "plt.xlabel(\"Car\")\n",
    "plt.ylabel(\"Count\")\n",
    "plt.title(\"Count of TARGET by car\")\n",
    "\n",
    "# Show the plot\n",
    "plt.show()"
   ]
  },
  {
   "cell_type": "markdown",
   "id": "d5e618a5",
   "metadata": {},
   "source": [
    "For both car owners and non-car owners, the majority of applicants are in the '0' category, indicating that they have repaid their loans on time (non-defaulters).\n",
    "\n",
    "It appears that a slightly higher proportion of non-car owners are non-defaulters compared to car owners."
   ]
  },
  {
   "cell_type": "code",
   "execution_count": 20,
   "id": "e185515f",
   "metadata": {},
   "outputs": [
    {
     "data": {
      "image/png": "[encoded data removed]",
      "text/plain": [
       "<Figure size 1080x504 with 1 Axes>"
      ]
     },
     "metadata": {
      "needs_background": "light"
     },
     "output_type": "display_data"
    }
   ],
   "source": [
    "# Example of distribution plot for 'AMT_INCOME_TOTAL' with hue='TARGET'\n",
    "plt.figure(figsize=(15, 7))\n",
    "sns.boxplot(x='TARGET', y='AMT_INCOME_TOTAL', data=train_data1[1:100])\n",
    "plt.title('Income Distribution by Target')\n",
    "plt.show()"
   ]
  },
  {
   "cell_type": "markdown",
   "id": "7763faff",
   "metadata": {},
   "source": [
    "Visually comparing the income distribution between those who have repaid their loans and those who have defaulted.\n",
    "\n",
    "For the 'TARGET = 0' group (non-defaulters), the boxplot shows that the median income is around the middle of the box, and the majority of incomes fall within the box's interquartile range (IQR).\n",
    "\n",
    "For the 'TARGET = 1' group (defaulters), the boxplot indicates a lower median income, and there are some outliers with higher incomes.\n"
   ]
  },
  {
   "cell_type": "code",
   "execution_count": 21,
   "id": "e8b54091",
   "metadata": {},
   "outputs": [
    {
     "data": {
      "image/png": "[encoded data removed]",
      "text/plain": [
       "<Figure size 1080x504 with 1 Axes>"
      ]
     },
     "metadata": {
      "needs_background": "light"
     },
     "output_type": "display_data"
    }
   ],
   "source": [
    "plt.figure(figsize=(15, 7))\n",
    "sns.countplot(x='CODE_GENDER', hue='TARGET', data=train_data1)\n",
    "\n",
    "# Add labels and title\n",
    "plt.xlabel('Gender')\n",
    "plt.ylabel('Count')\n",
    "plt.title('Loan Repayment Status by Gender')\n",
    "plt.legend(title='TARGET', loc='upper right', labels=['Repaid', 'Defaulted'])\n",
    "\n",
    "# Show the plot\n",
    "plt.show()"
   ]
  },
  {
   "cell_type": "code",
   "execution_count": 22,
   "id": "fc0af7a8",
   "metadata": {},
   "outputs": [
    {
     "data": {
      "text/html": [
       "<div>\n",
       "<style scoped>\n",
       "    .dataframe tbody tr th:only-of-type {\n",
       "        vertical-align: middle;\n",
       "    }\n",
       "\n",
       "    .dataframe tbody tr th {\n",
       "        vertical-align: top;\n",
       "    }\n",
       "\n",
       "    .dataframe thead th {\n",
       "        text-align: right;\n",
       "    }\n",
       "</style>\n",
       "<table border=\"1\" class=\"dataframe\">\n",
       "  <thead>\n",
       "    <tr style=\"text-align: right;\">\n",
       "      <th></th>\n",
       "      <th>CODE_GENDER</th>\n",
       "      <th>TARGET</th>\n",
       "      <th>SK_ID_CURR</th>\n",
       "    </tr>\n",
       "  </thead>\n",
       "  <tbody>\n",
       "    <tr>\n",
       "      <th>0</th>\n",
       "      <td>F</td>\n",
       "      <td>0</td>\n",
       "      <td>188278</td>\n",
       "    </tr>\n",
       "    <tr>\n",
       "      <th>1</th>\n",
       "      <td>F</td>\n",
       "      <td>1</td>\n",
       "      <td>14170</td>\n",
       "    </tr>\n",
       "    <tr>\n",
       "      <th>2</th>\n",
       "      <td>M</td>\n",
       "      <td>0</td>\n",
       "      <td>94404</td>\n",
       "    </tr>\n",
       "    <tr>\n",
       "      <th>3</th>\n",
       "      <td>M</td>\n",
       "      <td>1</td>\n",
       "      <td>10655</td>\n",
       "    </tr>\n",
       "    <tr>\n",
       "      <th>4</th>\n",
       "      <td>XNA</td>\n",
       "      <td>0</td>\n",
       "      <td>4</td>\n",
       "    </tr>\n",
       "  </tbody>\n",
       "</table>\n",
       "</div>"
      ],
      "text/plain": [
       "  CODE_GENDER  TARGET  SK_ID_CURR\n",
       "0           F       0      188278\n",
       "1           F       1       14170\n",
       "2           M       0       94404\n",
       "3           M       1       10655\n",
       "4         XNA       0           4"
      ]
     },
     "execution_count": 22,
     "metadata": {},
     "output_type": "execute_result"
    }
   ],
   "source": [
    "# Find out what is the probability that an applicant will return given that he/she is a male/Female respectively.\n",
    "pd.DataFrame(train_data1.groupby(['CODE_GENDER','TARGET']).count()['SK_ID_CURR']).reset_index() "
   ]
  },
  {
   "cell_type": "code",
   "execution_count": 23,
   "id": "5434b756",
   "metadata": {},
   "outputs": [
    {
     "name": "stdout",
     "output_type": "stream",
     "text": [
      "probability that an applicant will repay the given that he is a male P(R|M): 94404/(94404+10655) = 0.8985\n",
      "probability that an applicant will repay the given that she is a female P(R|F): 188278/(188278+14170) = 0.9300\n"
     ]
    }
   ],
   "source": [
    "print(\"probability that an applicant will repay the given that he is a male P(R|M): 94404/(94404+10655) = 0.8985\") \n",
    "print(\"probability that an applicant will repay the given that she is a female P(R|F): 188278/(188278+14170) = 0.9300\")"
   ]
  },
  {
   "cell_type": "markdown",
   "id": "06982e17",
   "metadata": {},
   "source": [
    "For male applicant, there is an approximately 89.85% chance that they will repay the loan.\n",
    "\n",
    "For female applicants, the probability of loan repayment is higher, with an approximately 93.00% chance.\n",
    "\n",
    "The higher probability for female applicants suggests that, in the dataset, female applicants tend to have a slightly better loan repayment rate compared to male applicants."
   ]
  },
  {
   "cell_type": "markdown",
   "id": "e021a58e",
   "metadata": {},
   "source": [
    "### 7.Loading The Test Dataset"
   ]
  },
  {
   "cell_type": "code",
   "execution_count": 24,
   "id": "37f50860",
   "metadata": {},
   "outputs": [],
   "source": [
    "test_data = pd.read_csv('application_test.csv')"
   ]
  },
  {
   "cell_type": "markdown",
   "id": "3425d1dd",
   "metadata": {},
   "source": [
    "The pd.read_csv() function reads the data from a CSV file named 'application_test.csv' and stores it in a Pandas DataFrame called test_data. "
   ]
  },
  {
   "cell_type": "code",
   "execution_count": 25,
   "id": "41df6bec",
   "metadata": {},
   "outputs": [
    {
     "data": {
      "text/html": [
       "<div>\n",
       "<style scoped>\n",
       "    .dataframe tbody tr th:only-of-type {\n",
       "        vertical-align: middle;\n",
       "    }\n",
       "\n",
       "    .dataframe tbody tr th {\n",
       "        vertical-align: top;\n",
       "    }\n",
       "\n",
       "    .dataframe thead th {\n",
       "        text-align: right;\n",
       "    }\n",
       "</style>\n",
       "<table border=\"1\" class=\"dataframe\">\n",
       "  <thead>\n",
       "    <tr style=\"text-align: right;\">\n",
       "      <th></th>\n",
       "      <th>SK_ID_CURR</th>\n",
       "      <th>NAME_CONTRACT_TYPE</th>\n",
       "      <th>CODE_GENDER</th>\n",
       "      <th>FLAG_OWN_CAR</th>\n",
       "      <th>FLAG_OWN_REALTY</th>\n",
       "      <th>CNT_CHILDREN</th>\n",
       "      <th>AMT_INCOME_TOTAL</th>\n",
       "      <th>AMT_CREDIT</th>\n",
       "      <th>AMT_ANNUITY</th>\n",
       "      <th>AMT_GOODS_PRICE</th>\n",
       "      <th>...</th>\n",
       "      <th>FLAG_DOCUMENT_18</th>\n",
       "      <th>FLAG_DOCUMENT_19</th>\n",
       "      <th>FLAG_DOCUMENT_20</th>\n",
       "      <th>FLAG_DOCUMENT_21</th>\n",
       "      <th>AMT_REQ_CREDIT_BUREAU_HOUR</th>\n",
       "      <th>AMT_REQ_CREDIT_BUREAU_DAY</th>\n",
       "      <th>AMT_REQ_CREDIT_BUREAU_WEEK</th>\n",
       "      <th>AMT_REQ_CREDIT_BUREAU_MON</th>\n",
       "      <th>AMT_REQ_CREDIT_BUREAU_QRT</th>\n",
       "      <th>AMT_REQ_CREDIT_BUREAU_YEAR</th>\n",
       "    </tr>\n",
       "  </thead>\n",
       "  <tbody>\n",
       "    <tr>\n",
       "      <th>0</th>\n",
       "      <td>100001</td>\n",
       "      <td>Cash loans</td>\n",
       "      <td>F</td>\n",
       "      <td>N</td>\n",
       "      <td>Y</td>\n",
       "      <td>0</td>\n",
       "      <td>135000.0</td>\n",
       "      <td>568800.0</td>\n",
       "      <td>20560.5</td>\n",
       "      <td>450000.0</td>\n",
       "      <td>...</td>\n",
       "      <td>0</td>\n",
       "      <td>0</td>\n",
       "      <td>0</td>\n",
       "      <td>0</td>\n",
       "      <td>0.0</td>\n",
       "      <td>0.0</td>\n",
       "      <td>0.0</td>\n",
       "      <td>0.0</td>\n",
       "      <td>0.0</td>\n",
       "      <td>0.0</td>\n",
       "    </tr>\n",
       "    <tr>\n",
       "      <th>1</th>\n",
       "      <td>100005</td>\n",
       "      <td>Cash loans</td>\n",
       "      <td>M</td>\n",
       "      <td>N</td>\n",
       "      <td>Y</td>\n",
       "      <td>0</td>\n",
       "      <td>99000.0</td>\n",
       "      <td>222768.0</td>\n",
       "      <td>17370.0</td>\n",
       "      <td>180000.0</td>\n",
       "      <td>...</td>\n",
       "      <td>0</td>\n",
       "      <td>0</td>\n",
       "      <td>0</td>\n",
       "      <td>0</td>\n",
       "      <td>0.0</td>\n",
       "      <td>0.0</td>\n",
       "      <td>0.0</td>\n",
       "      <td>0.0</td>\n",
       "      <td>0.0</td>\n",
       "      <td>3.0</td>\n",
       "    </tr>\n",
       "    <tr>\n",
       "      <th>2</th>\n",
       "      <td>100013</td>\n",
       "      <td>Cash loans</td>\n",
       "      <td>M</td>\n",
       "      <td>Y</td>\n",
       "      <td>Y</td>\n",
       "      <td>0</td>\n",
       "      <td>202500.0</td>\n",
       "      <td>663264.0</td>\n",
       "      <td>69777.0</td>\n",
       "      <td>630000.0</td>\n",
       "      <td>...</td>\n",
       "      <td>0</td>\n",
       "      <td>0</td>\n",
       "      <td>0</td>\n",
       "      <td>0</td>\n",
       "      <td>0.0</td>\n",
       "      <td>0.0</td>\n",
       "      <td>0.0</td>\n",
       "      <td>0.0</td>\n",
       "      <td>1.0</td>\n",
       "      <td>4.0</td>\n",
       "    </tr>\n",
       "    <tr>\n",
       "      <th>3</th>\n",
       "      <td>100028</td>\n",
       "      <td>Cash loans</td>\n",
       "      <td>F</td>\n",
       "      <td>N</td>\n",
       "      <td>Y</td>\n",
       "      <td>2</td>\n",
       "      <td>315000.0</td>\n",
       "      <td>1575000.0</td>\n",
       "      <td>49018.5</td>\n",
       "      <td>1575000.0</td>\n",
       "      <td>...</td>\n",
       "      <td>0</td>\n",
       "      <td>0</td>\n",
       "      <td>0</td>\n",
       "      <td>0</td>\n",
       "      <td>0.0</td>\n",
       "      <td>0.0</td>\n",
       "      <td>0.0</td>\n",
       "      <td>0.0</td>\n",
       "      <td>0.0</td>\n",
       "      <td>3.0</td>\n",
       "    </tr>\n",
       "    <tr>\n",
       "      <th>4</th>\n",
       "      <td>100038</td>\n",
       "      <td>Cash loans</td>\n",
       "      <td>M</td>\n",
       "      <td>Y</td>\n",
       "      <td>N</td>\n",
       "      <td>1</td>\n",
       "      <td>180000.0</td>\n",
       "      <td>625500.0</td>\n",
       "      <td>32067.0</td>\n",
       "      <td>625500.0</td>\n",
       "      <td>...</td>\n",
       "      <td>0</td>\n",
       "      <td>0</td>\n",
       "      <td>0</td>\n",
       "      <td>0</td>\n",
       "      <td>NaN</td>\n",
       "      <td>NaN</td>\n",
       "      <td>NaN</td>\n",
       "      <td>NaN</td>\n",
       "      <td>NaN</td>\n",
       "      <td>NaN</td>\n",
       "    </tr>\n",
       "  </tbody>\n",
       "</table>\n",
       "<p>5 rows × 121 columns</p>\n",
       "</div>"
      ],
      "text/plain": [
       "   SK_ID_CURR NAME_CONTRACT_TYPE CODE_GENDER FLAG_OWN_CAR FLAG_OWN_REALTY  \\\n",
       "0      100001         Cash loans           F            N               Y   \n",
       "1      100005         Cash loans           M            N               Y   \n",
       "2      100013         Cash loans           M            Y               Y   \n",
       "3      100028         Cash loans           F            N               Y   \n",
       "4      100038         Cash loans           M            Y               N   \n",
       "\n",
       "   CNT_CHILDREN  AMT_INCOME_TOTAL  AMT_CREDIT  AMT_ANNUITY  AMT_GOODS_PRICE  \\\n",
       "0             0          135000.0    568800.0      20560.5         450000.0   \n",
       "1             0           99000.0    222768.0      17370.0         180000.0   \n",
       "2             0          202500.0    663264.0      69777.0         630000.0   \n",
       "3             2          315000.0   1575000.0      49018.5        1575000.0   \n",
       "4             1          180000.0    625500.0      32067.0         625500.0   \n",
       "\n",
       "   ... FLAG_DOCUMENT_18 FLAG_DOCUMENT_19 FLAG_DOCUMENT_20 FLAG_DOCUMENT_21  \\\n",
       "0  ...                0                0                0                0   \n",
       "1  ...                0                0                0                0   \n",
       "2  ...                0                0                0                0   \n",
       "3  ...                0                0                0                0   \n",
       "4  ...                0                0                0                0   \n",
       "\n",
       "  AMT_REQ_CREDIT_BUREAU_HOUR  AMT_REQ_CREDIT_BUREAU_DAY  \\\n",
       "0                        0.0                        0.0   \n",
       "1                        0.0                        0.0   \n",
       "2                        0.0                        0.0   \n",
       "3                        0.0                        0.0   \n",
       "4                        NaN                        NaN   \n",
       "\n",
       "   AMT_REQ_CREDIT_BUREAU_WEEK  AMT_REQ_CREDIT_BUREAU_MON  \\\n",
       "0                         0.0                        0.0   \n",
       "1                         0.0                        0.0   \n",
       "2                         0.0                        0.0   \n",
       "3                         0.0                        0.0   \n",
       "4                         NaN                        NaN   \n",
       "\n",
       "   AMT_REQ_CREDIT_BUREAU_QRT  AMT_REQ_CREDIT_BUREAU_YEAR  \n",
       "0                        0.0                         0.0  \n",
       "1                        0.0                         3.0  \n",
       "2                        1.0                         4.0  \n",
       "3                        0.0                         3.0  \n",
       "4                        NaN                         NaN  \n",
       "\n",
       "[5 rows x 121 columns]"
      ]
     },
     "execution_count": 25,
     "metadata": {},
     "output_type": "execute_result"
    }
   ],
   "source": [
    "test_data.head()"
   ]
  },
  {
   "cell_type": "markdown",
   "id": "da594484",
   "metadata": {},
   "source": [
    "head () function displays the first few rows (by default, the first 5 rows) of the test_data DataFrame. \n",
    "It provides a quick preview of the data to understand its structure and contents."
   ]
  },
  {
   "cell_type": "code",
   "execution_count": 26,
   "id": "54369814",
   "metadata": {},
   "outputs": [
    {
     "data": {
      "text/plain": [
       "(48744, 121)"
      ]
     },
     "execution_count": 26,
     "metadata": {},
     "output_type": "execute_result"
    }
   ],
   "source": [
    "test_data.shape"
   ]
  },
  {
   "cell_type": "markdown",
   "id": "ee25c120",
   "metadata": {},
   "source": [
    "It retrieves and prints the shape of the test_data DataFrame, which represents the number of rows and columns in the dataset."
   ]
  },
  {
   "cell_type": "markdown",
   "id": "052f2d75",
   "metadata": {},
   "source": [
    "### 8.Data Cleaning and Preprocessing of Test Data"
   ]
  },
  {
   "cell_type": "code",
   "execution_count": 27,
   "id": "9caba20b",
   "metadata": {},
   "outputs": [
    {
     "name": "stdout",
     "output_type": "stream",
     "text": [
      "                             Test_Missing_values  Test_Missing_Values(%)\n",
      "SK_ID_CURR                                     0                0.000000\n",
      "REG_REGION_NOT_WORK_REGION                     0                0.000000\n",
      "LIVE_REGION_NOT_WORK_REGION                    0                0.000000\n",
      "REG_CITY_NOT_LIVE_CITY                         0                0.000000\n",
      "REG_CITY_NOT_WORK_CITY                         0                0.000000\n",
      "...                                          ...                     ...\n",
      "NONLIVINGAPARTMENTS_MEDI                   33347               68.412523\n",
      "NONLIVINGAPARTMENTS_MODE                   33347               68.412523\n",
      "COMMONAREA_MODE                            33495               68.716150\n",
      "COMMONAREA_AVG                             33495               68.716150\n",
      "COMMONAREA_MEDI                            33495               68.716150\n",
      "\n",
      "[121 rows x 2 columns]\n"
     ]
    }
   ],
   "source": [
    "# Getting the Information About Missing Values\n",
    "missing_values = test_data.isnull().sum()\n",
    "test_missing_percent = (missing_values / len(test_data)) * 100\n",
    "missing_info = pd.DataFrame({'Test_Missing_values': missing_values, 'Test_Missing_Values(%)': test_missing_percent})\n",
    "\n",
    "print(missing_info.sort_values(by=['Test_Missing_Values(%)']))"
   ]
  },
  {
   "cell_type": "markdown",
   "id": "dba82a1b",
   "metadata": {},
   "source": [
    "We checked for missing values in the test_data DataFrame, counting how many are missing in each column.\n",
    "\n",
    "We calculated the percentage of missing values for each column in test_data.\n",
    "\n",
    "Finally, we sorted the columns by their missing value percentages to identify those with the highest missing values, which helps us prioritize them for data cleaning or filling in missing data."
   ]
  },
  {
   "cell_type": "code",
   "execution_count": 28,
   "id": "23124c66",
   "metadata": {},
   "outputs": [],
   "source": [
    "\n",
    "\n",
    "# Drop the columns from the 'test_data' DataFrame\n",
    "test_data1 = test_data.drop(columns=columns_to_drop)\n"
   ]
  },
  {
   "cell_type": "markdown",
   "id": "03d27c04",
   "metadata": {},
   "source": [
    "\n",
    "\n",
    "Then we are creating a new DataFrame called test_data1 by dropping the columns identified in the columns_to_drop Series from the original train_data DataFrame. \n",
    "\n"
   ]
  },
  {
   "cell_type": "code",
   "execution_count": 29,
   "id": "53306dce",
   "metadata": {},
   "outputs": [
    {
     "data": {
      "text/plain": [
       "(48744, 80)"
      ]
     },
     "execution_count": 29,
     "metadata": {},
     "output_type": "execute_result"
    }
   ],
   "source": [
    "test_data1.shape"
   ]
  },
  {
   "cell_type": "markdown",
   "id": "172dc2ab",
   "metadata": {},
   "source": [
    "Dropping the columns identified in the columns_to_drop Series from the original train_data DataFrame resulted in a reduction in the number of columns from 121 to 80(excluding target variable). "
   ]
  },
  {
   "cell_type": "code",
   "execution_count": 36,
   "id": "00a0319f",
   "metadata": {},
   "outputs": [],
   "source": [
    "# Filter the columns with missing values\n",
    "columns_with_missing_values = missing_values[missing_values > 0].index\n",
    "\n",
    "# Separate categorical and numeric columns\n",
    "categorical_columns = test_data1.select_dtypes(include=['object']).columns\n",
    "numeric_columns = test_data1.select_dtypes(include=['number']).columns\n",
    "\n",
    "# Calculate mean values for each column with missing values (in numeric columns)\n",
    "mean_values_numeric = test_data1[columns_with_missing_values & numeric_columns].mean()\n",
    "\n",
    "# Calculate mean values for each column with missing values (in categorical columns)\n",
    "mean_values_categorical = test_data1[columns_with_missing_values & categorical_columns].mode().iloc[0]\n",
    "\n",
    "# Now, 'mean_values_numeric' contains mean values for numeric columns with missing values,\n",
    "# and 'mean_values_categorical' contains mode values for categorical columns with missing values\n"
   ]
  },
  {
   "cell_type": "markdown",
   "id": "b3793da8",
   "metadata": {},
   "source": [
    "First The data was split into categorical and numeric columns to impute missing values in the test_data1 DataFrame.\n",
    "\n",
    "For numeric columns,we decided to use the average value (mean) as a replacement for any missing values.\n",
    "\n",
    "For categorical columns,we choose the most frequently occurring value (mode) as a replacement for any missing values. \n"
   ]
  },
  {
   "cell_type": "code",
   "execution_count": 37,
   "id": "3a0123ee",
   "metadata": {},
   "outputs": [],
   "source": [
    "# Fill missing values with mean for numeric columns\n",
    "test_data1[numeric_columns] = test_data1[numeric_columns].fillna(test_data1[numeric_columns].mean())\n",
    "\n",
    "# Fill missing values with mode for categorical columns\n",
    "for column in categorical_columns:\n",
    "    mode_value = test_data1[column].mode().iloc[0]\n",
    "    test_data1[column] = test_data1[column].fillna(mode_value)"
   ]
  },
  {
   "cell_type": "markdown",
   "id": "cd86dd83",
   "metadata": {},
   "source": [
    "Here we are filling in missing values in both numeric and categorical columns of the test_data1 DataFrame. Numeric columns are imputed with the mean, and categorical columns are imputed with the mode. \n",
    "\n",
    "Imputing missing values is an essential step in data preprocessing to ensure that the dataset is ready for analysis or modeling."
   ]
  },
  {
   "cell_type": "code",
   "execution_count": 38,
   "id": "73525eda",
   "metadata": {},
   "outputs": [
    {
     "data": {
      "text/html": [
       "<div>\n",
       "<style scoped>\n",
       "    .dataframe tbody tr th:only-of-type {\n",
       "        vertical-align: middle;\n",
       "    }\n",
       "\n",
       "    .dataframe tbody tr th {\n",
       "        vertical-align: top;\n",
       "    }\n",
       "\n",
       "    .dataframe thead th {\n",
       "        text-align: right;\n",
       "    }\n",
       "</style>\n",
       "<table border=\"1\" class=\"dataframe\">\n",
       "  <thead>\n",
       "    <tr style=\"text-align: right;\">\n",
       "      <th></th>\n",
       "      <th>SK_ID_CURR</th>\n",
       "      <th>NAME_CONTRACT_TYPE</th>\n",
       "      <th>CODE_GENDER</th>\n",
       "      <th>FLAG_OWN_CAR</th>\n",
       "      <th>FLAG_OWN_REALTY</th>\n",
       "      <th>CNT_CHILDREN</th>\n",
       "      <th>AMT_INCOME_TOTAL</th>\n",
       "      <th>AMT_CREDIT</th>\n",
       "      <th>AMT_ANNUITY</th>\n",
       "      <th>AMT_GOODS_PRICE</th>\n",
       "      <th>...</th>\n",
       "      <th>FLAG_DOCUMENT_18</th>\n",
       "      <th>FLAG_DOCUMENT_19</th>\n",
       "      <th>FLAG_DOCUMENT_20</th>\n",
       "      <th>FLAG_DOCUMENT_21</th>\n",
       "      <th>AMT_REQ_CREDIT_BUREAU_HOUR</th>\n",
       "      <th>AMT_REQ_CREDIT_BUREAU_DAY</th>\n",
       "      <th>AMT_REQ_CREDIT_BUREAU_WEEK</th>\n",
       "      <th>AMT_REQ_CREDIT_BUREAU_MON</th>\n",
       "      <th>AMT_REQ_CREDIT_BUREAU_QRT</th>\n",
       "      <th>AMT_REQ_CREDIT_BUREAU_YEAR</th>\n",
       "    </tr>\n",
       "  </thead>\n",
       "  <tbody>\n",
       "    <tr>\n",
       "      <th>0</th>\n",
       "      <td>100001</td>\n",
       "      <td>Cash loans</td>\n",
       "      <td>F</td>\n",
       "      <td>N</td>\n",
       "      <td>Y</td>\n",
       "      <td>0</td>\n",
       "      <td>135000.0</td>\n",
       "      <td>568800.0</td>\n",
       "      <td>20560.5</td>\n",
       "      <td>450000.0</td>\n",
       "      <td>...</td>\n",
       "      <td>0</td>\n",
       "      <td>0</td>\n",
       "      <td>0</td>\n",
       "      <td>0</td>\n",
       "      <td>0.000000</td>\n",
       "      <td>0.000000</td>\n",
       "      <td>0.000000</td>\n",
       "      <td>0.000000</td>\n",
       "      <td>0.000000</td>\n",
       "      <td>0.000000</td>\n",
       "    </tr>\n",
       "    <tr>\n",
       "      <th>1</th>\n",
       "      <td>100005</td>\n",
       "      <td>Cash loans</td>\n",
       "      <td>M</td>\n",
       "      <td>N</td>\n",
       "      <td>Y</td>\n",
       "      <td>0</td>\n",
       "      <td>99000.0</td>\n",
       "      <td>222768.0</td>\n",
       "      <td>17370.0</td>\n",
       "      <td>180000.0</td>\n",
       "      <td>...</td>\n",
       "      <td>0</td>\n",
       "      <td>0</td>\n",
       "      <td>0</td>\n",
       "      <td>0</td>\n",
       "      <td>0.000000</td>\n",
       "      <td>0.000000</td>\n",
       "      <td>0.000000</td>\n",
       "      <td>0.000000</td>\n",
       "      <td>0.000000</td>\n",
       "      <td>3.000000</td>\n",
       "    </tr>\n",
       "    <tr>\n",
       "      <th>2</th>\n",
       "      <td>100013</td>\n",
       "      <td>Cash loans</td>\n",
       "      <td>M</td>\n",
       "      <td>Y</td>\n",
       "      <td>Y</td>\n",
       "      <td>0</td>\n",
       "      <td>202500.0</td>\n",
       "      <td>663264.0</td>\n",
       "      <td>69777.0</td>\n",
       "      <td>630000.0</td>\n",
       "      <td>...</td>\n",
       "      <td>0</td>\n",
       "      <td>0</td>\n",
       "      <td>0</td>\n",
       "      <td>0</td>\n",
       "      <td>0.000000</td>\n",
       "      <td>0.000000</td>\n",
       "      <td>0.000000</td>\n",
       "      <td>0.000000</td>\n",
       "      <td>1.000000</td>\n",
       "      <td>4.000000</td>\n",
       "    </tr>\n",
       "    <tr>\n",
       "      <th>3</th>\n",
       "      <td>100028</td>\n",
       "      <td>Cash loans</td>\n",
       "      <td>F</td>\n",
       "      <td>N</td>\n",
       "      <td>Y</td>\n",
       "      <td>2</td>\n",
       "      <td>315000.0</td>\n",
       "      <td>1575000.0</td>\n",
       "      <td>49018.5</td>\n",
       "      <td>1575000.0</td>\n",
       "      <td>...</td>\n",
       "      <td>0</td>\n",
       "      <td>0</td>\n",
       "      <td>0</td>\n",
       "      <td>0</td>\n",
       "      <td>0.000000</td>\n",
       "      <td>0.000000</td>\n",
       "      <td>0.000000</td>\n",
       "      <td>0.000000</td>\n",
       "      <td>0.000000</td>\n",
       "      <td>3.000000</td>\n",
       "    </tr>\n",
       "    <tr>\n",
       "      <th>4</th>\n",
       "      <td>100038</td>\n",
       "      <td>Cash loans</td>\n",
       "      <td>M</td>\n",
       "      <td>Y</td>\n",
       "      <td>N</td>\n",
       "      <td>1</td>\n",
       "      <td>180000.0</td>\n",
       "      <td>625500.0</td>\n",
       "      <td>32067.0</td>\n",
       "      <td>625500.0</td>\n",
       "      <td>...</td>\n",
       "      <td>0</td>\n",
       "      <td>0</td>\n",
       "      <td>0</td>\n",
       "      <td>0</td>\n",
       "      <td>0.002108</td>\n",
       "      <td>0.001803</td>\n",
       "      <td>0.002787</td>\n",
       "      <td>0.009299</td>\n",
       "      <td>0.546902</td>\n",
       "      <td>1.983769</td>\n",
       "    </tr>\n",
       "    <tr>\n",
       "      <th>...</th>\n",
       "      <td>...</td>\n",
       "      <td>...</td>\n",
       "      <td>...</td>\n",
       "      <td>...</td>\n",
       "      <td>...</td>\n",
       "      <td>...</td>\n",
       "      <td>...</td>\n",
       "      <td>...</td>\n",
       "      <td>...</td>\n",
       "      <td>...</td>\n",
       "      <td>...</td>\n",
       "      <td>...</td>\n",
       "      <td>...</td>\n",
       "      <td>...</td>\n",
       "      <td>...</td>\n",
       "      <td>...</td>\n",
       "      <td>...</td>\n",
       "      <td>...</td>\n",
       "      <td>...</td>\n",
       "      <td>...</td>\n",
       "      <td>...</td>\n",
       "    </tr>\n",
       "    <tr>\n",
       "      <th>48739</th>\n",
       "      <td>456221</td>\n",
       "      <td>Cash loans</td>\n",
       "      <td>F</td>\n",
       "      <td>N</td>\n",
       "      <td>Y</td>\n",
       "      <td>0</td>\n",
       "      <td>121500.0</td>\n",
       "      <td>412560.0</td>\n",
       "      <td>17473.5</td>\n",
       "      <td>270000.0</td>\n",
       "      <td>...</td>\n",
       "      <td>0</td>\n",
       "      <td>0</td>\n",
       "      <td>0</td>\n",
       "      <td>0</td>\n",
       "      <td>0.000000</td>\n",
       "      <td>0.000000</td>\n",
       "      <td>0.000000</td>\n",
       "      <td>0.000000</td>\n",
       "      <td>0.000000</td>\n",
       "      <td>1.000000</td>\n",
       "    </tr>\n",
       "    <tr>\n",
       "      <th>48740</th>\n",
       "      <td>456222</td>\n",
       "      <td>Cash loans</td>\n",
       "      <td>F</td>\n",
       "      <td>N</td>\n",
       "      <td>N</td>\n",
       "      <td>2</td>\n",
       "      <td>157500.0</td>\n",
       "      <td>622413.0</td>\n",
       "      <td>31909.5</td>\n",
       "      <td>495000.0</td>\n",
       "      <td>...</td>\n",
       "      <td>0</td>\n",
       "      <td>0</td>\n",
       "      <td>0</td>\n",
       "      <td>0</td>\n",
       "      <td>0.002108</td>\n",
       "      <td>0.001803</td>\n",
       "      <td>0.002787</td>\n",
       "      <td>0.009299</td>\n",
       "      <td>0.546902</td>\n",
       "      <td>1.983769</td>\n",
       "    </tr>\n",
       "    <tr>\n",
       "      <th>48741</th>\n",
       "      <td>456223</td>\n",
       "      <td>Cash loans</td>\n",
       "      <td>F</td>\n",
       "      <td>Y</td>\n",
       "      <td>Y</td>\n",
       "      <td>1</td>\n",
       "      <td>202500.0</td>\n",
       "      <td>315000.0</td>\n",
       "      <td>33205.5</td>\n",
       "      <td>315000.0</td>\n",
       "      <td>...</td>\n",
       "      <td>0</td>\n",
       "      <td>0</td>\n",
       "      <td>0</td>\n",
       "      <td>0</td>\n",
       "      <td>0.000000</td>\n",
       "      <td>0.000000</td>\n",
       "      <td>0.000000</td>\n",
       "      <td>0.000000</td>\n",
       "      <td>3.000000</td>\n",
       "      <td>1.000000</td>\n",
       "    </tr>\n",
       "    <tr>\n",
       "      <th>48742</th>\n",
       "      <td>456224</td>\n",
       "      <td>Cash loans</td>\n",
       "      <td>M</td>\n",
       "      <td>N</td>\n",
       "      <td>N</td>\n",
       "      <td>0</td>\n",
       "      <td>225000.0</td>\n",
       "      <td>450000.0</td>\n",
       "      <td>25128.0</td>\n",
       "      <td>450000.0</td>\n",
       "      <td>...</td>\n",
       "      <td>0</td>\n",
       "      <td>0</td>\n",
       "      <td>0</td>\n",
       "      <td>0</td>\n",
       "      <td>0.000000</td>\n",
       "      <td>0.000000</td>\n",
       "      <td>0.000000</td>\n",
       "      <td>0.000000</td>\n",
       "      <td>0.000000</td>\n",
       "      <td>2.000000</td>\n",
       "    </tr>\n",
       "    <tr>\n",
       "      <th>48743</th>\n",
       "      <td>456250</td>\n",
       "      <td>Cash loans</td>\n",
       "      <td>F</td>\n",
       "      <td>Y</td>\n",
       "      <td>N</td>\n",
       "      <td>0</td>\n",
       "      <td>135000.0</td>\n",
       "      <td>312768.0</td>\n",
       "      <td>24709.5</td>\n",
       "      <td>270000.0</td>\n",
       "      <td>...</td>\n",
       "      <td>0</td>\n",
       "      <td>0</td>\n",
       "      <td>0</td>\n",
       "      <td>0</td>\n",
       "      <td>0.000000</td>\n",
       "      <td>0.000000</td>\n",
       "      <td>0.000000</td>\n",
       "      <td>0.000000</td>\n",
       "      <td>1.000000</td>\n",
       "      <td>4.000000</td>\n",
       "    </tr>\n",
       "  </tbody>\n",
       "</table>\n",
       "<p>48744 rows × 80 columns</p>\n",
       "</div>"
      ],
      "text/plain": [
       "       SK_ID_CURR NAME_CONTRACT_TYPE CODE_GENDER FLAG_OWN_CAR FLAG_OWN_REALTY  \\\n",
       "0          100001         Cash loans           F            N               Y   \n",
       "1          100005         Cash loans           M            N               Y   \n",
       "2          100013         Cash loans           M            Y               Y   \n",
       "3          100028         Cash loans           F            N               Y   \n",
       "4          100038         Cash loans           M            Y               N   \n",
       "...           ...                ...         ...          ...             ...   \n",
       "48739      456221         Cash loans           F            N               Y   \n",
       "48740      456222         Cash loans           F            N               N   \n",
       "48741      456223         Cash loans           F            Y               Y   \n",
       "48742      456224         Cash loans           M            N               N   \n",
       "48743      456250         Cash loans           F            Y               N   \n",
       "\n",
       "       CNT_CHILDREN  AMT_INCOME_TOTAL  AMT_CREDIT  AMT_ANNUITY  \\\n",
       "0                 0          135000.0    568800.0      20560.5   \n",
       "1                 0           99000.0    222768.0      17370.0   \n",
       "2                 0          202500.0    663264.0      69777.0   \n",
       "3                 2          315000.0   1575000.0      49018.5   \n",
       "4                 1          180000.0    625500.0      32067.0   \n",
       "...             ...               ...         ...          ...   \n",
       "48739             0          121500.0    412560.0      17473.5   \n",
       "48740             2          157500.0    622413.0      31909.5   \n",
       "48741             1          202500.0    315000.0      33205.5   \n",
       "48742             0          225000.0    450000.0      25128.0   \n",
       "48743             0          135000.0    312768.0      24709.5   \n",
       "\n",
       "       AMT_GOODS_PRICE  ... FLAG_DOCUMENT_18 FLAG_DOCUMENT_19  \\\n",
       "0             450000.0  ...                0                0   \n",
       "1             180000.0  ...                0                0   \n",
       "2             630000.0  ...                0                0   \n",
       "3            1575000.0  ...                0                0   \n",
       "4             625500.0  ...                0                0   \n",
       "...                ...  ...              ...              ...   \n",
       "48739         270000.0  ...                0                0   \n",
       "48740         495000.0  ...                0                0   \n",
       "48741         315000.0  ...                0                0   \n",
       "48742         450000.0  ...                0                0   \n",
       "48743         270000.0  ...                0                0   \n",
       "\n",
       "      FLAG_DOCUMENT_20 FLAG_DOCUMENT_21 AMT_REQ_CREDIT_BUREAU_HOUR  \\\n",
       "0                    0                0                   0.000000   \n",
       "1                    0                0                   0.000000   \n",
       "2                    0                0                   0.000000   \n",
       "3                    0                0                   0.000000   \n",
       "4                    0                0                   0.002108   \n",
       "...                ...              ...                        ...   \n",
       "48739                0                0                   0.000000   \n",
       "48740                0                0                   0.002108   \n",
       "48741                0                0                   0.000000   \n",
       "48742                0                0                   0.000000   \n",
       "48743                0                0                   0.000000   \n",
       "\n",
       "       AMT_REQ_CREDIT_BUREAU_DAY  AMT_REQ_CREDIT_BUREAU_WEEK  \\\n",
       "0                       0.000000                    0.000000   \n",
       "1                       0.000000                    0.000000   \n",
       "2                       0.000000                    0.000000   \n",
       "3                       0.000000                    0.000000   \n",
       "4                       0.001803                    0.002787   \n",
       "...                          ...                         ...   \n",
       "48739                   0.000000                    0.000000   \n",
       "48740                   0.001803                    0.002787   \n",
       "48741                   0.000000                    0.000000   \n",
       "48742                   0.000000                    0.000000   \n",
       "48743                   0.000000                    0.000000   \n",
       "\n",
       "       AMT_REQ_CREDIT_BUREAU_MON  AMT_REQ_CREDIT_BUREAU_QRT  \\\n",
       "0                       0.000000                   0.000000   \n",
       "1                       0.000000                   0.000000   \n",
       "2                       0.000000                   1.000000   \n",
       "3                       0.000000                   0.000000   \n",
       "4                       0.009299                   0.546902   \n",
       "...                          ...                        ...   \n",
       "48739                   0.000000                   0.000000   \n",
       "48740                   0.009299                   0.546902   \n",
       "48741                   0.000000                   3.000000   \n",
       "48742                   0.000000                   0.000000   \n",
       "48743                   0.000000                   1.000000   \n",
       "\n",
       "       AMT_REQ_CREDIT_BUREAU_YEAR  \n",
       "0                        0.000000  \n",
       "1                        3.000000  \n",
       "2                        4.000000  \n",
       "3                        3.000000  \n",
       "4                        1.983769  \n",
       "...                           ...  \n",
       "48739                    1.000000  \n",
       "48740                    1.983769  \n",
       "48741                    1.000000  \n",
       "48742                    2.000000  \n",
       "48743                    4.000000  \n",
       "\n",
       "[48744 rows x 80 columns]"
      ]
     },
     "execution_count": 38,
     "metadata": {},
     "output_type": "execute_result"
    }
   ],
   "source": [
    "test_data1"
   ]
  },
  {
   "cell_type": "markdown",
   "id": "e4b5f06d",
   "metadata": {},
   "source": [
    "The dataset called test_data1 has been thoroughly cleaned and transformed to a state where it's now well-prepared and suitable for both the data exploration process (EDA) and the modeling process."
   ]
  },
  {
   "cell_type": "markdown",
   "id": "c5c7a001",
   "metadata": {},
   "source": [
    "### 9.Joining With Transactional Data"
   ]
  },
  {
   "cell_type": "code",
   "execution_count": 33,
   "id": "172b3f9d",
   "metadata": {},
   "outputs": [],
   "source": [
    "bureau_data = pd.read_csv('bureau.csv')"
   ]
  },
  {
   "cell_type": "markdown",
   "id": "2843c33d",
   "metadata": {},
   "source": [
    "The pd.read_csv() function reads the data from a CSV file named 'bureau.csv' and stores it in a Pandas DataFrame called bureau_data. "
   ]
  },
  {
   "cell_type": "code",
   "execution_count": 34,
   "id": "b23a0389",
   "metadata": {},
   "outputs": [
    {
     "data": {
      "text/html": [
       "<div>\n",
       "<style scoped>\n",
       "    .dataframe tbody tr th:only-of-type {\n",
       "        vertical-align: middle;\n",
       "    }\n",
       "\n",
       "    .dataframe tbody tr th {\n",
       "        vertical-align: top;\n",
       "    }\n",
       "\n",
       "    .dataframe thead th {\n",
       "        text-align: right;\n",
       "    }\n",
       "</style>\n",
       "<table border=\"1\" class=\"dataframe\">\n",
       "  <thead>\n",
       "    <tr style=\"text-align: right;\">\n",
       "      <th></th>\n",
       "      <th>SK_ID_CURR</th>\n",
       "      <th>SK_ID_BUREAU</th>\n",
       "      <th>CREDIT_ACTIVE</th>\n",
       "      <th>CREDIT_CURRENCY</th>\n",
       "      <th>DAYS_CREDIT</th>\n",
       "      <th>CREDIT_DAY_OVERDUE</th>\n",
       "      <th>DAYS_CREDIT_ENDDATE</th>\n",
       "      <th>DAYS_ENDDATE_FACT</th>\n",
       "      <th>AMT_CREDIT_MAX_OVERDUE</th>\n",
       "      <th>CNT_CREDIT_PROLONG</th>\n",
       "      <th>AMT_CREDIT_SUM</th>\n",
       "      <th>AMT_CREDIT_SUM_DEBT</th>\n",
       "      <th>AMT_CREDIT_SUM_LIMIT</th>\n",
       "      <th>AMT_CREDIT_SUM_OVERDUE</th>\n",
       "      <th>CREDIT_TYPE</th>\n",
       "      <th>DAYS_CREDIT_UPDATE</th>\n",
       "      <th>AMT_ANNUITY</th>\n",
       "    </tr>\n",
       "  </thead>\n",
       "  <tbody>\n",
       "    <tr>\n",
       "      <th>0</th>\n",
       "      <td>215354</td>\n",
       "      <td>5714462</td>\n",
       "      <td>Closed</td>\n",
       "      <td>currency 1</td>\n",
       "      <td>-497</td>\n",
       "      <td>0</td>\n",
       "      <td>-153.0</td>\n",
       "      <td>-153.0</td>\n",
       "      <td>NaN</td>\n",
       "      <td>0</td>\n",
       "      <td>91323.0</td>\n",
       "      <td>0.0</td>\n",
       "      <td>NaN</td>\n",
       "      <td>0.0</td>\n",
       "      <td>Consumer credit</td>\n",
       "      <td>-131</td>\n",
       "      <td>NaN</td>\n",
       "    </tr>\n",
       "    <tr>\n",
       "      <th>1</th>\n",
       "      <td>215354</td>\n",
       "      <td>5714463</td>\n",
       "      <td>Active</td>\n",
       "      <td>currency 1</td>\n",
       "      <td>-208</td>\n",
       "      <td>0</td>\n",
       "      <td>1075.0</td>\n",
       "      <td>NaN</td>\n",
       "      <td>NaN</td>\n",
       "      <td>0</td>\n",
       "      <td>225000.0</td>\n",
       "      <td>171342.0</td>\n",
       "      <td>NaN</td>\n",
       "      <td>0.0</td>\n",
       "      <td>Credit card</td>\n",
       "      <td>-20</td>\n",
       "      <td>NaN</td>\n",
       "    </tr>\n",
       "    <tr>\n",
       "      <th>2</th>\n",
       "      <td>215354</td>\n",
       "      <td>5714464</td>\n",
       "      <td>Active</td>\n",
       "      <td>currency 1</td>\n",
       "      <td>-203</td>\n",
       "      <td>0</td>\n",
       "      <td>528.0</td>\n",
       "      <td>NaN</td>\n",
       "      <td>NaN</td>\n",
       "      <td>0</td>\n",
       "      <td>464323.5</td>\n",
       "      <td>NaN</td>\n",
       "      <td>NaN</td>\n",
       "      <td>0.0</td>\n",
       "      <td>Consumer credit</td>\n",
       "      <td>-16</td>\n",
       "      <td>NaN</td>\n",
       "    </tr>\n",
       "    <tr>\n",
       "      <th>3</th>\n",
       "      <td>215354</td>\n",
       "      <td>5714465</td>\n",
       "      <td>Active</td>\n",
       "      <td>currency 1</td>\n",
       "      <td>-203</td>\n",
       "      <td>0</td>\n",
       "      <td>NaN</td>\n",
       "      <td>NaN</td>\n",
       "      <td>NaN</td>\n",
       "      <td>0</td>\n",
       "      <td>90000.0</td>\n",
       "      <td>NaN</td>\n",
       "      <td>NaN</td>\n",
       "      <td>0.0</td>\n",
       "      <td>Credit card</td>\n",
       "      <td>-16</td>\n",
       "      <td>NaN</td>\n",
       "    </tr>\n",
       "    <tr>\n",
       "      <th>4</th>\n",
       "      <td>215354</td>\n",
       "      <td>5714466</td>\n",
       "      <td>Active</td>\n",
       "      <td>currency 1</td>\n",
       "      <td>-629</td>\n",
       "      <td>0</td>\n",
       "      <td>1197.0</td>\n",
       "      <td>NaN</td>\n",
       "      <td>77674.5</td>\n",
       "      <td>0</td>\n",
       "      <td>2700000.0</td>\n",
       "      <td>NaN</td>\n",
       "      <td>NaN</td>\n",
       "      <td>0.0</td>\n",
       "      <td>Consumer credit</td>\n",
       "      <td>-21</td>\n",
       "      <td>NaN</td>\n",
       "    </tr>\n",
       "  </tbody>\n",
       "</table>\n",
       "</div>"
      ],
      "text/plain": [
       "   SK_ID_CURR  SK_ID_BUREAU CREDIT_ACTIVE CREDIT_CURRENCY  DAYS_CREDIT  \\\n",
       "0      215354       5714462        Closed      currency 1         -497   \n",
       "1      215354       5714463        Active      currency 1         -208   \n",
       "2      215354       5714464        Active      currency 1         -203   \n",
       "3      215354       5714465        Active      currency 1         -203   \n",
       "4      215354       5714466        Active      currency 1         -629   \n",
       "\n",
       "   CREDIT_DAY_OVERDUE  DAYS_CREDIT_ENDDATE  DAYS_ENDDATE_FACT  \\\n",
       "0                   0               -153.0             -153.0   \n",
       "1                   0               1075.0                NaN   \n",
       "2                   0                528.0                NaN   \n",
       "3                   0                  NaN                NaN   \n",
       "4                   0               1197.0                NaN   \n",
       "\n",
       "   AMT_CREDIT_MAX_OVERDUE  CNT_CREDIT_PROLONG  AMT_CREDIT_SUM  \\\n",
       "0                     NaN                   0         91323.0   \n",
       "1                     NaN                   0        225000.0   \n",
       "2                     NaN                   0        464323.5   \n",
       "3                     NaN                   0         90000.0   \n",
       "4                 77674.5                   0       2700000.0   \n",
       "\n",
       "   AMT_CREDIT_SUM_DEBT  AMT_CREDIT_SUM_LIMIT  AMT_CREDIT_SUM_OVERDUE  \\\n",
       "0                  0.0                   NaN                     0.0   \n",
       "1             171342.0                   NaN                     0.0   \n",
       "2                  NaN                   NaN                     0.0   \n",
       "3                  NaN                   NaN                     0.0   \n",
       "4                  NaN                   NaN                     0.0   \n",
       "\n",
       "       CREDIT_TYPE  DAYS_CREDIT_UPDATE  AMT_ANNUITY  \n",
       "0  Consumer credit                -131          NaN  \n",
       "1      Credit card                 -20          NaN  \n",
       "2  Consumer credit                 -16          NaN  \n",
       "3      Credit card                 -16          NaN  \n",
       "4  Consumer credit                 -21          NaN  "
      ]
     },
     "execution_count": 34,
     "metadata": {},
     "output_type": "execute_result"
    }
   ],
   "source": [
    "bureau_data.head()"
   ]
  },
  {
   "cell_type": "markdown",
   "id": "54b8eb87",
   "metadata": {},
   "source": [
    "head () function displays the first few rows (by default, the first 5 rows) of the bureau_data DataFrame. \n",
    "It provides a quick preview of the data to understand its structure and contents."
   ]
  },
  {
   "cell_type": "code",
   "execution_count": 35,
   "id": "3ec8e1b0",
   "metadata": {},
   "outputs": [
    {
     "data": {
      "text/html": [
       "<div>\n",
       "<style scoped>\n",
       "    .dataframe tbody tr th:only-of-type {\n",
       "        vertical-align: middle;\n",
       "    }\n",
       "\n",
       "    .dataframe tbody tr th {\n",
       "        vertical-align: top;\n",
       "    }\n",
       "\n",
       "    .dataframe thead th {\n",
       "        text-align: right;\n",
       "    }\n",
       "</style>\n",
       "<table border=\"1\" class=\"dataframe\">\n",
       "  <thead>\n",
       "    <tr style=\"text-align: right;\">\n",
       "      <th></th>\n",
       "      <th>SK_ID_CURR</th>\n",
       "      <th>AMT_CREDIT_SUM_DEBT</th>\n",
       "    </tr>\n",
       "  </thead>\n",
       "  <tbody>\n",
       "    <tr>\n",
       "      <th>0</th>\n",
       "      <td>100001</td>\n",
       "      <td>85240.928571</td>\n",
       "    </tr>\n",
       "    <tr>\n",
       "      <th>1</th>\n",
       "      <td>100002</td>\n",
       "      <td>49156.200000</td>\n",
       "    </tr>\n",
       "    <tr>\n",
       "      <th>2</th>\n",
       "      <td>100003</td>\n",
       "      <td>0.000000</td>\n",
       "    </tr>\n",
       "    <tr>\n",
       "      <th>3</th>\n",
       "      <td>100004</td>\n",
       "      <td>0.000000</td>\n",
       "    </tr>\n",
       "    <tr>\n",
       "      <th>4</th>\n",
       "      <td>100005</td>\n",
       "      <td>189469.500000</td>\n",
       "    </tr>\n",
       "    <tr>\n",
       "      <th>...</th>\n",
       "      <td>...</td>\n",
       "      <td>...</td>\n",
       "    </tr>\n",
       "    <tr>\n",
       "      <th>305806</th>\n",
       "      <td>456249</td>\n",
       "      <td>16307.100000</td>\n",
       "    </tr>\n",
       "    <tr>\n",
       "      <th>305807</th>\n",
       "      <td>456250</td>\n",
       "      <td>744013.365000</td>\n",
       "    </tr>\n",
       "    <tr>\n",
       "      <th>305808</th>\n",
       "      <td>456253</td>\n",
       "      <td>448958.250000</td>\n",
       "    </tr>\n",
       "    <tr>\n",
       "      <th>305809</th>\n",
       "      <td>456254</td>\n",
       "      <td>0.000000</td>\n",
       "    </tr>\n",
       "    <tr>\n",
       "      <th>305810</th>\n",
       "      <td>456255</td>\n",
       "      <td>191864.126250</td>\n",
       "    </tr>\n",
       "  </tbody>\n",
       "</table>\n",
       "<p>305811 rows × 2 columns</p>\n",
       "</div>"
      ],
      "text/plain": [
       "        SK_ID_CURR  AMT_CREDIT_SUM_DEBT\n",
       "0           100001         85240.928571\n",
       "1           100002         49156.200000\n",
       "2           100003             0.000000\n",
       "3           100004             0.000000\n",
       "4           100005        189469.500000\n",
       "...            ...                  ...\n",
       "305806      456249         16307.100000\n",
       "305807      456250        744013.365000\n",
       "305808      456253        448958.250000\n",
       "305809      456254             0.000000\n",
       "305810      456255        191864.126250\n",
       "\n",
       "[305811 rows x 2 columns]"
      ]
     },
     "execution_count": 35,
     "metadata": {},
     "output_type": "execute_result"
    }
   ],
   "source": [
    "# Performing necessary aggregations on bureau_data\n",
    "# Example: Calculate the average of a numerical column 'AMT_CREDIT_SUM_DEBT' grouped by 'SK_ID_CURR'\n",
    "bureau_aggregated = bureau_data.groupby('SK_ID_CURR')['AMT_CREDIT_SUM_DEBT'].mean().reset_index()\n",
    "bureau_aggregated"
   ]
  },
  {
   "cell_type": "markdown",
   "id": "a89f1a81",
   "metadata": {},
   "source": [
    "'bureau_aggregated' will contain a list of unique 'SK_ID_CURR' values along with the corresponding average 'AMT_CREDIT_SUM_DEBT' for each client in the 'bureau_data' DataFrame. This aggregated data can be used for further analysis or combined with other datasets for modeling or exploration."
   ]
  },
  {
   "cell_type": "code",
   "execution_count": 47,
   "id": "e89024be",
   "metadata": {},
   "outputs": [],
   "source": [
    "# Merge the aggregated transactional data with the application data\n",
    "train_data_with_transactions = pd.merge(train_data1, bureau_aggregated, on='SK_ID_CURR', how='left')\n"
   ]
  },
  {
   "cell_type": "markdown",
   "id": "52c5d95f",
   "metadata": {},
   "source": [
    "The merge operation, stored in the 'train_data_with_transactions' DataFrame, will contain all the columns from 'train_data1' plus the aggregated transactional data from 'bureau_aggregated' added based on matching 'SK_ID_CURR' values. This allows you to combine information from different sources into a single dataset for further analysis or modeling."
   ]
  },
  {
   "cell_type": "code",
   "execution_count": 48,
   "id": "71cd6c8a",
   "metadata": {},
   "outputs": [
    {
     "data": {
      "text/plain": [
       "(307511, 82)"
      ]
     },
     "execution_count": 48,
     "metadata": {},
     "output_type": "execute_result"
    }
   ],
   "source": [
    "train_data_with_transactions.shape"
   ]
  },
  {
   "cell_type": "markdown",
   "id": "27cdeb87",
   "metadata": {},
   "source": [
    "It retrieves and prints the shape of the train_data_with_transactions DataFrame, which represents the number of rows and columns in the dataset.Since we have added a column to the Train dataset,number of columns increased from 81 to 82."
   ]
  },
  {
   "cell_type": "code",
   "execution_count": 53,
   "id": "894c659c",
   "metadata": {},
   "outputs": [
    {
     "data": {
      "image/png": "[encoded data removed]",
      "text/plain": [
       "<Figure size 720x432 with 1 Axes>"
      ]
     },
     "metadata": {
      "needs_background": "light"
     },
     "output_type": "display_data"
    }
   ],
   "source": [
    "plt.figure(figsize=(10, 6))\n",
    "sns.boxplot(x='CODE_GENDER', y='AMT_CREDIT_SUM_DEBT', data=train_data_with_transactions[1:75])\n",
    "plt.xlabel('CODE_GENDER')\n",
    "plt.ylabel('AMT_CREDIT_SUM_DEBT')\n",
    "plt.title('AMT_CREDIT_SUM_DEBT by Gender')\n",
    "plt.show()"
   ]
  },
  {
   "cell_type": "markdown",
   "id": "48c86bb1",
   "metadata": {},
   "source": [
    "The boxplot reveals that males tend to have a higher distribution of credit debt ('AMT_CREDIT_SUM_DEBT') compared to females, while females generally have lower credit debt amounts. This visualization allows us to directly compare how credit debt varies between genders, making it straightforward to spot differences or patterns in the data."
   ]
  },
  {
   "cell_type": "markdown",
   "id": "85b64832",
   "metadata": {},
   "source": [
    "### 10.Result"
   ]
  },
  {
   "cell_type": "markdown",
   "id": "e2ebdb66",
   "metadata": {},
   "source": [
    "Age and Default: There is a positive correlation (approximately 0.0782) between the borrower's age and the likelihood of loan default. This means that younger borrowers have a slightly higher chance of defaulting on their loans.\n",
    "\n",
    "External Credit Scores: The 'TARGET' variable has negative correlations with 'EXT_SOURCE_3' and 'EXT_SOURCE_2' (approximately -0.1574 and -0.1603, respectively). Lower external credit scores are associated with a higher likelihood of loan default.\n",
    "\n",
    "Imbalanced Target Variable: The distribution of the 'TARGET' variable in the train_data1 DataFrame shows that most borrowers (282,686) have repaid their loans. This indicates that the dataset's target label is imbalanced, with a majority of non-defaulters.\n",
    "\n",
    "Gender: Females are the highest borrowers, followed by males. There are only four instances of 'XNA' gender. \n",
    "Borrowers:Most clients are laborers, while IT Staff comprises the smallest group. \n",
    "Income:Managers have the highest income, while cleaning staff have the lowest. Laborers face the most difficulty in repaying loans.\n",
    "\n",
    "Safe Borrowers: Lending to realty agents, IT staff, and HR staff appears to be the safest based on the data.\n",
    "\n",
    "Car Ownership: The majority of applicants, both car owners and non-car owners, fall into the '0' category, indicating timely loan repayment. Non-car owners have a slightly higher proportion of non-defaulters.\n",
    "\n",
    "Income Distribution: Comparing the income distribution between non-defaulters ('TARGET = 0') and defaulters ('TARGET = 1'), it's observed that non-defaulters have a higher median income, while defaulters have a lower median income. There are some outliers with higher incomes among defaulters.\n",
    "\n",
    "Gender and Loan Repayment Probability: The probability of loan repayment differs by gender. For male applicants, there is an approximately 89.85% chance of loan repayment. In contrast, female applicants have a higher probability (approximately 93.00%) of repaying loans. This suggests that, in the dataset, female applicants tend to have a slightly better loan repayment rate compared to male applicants."
   ]
  },
  {
   "cell_type": "markdown",
   "id": "2e5b3523",
   "metadata": {},
   "source": [
    "## Completed !"
   ]
  }
 ],
 "metadata": {
  "kernelspec": {
   "display_name": "Python 3 (ipykernel)",
   "language": "python",
   "name": "python3"
  },
  "language_info": {
   "codemirror_mode": {
    "name": "ipython",
    "version": 3
   },
   "file_extension": ".py",
   "mimetype": "text/x-python",
   "name": "python",
   "nbconvert_exporter": "python",
   "pygments_lexer": "ipython3",
   "version": "3.9.12"
  }
 },
 "nbformat": 4,
 "nbformat_minor": 5
}
